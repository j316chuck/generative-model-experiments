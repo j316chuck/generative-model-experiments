{
 "cells": [
  {
   "cell_type": "code",
   "execution_count": 1,
   "metadata": {},
   "outputs": [],
   "source": [
    "import torch \n",
    "import matplotlib.pyplot as plt\n",
    "from run_model import get_dataloader\n",
    "from utils import get_all_amino_acids, get_wild_type_amino_acid_sequence, count_substring_mismatch\n",
    "from rnn import GenerativeRNN\n",
    "from hmm import GenerativeHMM\n",
    "from vae import GenerativeVAE\n",
    "import numpy as np\n",
    "import time\n",
    "import pandas as pd\n",
    "from scipy.stats import skewnorm\n",
    "from utils import hmm_default_args, vae_default_args, rnn_default_args\n",
    "from utils import hmm_default_small_args, vae_default_small_args, rnn_default_small_args\n",
    "from utils import translate, load_data, get_all_dataset_names\n",
    "from sklearn.model_selection import train_test_split\n",
    "import os\n",
    "import subprocess\n",
    "import sys\n",
    "import traceback\n"
   ]
  },
  {
   "cell_type": "markdown",
   "metadata": {},
   "source": [
    "## Generating Random Sequences"
   ]
  },
  {
   "cell_type": "code",
   "execution_count": 2,
   "metadata": {},
   "outputs": [],
   "source": [
    "def generate_mutations_df(base_sequence, mutations_lst, mutation_count_lst, alphabet, \n",
    "                          start_mutation_index=0, end_mutation_index=0, verbose=False):\n",
    "    \"\"\"\n",
    "    Generates a mutated dataframe\n",
    "    :param base_sequence: string, the sequence to be mutated\n",
    "    :param mutations_lst: list, the number of mutations from the base sequence\n",
    "    :param mutation_count_lst: list, defines the number of each mutation count to generate\n",
    "    :param alphabet: string, the entire set of letters in the vocabulary\n",
    "    :param start_mutation_index: int, how many characters to skip at the beginning of the mutation\n",
    "    :param end_mutation_index: int, how many characters to skip at the end of the mutation\n",
    "    :return: a dataframe comprised of three columns: the mutated strings, the number of mutations, the base_sequence\n",
    "    >>> mutations_lst, base_sequence = [1, 2, 3], get_wild_type_amino_acid_sequence()\n",
    "    >>> alphabet, num_per_mutation_count = get_all_amino_acids(), 100\n",
    "    >>> mutated_df = generate_mutations_df(mutations_lst, base_sequence, alphabet, num_per_mutation_count, verbose=False)\n",
    "    >>> for i, row in mutated_df.iterrows():\n",
    "    ...     assert(count_substring_mismatch(row[\"mutated_string\"], row[\"base_sequence\"]) == row[\"mutation_count\"])\n",
    "    \"\"\"\n",
    "    start_time = time.time()\n",
    "    # get index maps\n",
    "    characters_to_index = dict(zip(alphabet, range(len(alphabet))))\n",
    "    index_to_characters = dict(zip(range(len(alphabet)), alphabet))\n",
    "    num_characters = len(alphabet)\n",
    "    total_data_points = sum(mutation_count_lst)        \n",
    "    mutations_per_sequence_lst = np.array([[mutation_count for _ in range(num_mutations)] \n",
    "                                for mutation_count, num_mutations in zip(mutations_lst, mutation_count_lst)]).flatten()\n",
    "    assert(total_data_points < 200000)\n",
    "    assert(len(mutations_lst) == len(mutation_count_lst))\n",
    "    assert(len(mutations_per_sequence_lst) == total_data_points)\n",
    "    mutated_strings_lst = []\n",
    "    for i, mutation_count in enumerate(mutations_per_sequence_lst):\n",
    "        mutated_string = get_mutation(string=base_sequence,\n",
    "                                      num_mutations=mutation_count,\n",
    "                                      num_characters=num_characters,\n",
    "                                      characters_to_index=characters_to_index,\n",
    "                                      index_to_characters=index_to_characters,\n",
    "                                      start_mutation_index=start_mutation_index,\n",
    "                                      end_mutation_index=end_mutation_index)\n",
    "        mutated_strings_lst.append(mutated_string)\n",
    "        if i % 1000 == 0 and verbose:\n",
    "            print(\n",
    "                \"Generated {0}/{1} mutations in {2:.2f} seconds\".format(i, total_data_points, time.time() - start_time))\n",
    "    base_sequences_lst = [base_sequence] * total_data_points\n",
    "    mutated_df = pd.DataFrame.from_dict({\n",
    "        'mutated_string': mutated_strings_lst,\n",
    "        'mutation_count': mutations_per_sequence_lst,\n",
    "        'base_sequence': base_sequences_lst\n",
    "    })\n",
    "    if verbose:\n",
    "        print(\"{0:.2f} seconds to generate the mutated df\".format(time.time() - start_time))\n",
    "    return mutated_df\n",
    "\n",
    "def get_mutation(string, num_mutations, num_characters, characters_to_index, index_to_characters,\n",
    "                 start_mutation_index=0, end_mutation_index=0):\n",
    "    \"\"\"\n",
    "    get a mutation of a string\n",
    "    :param string: the string to be mutated\n",
    "    :param num_mutations: the number of mutations\n",
    "    :param num_characters: the number of characters in alphabet\n",
    "    :param characters_to_index: map from characters in alphabet to index\n",
    "    :param index_to_characters: map from index in alphabet to characters\n",
    "    :param start_mutation_index: how many characters to skip at the beginning of the mutation\n",
    "    :param end_mutation_index: how many characters to skip at the end of the mutation\n",
    "    :return: mutated string\n",
    "    >>> get_mutation(\"AAC\", num_mutations=1, num_characters=2, characters_to_index={\"A\": 0, \"C\": 1}, \\\n",
    "        index_to_characters={0: \"A\", 1: \"C\"}, start_mutation_index=1, end_mutation_index=1)\n",
    "    'ACC'\n",
    "    >>> np.random.seed(1)\n",
    "    >>> get_mutation(\"ACTGA\", num_mutations=2, num_characters=4, characters_to_index={\"A\": 0, \"C\": 1, \"T\": 2, \"G\": 3}, \\\n",
    "        index_to_characters={0: \"A\", 1: \"C\", 2: \"T\", 3: \"G\"}, start_mutation_index=1, end_mutation_index=1)\n",
    "    'ATTAA'\n",
    "    \"\"\"\n",
    "    mutation = list(string)\n",
    "    indexes = np.random.choice(range(start_mutation_index, len(string) - end_mutation_index),\n",
    "                            num_mutations, replace=False)\n",
    "    for i in indexes:\n",
    "        original_c = string[i]\n",
    "        original_index = characters_to_index[original_c]\n",
    "        # mutation by moving the character somewhere else along the possible sequences.\n",
    "        new_index = (original_index + np.random.randint(1, num_characters)) % num_characters\n",
    "        mutation[i] = index_to_characters[new_index]\n",
    "    return \"\".join(mutation)"
   ]
  },
  {
   "cell_type": "code",
   "execution_count": 3,
   "metadata": {},
   "outputs": [],
   "source": [
    "alphabet = get_all_amino_acids()\n",
    "characters_to_index = dict(zip(alphabet, range(len(alphabet))))\n",
    "index_to_characters = dict(zip(range(len(alphabet)), alphabet))"
   ]
  },
  {
   "cell_type": "code",
   "execution_count": 4,
   "metadata": {},
   "outputs": [
    {
     "ename": "ValueError",
     "evalue": "Cannot take a larger sample than population when 'replace=False'",
     "output_type": "error",
     "traceback": [
      "\u001b[0;31m---------------------------------------------------------------------------\u001b[0m",
      "\u001b[0;31mValueError\u001b[0m                                Traceback (most recent call last)",
      "\u001b[0;32m<ipython-input-4-e60e9be9bf35>\u001b[0m in \u001b[0;36m<module>\u001b[0;34m()\u001b[0m\n\u001b[1;32m      1\u001b[0m \u001b[0mwild_type\u001b[0m \u001b[0;34m=\u001b[0m \u001b[0mget_wild_type_amino_acid_sequence\u001b[0m\u001b[0;34m(\u001b[0m\u001b[0;34m)\u001b[0m\u001b[0;34m\u001b[0m\u001b[0;34m\u001b[0m\u001b[0m\n\u001b[0;32m----> 2\u001b[0;31m \u001b[0ms\u001b[0m\u001b[0;34m=\u001b[0m\u001b[0mget_mutation\u001b[0m\u001b[0;34m(\u001b[0m\u001b[0mwild_type\u001b[0m\u001b[0;34m,\u001b[0m \u001b[0;36m238\u001b[0m\u001b[0;34m,\u001b[0m \u001b[0mlen\u001b[0m\u001b[0;34m(\u001b[0m\u001b[0malphabet\u001b[0m\u001b[0;34m)\u001b[0m\u001b[0;34m,\u001b[0m \u001b[0mcharacters_to_index\u001b[0m\u001b[0;34m,\u001b[0m \u001b[0mindex_to_characters\u001b[0m\u001b[0;34m,\u001b[0m \u001b[0;36m0\u001b[0m\u001b[0;34m,\u001b[0m \u001b[0;36m0\u001b[0m\u001b[0;34m)\u001b[0m\u001b[0;34m\u001b[0m\u001b[0;34m\u001b[0m\u001b[0m\n\u001b[0m",
      "\u001b[0;32m<ipython-input-2-437b825eb814>\u001b[0m in \u001b[0;36mget_mutation\u001b[0;34m(string, num_mutations, num_characters, characters_to_index, index_to_characters, start_mutation_index, end_mutation_index)\u001b[0m\n\u001b[1;32m     72\u001b[0m     \u001b[0mmutation\u001b[0m \u001b[0;34m=\u001b[0m \u001b[0mlist\u001b[0m\u001b[0;34m(\u001b[0m\u001b[0mstring\u001b[0m\u001b[0;34m)\u001b[0m\u001b[0;34m\u001b[0m\u001b[0;34m\u001b[0m\u001b[0m\n\u001b[1;32m     73\u001b[0m     indexes = np.random.choice(range(start_mutation_index, len(string) - end_mutation_index),\n\u001b[0;32m---> 74\u001b[0;31m                             num_mutations, replace=False)\n\u001b[0m\u001b[1;32m     75\u001b[0m     \u001b[0;32mfor\u001b[0m \u001b[0mi\u001b[0m \u001b[0;32min\u001b[0m \u001b[0mindexes\u001b[0m\u001b[0;34m:\u001b[0m\u001b[0;34m\u001b[0m\u001b[0;34m\u001b[0m\u001b[0m\n\u001b[1;32m     76\u001b[0m         \u001b[0moriginal_c\u001b[0m \u001b[0;34m=\u001b[0m \u001b[0mstring\u001b[0m\u001b[0;34m[\u001b[0m\u001b[0mi\u001b[0m\u001b[0;34m]\u001b[0m\u001b[0;34m\u001b[0m\u001b[0;34m\u001b[0m\u001b[0m\n",
      "\u001b[0;32mmtrand.pyx\u001b[0m in \u001b[0;36mmtrand.RandomState.choice\u001b[0;34m()\u001b[0m\n",
      "\u001b[0;31mValueError\u001b[0m: Cannot take a larger sample than population when 'replace=False'"
     ]
    }
   ],
   "source": [
    "wild_type = get_wild_type_amino_acid_sequence()\n",
    "s=get_mutation(wild_type, 238, len(alphabet), characters_to_index, index_to_characters, 0, 0)"
   ]
  },
  {
   "cell_type": "code",
   "execution_count": 115,
   "metadata": {},
   "outputs": [
    {
     "name": "stdout",
     "output_type": "stream",
     "text": [
      "Mismatches: 238\n",
      "AFRLANQFAAAITPLFPI*LWKEVRPFGCLWKD*GQNSAMNPGHNEIQWAVKGNLADNIFRVGPVRMPESQMVNKVGGRSRGPHQDAGNPECWSYFP*YYFP*SRWFDG*CNRRKHKIQRQWVVASD*MFSVTAAMKMFGTC*VRK*CPIWDDLYFMWFWFDMVT**KFNACMFDSQPVTWLHKQDSHITQYTMCWARSKGWRFGRETTKQSHEMEYEPSFHTLMIKACVVN*DPWPK\n"
     ]
    }
   ],
   "source": [
    "print(\"Mismatches:\", count_substring_mismatch(s, wild_type))\n",
    "print(s)"
   ]
  },
  {
   "cell_type": "code",
   "execution_count": 124,
   "metadata": {},
   "outputs": [
    {
     "name": "stdout",
     "output_type": "stream",
     "text": [
      "Generated 0/1000 mutations in 0.00 seconds\n",
      "0.13 seconds to generate the mutated df\n"
     ]
    }
   ],
   "source": [
    "mutations_lst = [1, 2, 3, 4, 5, 6, 7, 8, 9, 10]\n",
    "mutations_count = [100] * 10\n",
    "base_sequence = wild_type\n",
    "alphabet = get_all_amino_acids() \n",
    "num_per_mutation_count = 1000\n",
    "start_mutation_index = 5\n",
    "end_mutation_index = 5\n",
    "mutated_df = generate_mutations_df(base_sequence, mutations_lst, mutations_count, alphabet, start_mutation_index, end_mutation_index, verbose=True)"
   ]
  },
  {
   "cell_type": "code",
   "execution_count": 127,
   "metadata": {},
   "outputs": [],
   "source": [
    "for i, row in mutated_df.iterrows():\n",
    "    assert(count_substring_mismatch(row[\"mutated_string\"], row[\"base_sequence\"]) == row[\"mutation_count\"])\n",
    "    assert(count_substring_mismatch(row[\"mutated_string\"][:start_mutation_index], row[\"base_sequence\"][:start_mutation_index]) == 0)\n",
    "    assert(count_substring_mismatch(row[\"mutated_string\"][-end_mutation_index:], row[\"base_sequence\"][-end_mutation_index:]) == 0)"
   ]
  },
  {
   "cell_type": "code",
   "execution_count": 126,
   "metadata": {},
   "outputs": [
    {
     "name": "stdout",
     "output_type": "stream",
     "text": [
      "(1000, 3)\n"
     ]
    }
   ],
   "source": [
    "print(mutated_df.shape)"
   ]
  },
  {
   "cell_type": "code",
   "execution_count": 129,
   "metadata": {},
   "outputs": [
    {
     "name": "stdout",
     "output_type": "stream",
     "text": [
      "Generated 0/10000 mutations in 0.00 seconds\n",
      "Generated 1000/10000 mutations in 0.08 seconds\n",
      "Generated 2000/10000 mutations in 0.14 seconds\n",
      "Generated 3000/10000 mutations in 0.20 seconds\n",
      "Generated 4000/10000 mutations in 0.26 seconds\n",
      "Generated 5000/10000 mutations in 0.33 seconds\n",
      "Generated 6000/10000 mutations in 0.39 seconds\n",
      "Generated 7000/10000 mutations in 0.45 seconds\n",
      "Generated 8000/10000 mutations in 0.54 seconds\n",
      "Generated 9000/10000 mutations in 0.62 seconds\n",
      "0.69 seconds to generate the mutated df\n"
     ]
    }
   ],
   "source": [
    "from sklearn.model_selection import train_test_split\n",
    "\n",
    "mutations_lst = range(10)\n",
    "mutations_count = [1000] * 10\n",
    "name = \"synthetic_data_length_20_uniform\"\n",
    "base_sequence = \"GYSSASKIIFGSGTRLSIRP\"\n",
    "alphabet = get_all_amino_acids()\n",
    "start_mutation_index = 1\n",
    "end_mutation_index = 1\n",
    "mutated_df = generate_mutations_df(base_sequence, mutations_lst, mutations_count, alphabet,\n",
    "                                   start_mutation_index, end_mutation_index, verbose=True)\n",
    "mutated_df = mutated_df.sample(frac=1).reset_index(drop=True)\n",
    "mutated_df.to_csv(name + \".csv\")\n",
    "x_train, x_test = train_test_split(mutated_df, test_size = 0.5)"
   ]
  },
  {
   "cell_type": "code",
   "execution_count": 132,
   "metadata": {},
   "outputs": [],
   "source": [
    "np.save(name + \"_x_train.npy\", x_train)\n",
    "np.save(name + \"_x_test.npy\", x_test)"
   ]
  },
  {
   "cell_type": "markdown",
   "metadata": {},
   "source": [
    "## Discrete Gaussian Distributions"
   ]
  },
  {
   "cell_type": "code",
   "execution_count": 262,
   "metadata": {},
   "outputs": [],
   "source": [
    "def generate_discrete_gaussian_distribution(num_values, mean=5.5, std=2, low=1, high=10):\n",
    "    \"\"\"\n",
    "    generates a discrete gaussian distribution\n",
    "    :param num_values: int, number of samples to take from discrete distribution\n",
    "    :param mean: float, mean of gaussian\n",
    "    :param std: float, standard deviation of gaussian\n",
    "    :param low: int, lowest value the discrete distribution will have\n",
    "    :param high: int, highest value the discrete distribution will have\n",
    "    :return: gaussian_lst, list, list of values in distributions\n",
    "            bins, dict, map between the values and counts in distribution\n",
    "    >>> np.random.seed(1)\n",
    "    >>> generate_discrete_gaussian_distribution(10, 0, 1, -4, 4)[0]\n",
    "    [2.0, -1.0, -1.0, -1.0, 1.0, -2.0, 2.0, -1.0, 0.0, -0.0]\n",
    "    >>> generate_discrete_gaussian_distribution(10, 0, 1, -4, 4)[1]\n",
    "    {-4: 0.0, -3: 0.0, -2: 1.0, -1: 2.0, 0: 4.0, 1: 3.0, 2: 0.0, 3: 0.0, 4: 0.0}\n",
    "    \"\"\"\n",
    "    normal_lst = np.random.normal(loc=mean, scale=std, size=num_values)\n",
    "    bins = dict(zip(list(range(low, high + 1)), np.zeros(high - low + 1)))\n",
    "    gaussian_lst = []\n",
    "    for x in normal_lst:\n",
    "        if x <= low:\n",
    "            gaussian_lst.append(low)\n",
    "            bins[low] += 1\n",
    "        elif x >= high:\n",
    "            gaussian_lst.append(high)\n",
    "            bins[high] += 1\n",
    "        else:\n",
    "            gaussian_lst.append(round(x))\n",
    "            bins[round(x)] += 1\n",
    "    return gaussian_lst, bins"
   ]
  },
  {
   "cell_type": "code",
   "execution_count": 266,
   "metadata": {},
   "outputs": [
    {
     "name": "stdout",
     "output_type": "stream",
     "text": [
      "{1: 246.0, 2: 426.0, 3: 848.0, 4: 1465.0, 5: 1973.0, 6: 1935.0, 7: 1537.0, 8: 888.0, 9: 453.0, 10: 229.0}\n"
     ]
    },
    {
     "data": {
      "text/plain": [
       "[<matplotlib.lines.Line2D at 0x1111267f0>]"
      ]
     },
     "execution_count": 266,
     "metadata": {},
     "output_type": "execute_result"
    },
    {
     "data": {
      "image/png": "[encoded data removed]",
      "text/plain": [
       "<Figure size 432x288 with 1 Axes>"
      ]
     },
     "metadata": {},
     "output_type": "display_data"
    }
   ],
   "source": [
    "hist = generate_discrete_gaussian_distribution(10000, 5.5, 2, 1, 10)[1]\n",
    "print(hist)\n",
    "plt.plot(hist.keys(), hist.values())"
   ]
  },
  {
   "cell_type": "code",
   "execution_count": 270,
   "metadata": {},
   "outputs": [],
   "source": [
    "def generate_discrete_skewed_gaussian_distribution(num_values, a=4, mean=5.5, std=2, low=1, high=10):\n",
    "    \"\"\"\n",
    "    generates a discrete skewed gaussian distribution\n",
    "    :param num_values: int, number of samples to take from discrete distribution\n",
    "    :param a: float, skew of the distribution, positive is right leaning, negative is left learning\n",
    "    :param mean: float, mean of gaussian\n",
    "    :param std: int, standard deviation of gaussian\n",
    "    :param low: int, lowest value the discrete distribution will have\n",
    "    :param high: int, highest value the discrete distribution will have\n",
    "    :return: skewed_gaussian_lst, list, list of values in distributions\n",
    "            bins, dict, map between the values and counts in distribution\n",
    "    >>> np.random.seed(1)\n",
    "    >>> generate_discrete_skewed_gaussian_distribution(num_values=10, a=4, mean=0, std=1, low=-4, high=4)[0]\n",
    "    [2.0, 1.0, 1.0, 1.0, 1.0, 2.0, 2.0, 1.0, 0.0, 0.0]\n",
    "    >>> generate_discrete_skewed_gaussian_distribution(num_values=10, a=4, mean=0, std=1, low=-4, high=4)[1]\n",
    "    {-4: 0.0, -3: 0.0, -2: 0.0, -1: 0.0, 0: 3.0, 1: 7.0, 2: 0.0, 3: 0.0, 4: 0.0}\n",
    "    \"\"\"\n",
    "    skewed_lst = skewnorm(a=a, loc=mean, scale=std).rvs(num_values)\n",
    "    bins = dict(zip(list(range(low, high + 1)), np.zeros(high - low + 1)))\n",
    "    skewed_gaussian_lst = []\n",
    "    for x in skewed_lst:\n",
    "        if x <= low:\n",
    "            skewed_gaussian_lst.append(low)\n",
    "            bins[low] += 1\n",
    "        elif x >= high:\n",
    "            skewed_gaussian_lst.append(high)\n",
    "            bins[high] += 1\n",
    "        else:\n",
    "            skewed_gaussian_lst.append(round(x))\n",
    "            bins[round(x)] += 1\n",
    "    return skewed_gaussian_lst, bins"
   ]
  },
  {
   "cell_type": "code",
   "execution_count": 271,
   "metadata": {},
   "outputs": [
    {
     "name": "stdout",
     "output_type": "stream",
     "text": [
      "{1: 5.0, 2: 342.0, 3: 2028.0, 4: 3065.0, 5: 2418.0, 6: 1366.0, 7: 545.0, 8: 181.0, 9: 39.0, 10: 11.0}\n"
     ]
    },
    {
     "data": {
      "text/plain": [
       "[<matplotlib.lines.Line2D at 0x11129d2e8>]"
      ]
     },
     "execution_count": 271,
     "metadata": {},
     "output_type": "execute_result"
    },
    {
     "data": {
      "image/png": "[encoded data removed]",
      "text/plain": [
       "<Figure size 432x288 with 1 Axes>"
      ]
     },
     "metadata": {},
     "output_type": "display_data"
    }
   ],
   "source": [
    "hist = generate_discrete_skewed_gaussian_distribution(10000, 3, 3, 2, 1, 10)[1]\n",
    "print(hist)\n",
    "plt.plot(hist.keys(), hist.values())"
   ]
  },
  {
   "cell_type": "code",
   "execution_count": 294,
   "metadata": {},
   "outputs": [],
   "source": [
    "def generate_discrete_uniform_distribution(num_values, low=1, high=10):\n",
    "    \"\"\"\n",
    "    generates a discrete uniform distribution\n",
    "    :param num_values: int, number of samples to take from discrete distribution\n",
    "    :param low: int, lowest value the discrete distribution will have\n",
    "    :param high: int, highest value the discrete distribution will have\n",
    "    :return: uniform_lst, list, list of values in distribution\n",
    "            bins, dict, map between the values and counts in distribution\n",
    "    >>> generate_discrete_uniform_distribution(num_values=10, low=1, high=10)[0]\n",
    "    [2.0, 1.0, 1.0, 1.0, 1.0, 2.0, 2.0, 1.0, 0.0, 0.0]\n",
    "    >>> generate_discrete_uniform_distribution(num_values=10, low=1, high=10)[1]\n",
    "    {-4: 0.0, -3: 0.0, -2: 0.0, -1: 0.0, 0: 3.0, 1: 7.0, 2: 0.0, 3: 0.0, 4: 0.0}\n",
    "    \"\"\"\n",
    "    uniform_lst = np.random.choice(range(low, high + 1), num_values, replace=True)\n",
    "    bins = dict(zip(list(range(low, high + 1)), np.zeros(high - low + 1)))\n",
    "    for x in uniform_lst: \n",
    "        bins[x] += 1\n",
    "    return uniform_lst, bins"
   ]
  },
  {
   "cell_type": "code",
   "execution_count": 303,
   "metadata": {},
   "outputs": [
    {
     "name": "stdout",
     "output_type": "stream",
     "text": [
      "{1: 1033.0, 2: 1006.0, 3: 988.0, 4: 1015.0, 5: 1008.0, 6: 955.0, 7: 970.0, 8: 1032.0, 9: 984.0, 10: 1009.0}\n"
     ]
    },
    {
     "data": {
      "text/plain": [
       "([<matplotlib.axis.YTick at 0x111a1c438>,\n",
       "  <matplotlib.axis.YTick at 0x111a16d30>,\n",
       "  <matplotlib.axis.YTick at 0x111a0dd68>,\n",
       "  <matplotlib.axis.YTick at 0x111a32c18>,\n",
       "  <matplotlib.axis.YTick at 0x111a3b160>,\n",
       "  <matplotlib.axis.YTick at 0x111a3b630>,\n",
       "  <matplotlib.axis.YTick at 0x111a3bb00>,\n",
       "  <matplotlib.axis.YTick at 0x111aa40b8>,\n",
       "  <matplotlib.axis.YTick at 0x111aa4550>,\n",
       "  <matplotlib.axis.YTick at 0x111aa4a58>],\n",
       " <a list of 10 Text yticklabel objects>)"
      ]
     },
     "execution_count": 303,
     "metadata": {},
     "output_type": "execute_result"
    },
    {
     "data": {
      "image/png": "[encoded data removed]",
      "text/plain": [
       "<Figure size 432x288 with 1 Axes>"
      ]
     },
     "metadata": {},
     "output_type": "display_data"
    }
   ],
   "source": [
    "hist = generate_discrete_uniform_distribution(10000, 1, 10)[1]\n",
    "print(hist)\n",
    "plt.plot(hist.keys(), hist.values())\n",
    "plt.yticks(list(range(0, 2000, 200)))"
   ]
  },
  {
   "cell_type": "code",
   "execution_count": 286,
   "metadata": {},
   "outputs": [
    {
     "data": {
      "text/plain": [
       "array([1, 2, 2, 2, 1, 2, 3, 4, 5])"
      ]
     },
     "execution_count": 286,
     "metadata": {},
     "output_type": "execute_result"
    }
   ],
   "source": [
    "np.digitize([1, 2, 2, 2, 1, 2, 3, 4, 5], bins = [1, 2, 3, 4, 5, 6, 7, 8, 9, 10])"
   ]
  },
  {
   "cell_type": "markdown",
   "metadata": {},
   "source": [
    "## Script Commands"
   ]
  },
  {
   "cell_type": "code",
   "execution_count": 34,
   "metadata": {},
   "outputs": [
    {
     "name": "stdout",
     "output_type": "stream",
     "text": [
      "# hmm_default_medium\n",
      "python3 run_model.py --model_type hmm --base_log logs/gfp/hmm/ --name hmm_default_medium --input 4998 --hidden_size 50 --latent_dim -1 --seq_length 238 --pseudo_count 1 --n_jobs 1 --device cpu --learning_rate 0.001 --epochs 100 --batch_size 10 --layers 1 --dataset gfp --num_data 1000 --early_stopping True --patience 10 \n",
      "# rnn_default_medium\n",
      "python3 run_model.py --model_type rnn --base_log logs/gfp/rnn/ --name rnn_default_medium --input 4998 --hidden_size 200 --latent_dim -1 --seq_length 238 --pseudo_count 1 --n_jobs 1 --device cpu --learning_rate 0.001 --epochs 100 --batch_size 10 --layers 1 --dataset gfp --num_data 1000 --early_stopping True --patience 10 \n",
      "# vae_default_medium\n",
      "python3 run_model.py --model_type vae --base_log logs/gfp/vae/ --name vae_default_medium --input 4998 --hidden_size 200 --latent_dim 20 --seq_length 238 --pseudo_count 1 --n_jobs 1 --device cpu --learning_rate 0.001 --epochs 100 --batch_size 10 --layers 1 --dataset gfp --num_data 1000 --early_stopping True --patience 10 \n"
     ]
    }
   ],
   "source": [
    "for mp in [hmm_default_args(), rnn_default_args(), vae_default_args()]:\n",
    "    command = \"python3 run_model.py \"\n",
    "    for key, value in mp.items():\n",
    "        command += \"--{0} {1} \".format(key, value)\n",
    "    print(\"#\", mp[\"name\"])\n",
    "    print(command)"
   ]
  },
  {
   "cell_type": "code",
   "execution_count": 35,
   "metadata": {},
   "outputs": [
    {
     "name": "stdout",
     "output_type": "stream",
     "text": [
      "# hmm_default_small\n",
      "python3 run_model.py --model_type hmm --base_log logs/gfp/hmm/ --name hmm_default_small --input 4998 --hidden_size 20 --latent_dim -1 --seq_length 238 --pseudo_count 1 --n_jobs 1 --device cpu --learning_rate 0.001 --epochs 10 --batch_size 10 --layers 1 --dataset gfp --num_data 100 --early_stopping True --patience 10 \n",
      "# rnn_default_small\n",
      "python3 run_model.py --model_type rnn --base_log logs/gfp/rnn/ --name rnn_default_small --input 4998 --hidden_size 50 --latent_dim -1 --seq_length 238 --pseudo_count 1 --n_jobs 1 --device cpu --learning_rate 0.001 --epochs 10 --batch_size 10 --layers 1 --dataset gfp --num_data 100 --early_stopping True --patience 10 \n",
      "# vae_default_small\n",
      "python3 run_model.py --model_type vae --base_log logs/gfp/vae/ --name vae_default_small --input 4998 --hidden_size 50 --latent_dim 20 --seq_length 238 --pseudo_count 1 --n_jobs 1 --device cpu --learning_rate 0.001 --epochs 10 --batch_size 10 --layers 1 --dataset gfp --num_data 100 --early_stopping True --patience 10 \n"
     ]
    }
   ],
   "source": [
    "for mp in [hmm_default_small_args(), rnn_default_small_args(), vae_default_small_args()]:\n",
    "    command = \"python3 run_model.py \"\n",
    "    for key, value in mp.items():\n",
    "        command += \"--{0} {1} \".format(key, value)\n",
    "    print(\"#\", mp[\"name\"])\n",
    "    print(command)"
   ]
  },
  {
   "cell_type": "code",
   "execution_count": 30,
   "metadata": {},
   "outputs": [],
   "source": [
    "logger=open(\"./scripts/synthetic_unimodal_small_script.sh\", \"w\")\n",
    "num_commands = 0\n",
    "for mp in [vae_default_small_args(), rnn_default_small_args(), hmm_default_small_args()]:\n",
    "    for i, data_set_description in pd.read_csv(\"./data/dataset_descriptions.csv\").iterrows():\n",
    "        if \"unimodal\" not in data_set_description[\"dataset\"]:\n",
    "            continue\n",
    "        command = \"python3 run_model.py \"\n",
    "        mp[\"dataset\"] = data_set_description[\"dataset\"]\n",
    "        mp[\"base_log\"] = os.path.join(\"logs\", mp[\"dataset\"], mp[\"model_type\"])\n",
    "        mp[\"seq_length\"] = data_set_description[\"sequence_length\"]\n",
    "        mp[\"input\"] = len(get_all_amino_acids(gap=False)) * mp[\"seq_length\"]\n",
    "        for key, value in mp.items():\n",
    "            command += \"--{0} {1} \".format(key, value)\n",
    "        print(command, file=logger)\n",
    "        num_commands += 1\n",
    "assert(num_commands == 27)\n",
    "logger.close()\n",
    "# python3 run_model.py --model_type vae --base_log logs/synthetic_unimodal_data_length_20_uniform/vae/ --name vae_default_small --input 400 --hidden_size 50 --latent_dim 20 --seq_length 20 --pseudo_count 1 --n_jobs 1 --device cpu --learning_rate 0.001 --epochs 100 --batch_size 10 --layers 1 --dataset synthetic_unimodal_data_length_20_uniform --num_data 1000"
   ]
  },
  {
   "cell_type": "code",
   "execution_count": 31,
   "metadata": {},
   "outputs": [],
   "source": [
    "logger=open(\"./scripts/synthetic_unimodal_medium_script.sh\", \"w\")\n",
    "num_commands = 0\n",
    "for mp in [vae_default_args(), rnn_default_args(), hmm_default_args()]:\n",
    "    for i, data_set_description in pd.read_csv(\"./data/dataset_descriptions.csv\").iterrows():\n",
    "        if \"unimodal\" not in data_set_description[\"dataset\"]:\n",
    "            continue\n",
    "        command = \"python3 run_model.py \"\n",
    "        mp[\"dataset\"] = data_set_description[\"dataset\"]\n",
    "        mp[\"base_log\"] = os.path.join(\"logs\", mp[\"dataset\"], mp[\"model_type\"])\n",
    "        mp[\"seq_length\"] = data_set_description[\"sequence_length\"]\n",
    "        mp[\"input\"] = len(get_all_amino_acids(gap=False)) * mp[\"seq_length\"]\n",
    "        for key, value in mp.items():\n",
    "            command += \"--{0} {1} \".format(key, value)\n",
    "        print(command, file=logger)\n",
    "        num_commands += 1\n",
    "assert(num_commands == 27)\n",
    "logger.close()\n",
    "# python3 run_model.py --model_type vae --base_log logs/synthetic_unimodal_data_length_20_uniform/vae/ --name vae_default_small --input 400 --hidden_size 50 --latent_dim 20 --seq_length 20 --pseudo_count 1 --n_jobs 1 --device cpu --learning_rate 0.001 --epochs 100 --batch_size 10 --layers 1 --dataset synthetic_unimodal_data_length_20_uniform --num_data 1000"
   ]
  },
  {
   "cell_type": "code",
   "execution_count": 8,
   "metadata": {},
   "outputs": [],
   "source": [
    "num_commands = 0\n",
    "for mp in [vae_default_small_args(), rnn_default_small_args(), hmm_default_small_args()]:\n",
    "    logger=open(\"./scripts/{0}_unimodal_small_script.sh\".format(mp[\"model_type\"]), \"w+\")\n",
    "    for i, data_set_description in pd.read_csv(\"./data/dataset_descriptions.csv\").iterrows():\n",
    "        if \"unimodal\" not in data_set_description[\"dataset\"]:\n",
    "            continue\n",
    "        command = \"python3 run_model.py \"\n",
    "        mp[\"dataset\"] = data_set_description[\"dataset\"]\n",
    "        mp[\"base_log\"] = os.path.join(\"logs\", mp[\"dataset\"], mp[\"model_type\"])\n",
    "        mp[\"seq_length\"] = data_set_description[\"sequence_length\"]\n",
    "        mp[\"input\"] = len(get_all_amino_acids(gap=False)) * mp[\"seq_length\"]\n",
    "        for key, value in mp.items():\n",
    "            command += \"--{0} {1} \".format(key, value)\n",
    "        print(command, file=logger)\n",
    "        num_commands += 1\n",
    "    logger.close()\n",
    "assert(num_commands == 27)\n",
    "# python3 run_model.py --model_type vae --base_log logs/synthetic_unimodal_data_length_20_uniform/vae/ --name vae_default_small --input 400 --hidden_size 50 --latent_dim 20 --seq_length 20 --pseudo_count 1 --n_jobs 1 --device cpu --learning_rate 0.001 --epochs 100 --batch_size 10 --layers 1 --dataset synthetic_unimodal_data_length_20_uniform --num_data 1000"
   ]
  },
  {
   "cell_type": "code",
   "execution_count": 32,
   "metadata": {},
   "outputs": [],
   "source": [
    "logger = open(\"./scripts/synthetic_multimodal_medium_script.sh\", \"w\")\n",
    "num_commands = 0\n",
    "for mp in [vae_default_args(), rnn_default_args(), hmm_default_args()]:\n",
    "    for i, data_set_description in pd.read_csv(\"./data/dataset_descriptions.csv\").iterrows():\n",
    "        if \"multimodal\" not in data_set_description[\"dataset\"]:\n",
    "            continue\n",
    "        command = \"python3 run_model.py \"\n",
    "        mp[\"dataset\"] = data_set_description[\"dataset\"]\n",
    "        mp[\"base_log\"] = os.path.join(\"logs\", mp[\"dataset\"], mp[\"model_type\"])\n",
    "        mp[\"seq_length\"] = data_set_description[\"sequence_length\"]\n",
    "        mp[\"input\"] = len(get_all_amino_acids(gap=False)) * mp[\"seq_length\"]\n",
    "        for key, value in mp.items():\n",
    "            command += \"--{0} {1} \".format(key, value)\n",
    "        print(command, file=logger)\n",
    "        num_commands += 1\n",
    "assert(num_commands == 9)\n",
    "logger.close()\n",
    "# python3 run_model.py --model_type vae --base_log logs/synthetic_unimodal_data_length_20_uniform/vae/ --name vae_default_small --input 400 --hidden_size 50 --latent_dim 20 --seq_length 20 --pseudo_count 1 --n_jobs 1 --device cpu --learning_rate 0.001 --epochs 100 --batch_size 10 --layers 1 --dataset synthetic_unimodal_data_length_20_uniform --num_data 1000"
   ]
  },
  {
   "cell_type": "code",
   "execution_count": 33,
   "metadata": {},
   "outputs": [],
   "source": [
    "logger = open(\"./scripts/synthetic_multimodal_small_script.sh\", \"w\")\n",
    "num_commands = 0\n",
    "for i, data_set_description in pd.read_csv(\"./data/dataset_descriptions.csv\").iterrows():\n",
    "    for mp in [vae_default_small_args(), rnn_default_small_args(), hmm_default_small_args()]:\n",
    "        if \"multimodal\" not in data_set_description[\"dataset\"]:\n",
    "            continue\n",
    "        command = \"python3 run_model.py \"\n",
    "        mp[\"dataset\"] = data_set_description[\"dataset\"]\n",
    "        mp[\"base_log\"] = os.path.join(\"logs\", mp[\"dataset\"], mp[\"model_type\"])\n",
    "        mp[\"seq_length\"] = data_set_description[\"sequence_length\"]\n",
    "        mp[\"input\"] = len(get_all_amino_acids(gap=False)) * mp[\"seq_length\"]\n",
    "        for key, value in mp.items():\n",
    "            command += \"--{0} {1} \".format(key, value)\n",
    "        print(command, file=logger)\n",
    "        num_commands += 1\n",
    "assert(num_commands == 9)\n",
    "logger.close()\n",
    "# python3 run_model.py --model_type vae --base_log logs/synthetic_unimodal_data_length_20_uniform/vae/ --name vae_default_small --input 400 --hidden_size 50 --latent_dim 20 --seq_length 20 --pseudo_count 1 --n_jobs 1 --device cpu --learning_rate 0.001 --epochs 100 --batch_size 10 --layers 1 --dataset synthetic_unimodal_data_length_20_uniform --num_data 1000"
   ]
  },
  {
   "cell_type": "markdown",
   "metadata": {},
   "source": [
    "## Load Model Tests and Examples"
   ]
  },
  {
   "cell_type": "code",
   "execution_count": 49,
   "metadata": {},
   "outputs": [],
   "source": [
    "args = hmm_default_small_args()\n",
    "train, test, valid = get_dataloader(args)\n",
    "hmm = GenerativeHMM(args)"
   ]
  },
  {
   "cell_type": "code",
   "execution_count": 50,
   "metadata": {},
   "outputs": [],
   "source": [
    "hmm.load_model(\"./logs/gfp/hmm/hmm_default_small/hmm_default_small_saved_model\")"
   ]
  },
  {
   "cell_type": "code",
   "execution_count": 51,
   "metadata": {},
   "outputs": [
    {
     "name": "stdout",
     "output_type": "stream",
     "text": [
      "Average neg log prob: 643.8108\n",
      "Average neg log prob: 644.5363\n",
      "Average neg log prob: 644.3261\n"
     ]
    },
    {
     "data": {
      "text/plain": [
       "644.3261382530319"
      ]
     },
     "execution_count": 51,
     "metadata": {},
     "output_type": "execute_result"
    }
   ],
   "source": [
    "hmm.evaluate(dataloader=train, verbose=True)\n",
    "hmm.evaluate(dataloader=valid, verbose=True)\n",
    "hmm.evaluate(dataloader=test, verbose=True)"
   ]
  },
  {
   "cell_type": "code",
   "execution_count": 52,
   "metadata": {},
   "outputs": [
    {
     "name": "stdout",
     "output_type": "stream",
     "text": [
      "total loss: 141.1837\n",
      "total loss: 147.8163\n",
      "total loss: 146.6423\n"
     ]
    },
    {
     "data": {
      "text/plain": [
       "146.64228515625"
      ]
     },
     "execution_count": 52,
     "metadata": {},
     "output_type": "execute_result"
    }
   ],
   "source": [
    "args = rnn_default_small_args()\n",
    "train, test, valid = get_dataloader(args)\n",
    "rnn = GenerativeRNN(args)\n",
    "rnn.load_model(\"./logs/gfp/rnn/rnn_default_small/rnn_default_small_saved_model\", initial_probs=True)\n",
    "rnn.evaluate(dataloader=train, verbose=True)\n",
    "rnn.evaluate(dataloader=valid, verbose=True)\n",
    "rnn.evaluate(dataloader=test, verbose=True)"
   ]
  },
  {
   "cell_type": "code",
   "execution_count": 53,
   "metadata": {},
   "outputs": [
    {
     "name": "stdout",
     "output_type": "stream",
     "text": [
      "total loss: 45.6191 cross entropy loss: 30.0420. kld loss: 15.5770\n",
      "total loss: 48.6362 cross entropy loss: 33.0811. kld loss: 15.5551\n",
      "total loss: 48.0014 cross entropy loss: 32.4644. kld loss: 15.5370\n"
     ]
    },
    {
     "data": {
      "text/plain": [
       "(48.001426696777344, 32.464420318603516, 15.537006378173828)"
      ]
     },
     "execution_count": 53,
     "metadata": {},
     "output_type": "execute_result"
    }
   ],
   "source": [
    "args = vae_default_small_args()\n",
    "train, test, valid = get_dataloader(args)\n",
    "vae = GenerativeVAE(args)\n",
    "vae.load_model(\"./logs/gfp/vae/vae_default_small/vae_default_small_saved_model\", initial_probs=True)\n",
    "vae.evaluate(dataloader=train, verbose=True)\n",
    "vae.evaluate(dataloader=valid, verbose=True)\n",
    "vae.evaluate(dataloader=test, verbose=True)"
   ]
  },
  {
   "cell_type": "code",
   "execution_count": 54,
   "metadata": {},
   "outputs": [
    {
     "name": "stdout",
     "output_type": "stream",
     "text": [
      "total loss: 32.8738 cross entropy loss: 26.6793. kld loss: 6.1945\n",
      "total loss: 33.3337 cross entropy loss: 27.1171. kld loss: 6.2166\n",
      "total loss: 32.7038 cross entropy loss: 26.5114. kld loss: 6.1924\n",
      "total loss: 28.3956 cross entropy loss: 25.3037. kld loss: 3.0919\n",
      "total loss: 28.4135 cross entropy loss: 25.2355. kld loss: 3.1780\n",
      "total loss: 28.0267 cross entropy loss: 24.8950. kld loss: 3.1317\n",
      "total loss: 32.7605 cross entropy loss: 26.5660. kld loss: 6.1945\n",
      "total loss: 32.9785 cross entropy loss: 26.7619. kld loss: 6.2166\n",
      "total loss: 32.5586 cross entropy loss: 26.3662. kld loss: 6.1924\n"
     ]
    },
    {
     "data": {
      "text/plain": [
       "(32.55861282348633, 26.366209030151367, 6.1924028396606445)"
      ]
     },
     "execution_count": 54,
     "metadata": {},
     "output_type": "execute_result"
    }
   ],
   "source": [
    "args = vae_default_args()\n",
    "train, test, valid = get_dataloader(args)\n",
    "vae = GenerativeVAE(args)\n",
    "vae.load_model(\"./logs/gfp/vae/vae_default_medium/vae_default_medium_saved_model\")\n",
    "vae.evaluate(dataloader=train, verbose=True)\n",
    "vae.evaluate(dataloader=valid, verbose=True)\n",
    "vae.evaluate(dataloader=test, verbose=True)\n",
    "vae.load_model(\"./logs/gfp/vae/vae_default_medium/vae_checkpoint_50.pt\")\n",
    "vae.evaluate(dataloader=train, verbose=True)\n",
    "vae.evaluate(dataloader=valid, verbose=True)\n",
    "vae.evaluate(dataloader=test, verbose=True)\n",
    "vae.load_model(\"./logs/gfp/vae/vae_default_medium/vae_checkpoint_100.pt\")\n",
    "vae.evaluate(dataloader=train, verbose=True)\n",
    "vae.evaluate(dataloader=valid, verbose=True)\n",
    "vae.evaluate(dataloader=test, verbose=True)"
   ]
  },
  {
   "cell_type": "markdown",
   "metadata": {},
   "source": [
    "## GFP Data checks"
   ]
  },
  {
   "cell_type": "code",
   "execution_count": 2,
   "metadata": {},
   "outputs": [],
   "source": [
    "df = pd.read_csv(\"./data/gfp_data.csv\")"
   ]
  },
  {
   "cell_type": "code",
   "execution_count": 3,
   "metadata": {},
   "outputs": [],
   "source": [
    "wild_type = df[\"nucSequence\"].values[0]\n",
    "aa_wild_type = translate(df[\"nucSequence\"].values[0])\n",
    "assert(all([count_substring_mismatch(x1, wild_type) == x2 for x1, x2 in zip(df[\"nucSequence\"].values, df[\"numNucMutations\"])]))"
   ]
  },
  {
   "cell_type": "code",
   "execution_count": 4,
   "metadata": {},
   "outputs": [],
   "source": [
    "df = df.drop(['Unnamed: 0', 'Unnamed: 0.1', 'Unnamed: 0.1.1'], axis = 1)"
   ]
  },
  {
   "cell_type": "code",
   "execution_count": 5,
   "metadata": {},
   "outputs": [
    {
     "data": {
      "text/plain": [
       "Index(['nucSequence', 'numNucMutations', 'numAAMutations', 'uniqueBarcodes',\n",
       "       'medianBrightness', 'std', 'aaSequence'],\n",
       "      dtype='object')"
      ]
     },
     "execution_count": 5,
     "metadata": {},
     "output_type": "execute_result"
    }
   ],
   "source": [
    "df.columns"
   ]
  },
  {
   "cell_type": "code",
   "execution_count": 6,
   "metadata": {},
   "outputs": [],
   "source": [
    "df[\"aaSequence\"] = df[\"nucSequence\"].apply(lambda x : translate(x))"
   ]
  },
  {
   "cell_type": "code",
   "execution_count": 7,
   "metadata": {},
   "outputs": [
    {
     "name": "stdout",
     "output_type": "stream",
     "text": [
      "714\n",
      "238\n",
      "238\n"
     ]
    },
    {
     "data": {
      "text/plain": [
       "(None, None, None)"
      ]
     },
     "execution_count": 7,
     "metadata": {},
     "output_type": "execute_result"
    }
   ],
   "source": [
    "print(len(wild_type)), print(len(aa_wild_type)), print(len(df[\"aaSequence\"][0]))"
   ]
  },
  {
   "cell_type": "code",
   "execution_count": 8,
   "metadata": {},
   "outputs": [],
   "source": [
    "for x1, x2 in zip(df[\"aaSequence\"].values, df[\"numAAMutations\"].values):\n",
    "    assert(count_substring_mismatch(x1, aa_wild_type) == x2)\n",
    "    assert(\"*\" in x1)"
   ]
  },
  {
   "cell_type": "code",
   "execution_count": 9,
   "metadata": {},
   "outputs": [
    {
     "name": "stdout",
     "output_type": "stream",
     "text": [
      "(46733, 7) (11684, 7)\n"
     ]
    }
   ],
   "source": [
    "df = df.sample(frac=1).reset_index(drop=True)\n",
    "df[\"aaSequence\"] = df[\"aaSequence\"].apply(lambda x : x.upper())\n",
    "train_size = int(df.shape[0] * 0.8)\n",
    "train_df = df[:train_size].reset_index(drop=True)\n",
    "assert(wild_type in train_df[\"nucSequence\"].values)\n",
    "test_df = df[train_size: ].reset_index(drop=True)\n",
    "print(train_df.shape, test_df.shape)"
   ]
  },
  {
   "cell_type": "code",
   "execution_count": 10,
   "metadata": {},
   "outputs": [
    {
     "data": {
      "text/plain": [
       "(                                         nucSequence  numNucMutations  \\\n",
       " 0  AGCAAGGGCGAGGAGCTGTTCACCGGGGTGGTGCCCATCCTGGACG...                6   \n",
       " 1  AGCAAGGGCGAGGAGCTGTTCACCGGGGTGGTGCCCATCCTGGTCG...                2   \n",
       " 2  AGCAAGGGCGAGGAGCTGTTCACCGGGGTGGTGCCCATCCTGGTCG...                5   \n",
       " 3  AGCAAGGGCGAGGAGCTGTTCACCGGGGTGGTGCCCATCCTGGTCG...                4   \n",
       " 4  AGCAAGGGCGAGGAGCTGTTCACCGGGGTGGTGCCCATCCTGGTCG...                3   \n",
       " 5  AGCAAGGGCGAGGAGCTGTTCTCCGGGGTGGTGCCCATCCTGGTCG...                5   \n",
       " 6  AGCAAGGGCGAGGAGCTGTTCACCGGGGTGGTGCCCATCCTGGTCG...                2   \n",
       " 7  AGCAAGGGCGAGGAGCTGTTCACCGGGGTGGTGCCCATCCTGGTCG...                5   \n",
       " 8  AGCAAGGGCGAGGAGCTGTTCACCGGGGTGGTTCCCATCCTGGTCG...                3   \n",
       " 9  AGCAAGGGCGAGGAGCTGTTCACCGGGGTGGTGCCCATCCTGGTCG...                2   \n",
       " \n",
       "    numAAMutations  uniqueBarcodes  medianBrightness  std  \\\n",
       " 0               6               1          1.303274  0.0   \n",
       " 1               1               1          3.807237  0.0   \n",
       " 2               5               1          3.618254  0.0   \n",
       " 3               3               1          1.301357  0.0   \n",
       " 4               3               1          3.144210  0.0   \n",
       " 5               5               1          3.524743  0.0   \n",
       " 6               2               1          3.259355  0.0   \n",
       " 7               5               1          3.360476  0.0   \n",
       " 8               1               1          3.581428  0.0   \n",
       " 9               0               1          3.653555  0.0   \n",
       " \n",
       "                                           aaSequence  \n",
       " 0  SKGEELFTGVVPILDELDGDVNGHKFSVSGEGEGDATYGKLTLKFI...  \n",
       " 1  SKGEELFTGVVPILVELDGDVNGHKFSVSGEGEGDATYGKLTLKFI...  \n",
       " 2  SKGEELFTGVVPILVELDGDVNGHKFSVSGEGEGDATYGKLTLKFI...  \n",
       " 3  SKGEELFTGVVPILVELDGDVNGHKFSVSGEGEGDATYGKLTLKFI...  \n",
       " 4  SKGEELFTGVVPILVELDGDVNGHKFSVSGEGEGDATYGKLTLKFI...  \n",
       " 5  SKGEELFSGVVPILVELDGVVNGHKFSVSGEGEGDATYGKLTLKFI...  \n",
       " 6  SKGEELFTGVVPILVELDGDVNGHKFSVSGEGEGDATYGKLTLKFI...  \n",
       " 7  SKGEELFTGVVPILVELDGDVNGHKFSVSGEGEGDATYGKLALKFI...  \n",
       " 8  SKGEELFTGVVPILVELDGDVNGHKFSVSGEGEGDATYGKLTLKFI...  \n",
       " 9  SKGEELFTGVVPILVELDGDVNGHKFSVSGEGEGDATYGKLTLKFI...  ,\n",
       " (58417, 7),\n",
       "                                          nucSequence  numNucMutations  \\\n",
       " 0  AGCAAGGGCGAGGAGCTGTTCACCGGGGTGGTGCCCATCCTGGACG...                6   \n",
       " 1  AGCAAGGGCGAGGAGCTGTTCACCGGGGTGGTGCCCATCCTGGTCG...                2   \n",
       " 2  AGCAAGGGCGAGGAGCTGTTCACCGGGGTGGTGCCCATCCTGGTCG...                5   \n",
       " 3  AGCAAGGGCGAGGAGCTGTTCACCGGGGTGGTGCCCATCCTGGTCG...                4   \n",
       " 4  AGCAAGGGCGAGGAGCTGTTCACCGGGGTGGTGCCCATCCTGGTCG...                3   \n",
       " 5  AGCAAGGGCGAGGAGCTGTTCTCCGGGGTGGTGCCCATCCTGGTCG...                5   \n",
       " 6  AGCAAGGGCGAGGAGCTGTTCACCGGGGTGGTGCCCATCCTGGTCG...                2   \n",
       " 7  AGCAAGGGCGAGGAGCTGTTCACCGGGGTGGTGCCCATCCTGGTCG...                5   \n",
       " 8  AGCAAGGGCGAGGAGCTGTTCACCGGGGTGGTTCCCATCCTGGTCG...                3   \n",
       " 9  AGCAAGGGCGAGGAGCTGTTCACCGGGGTGGTGCCCATCCTGGTCG...                2   \n",
       " \n",
       "    numAAMutations  uniqueBarcodes  medianBrightness  std  \\\n",
       " 0               6               1          1.303274  0.0   \n",
       " 1               1               1          3.807237  0.0   \n",
       " 2               5               1          3.618254  0.0   \n",
       " 3               3               1          1.301357  0.0   \n",
       " 4               3               1          3.144210  0.0   \n",
       " 5               5               1          3.524743  0.0   \n",
       " 6               2               1          3.259355  0.0   \n",
       " 7               5               1          3.360476  0.0   \n",
       " 8               1               1          3.581428  0.0   \n",
       " 9               0               1          3.653555  0.0   \n",
       " \n",
       "                                           aaSequence  \n",
       " 0  SKGEELFTGVVPILDELDGDVNGHKFSVSGEGEGDATYGKLTLKFI...  \n",
       " 1  SKGEELFTGVVPILVELDGDVNGHKFSVSGEGEGDATYGKLTLKFI...  \n",
       " 2  SKGEELFTGVVPILVELDGDVNGHKFSVSGEGEGDATYGKLTLKFI...  \n",
       " 3  SKGEELFTGVVPILVELDGDVNGHKFSVSGEGEGDATYGKLTLKFI...  \n",
       " 4  SKGEELFTGVVPILVELDGDVNGHKFSVSGEGEGDATYGKLTLKFI...  \n",
       " 5  SKGEELFSGVVPILVELDGVVNGHKFSVSGEGEGDATYGKLTLKFI...  \n",
       " 6  SKGEELFTGVVPILVELDGDVNGHKFSVSGEGEGDATYGKLTLKFI...  \n",
       " 7  SKGEELFTGVVPILVELDGDVNGHKFSVSGEGEGDATYGKLALKFI...  \n",
       " 8  SKGEELFTGVVPILVELDGDVNGHKFSVSGEGEGDATYGKLTLKFI...  \n",
       " 9  SKGEELFTGVVPILVELDGDVNGHKFSVSGEGEGDATYGKLTLKFI...  ,\n",
       " (46733, 7),\n",
       "                                          nucSequence  numNucMutations  \\\n",
       " 0  AGCAAGGGCGAGGAGCTGTTCACCGGGGTGGTGCCCATCCTGGTCG...                3   \n",
       " 1  AGCAAGGGCGAGGAGCTGTTCACCGGGGTGGTGCCCATCCTGGTCG...                3   \n",
       " 2  AGCAAGGGCGAGGAGCTGTTCACCGGGGTGGTGCCCATCCTGGTCG...                3   \n",
       " 3  AGCAAGGGCGAGGAGCTGTTCACCGGGGTGGTGCCCATCCTGGTCG...                6   \n",
       " 4  AGCAAGGGCGAGGAGCTGTTCACCGGGGTGGTGCCCATCCTGGTCG...                5   \n",
       " 5  AGCAAGGGCGAGGAGCTGTTCACCGGGGTGGTGCCCATCCTGGTCG...                4   \n",
       " 6  AGCAAGGGCGAGGAGCCGTTCACCGGGGTGGTGCCCATCCTGGTCG...                2   \n",
       " 7  AGCAAGGGCGAGGAGCTGTTCACCGGGGTGGTGCCCATCCTGGTCG...                5   \n",
       " 8  AGCAAGGGCGAGGAGCTGTTCATCGGGGTGGTGCCCATCCTGGTCG...                5   \n",
       " 9  AGCAAGGGCGAGGAGCTGTTCACCGGGGTGGTGCCCATCCTGGTCG...                4   \n",
       " \n",
       "    numAAMutations  uniqueBarcodes  medianBrightness  std  \\\n",
       " 0               2               1          3.695210  0.0   \n",
       " 1               2               1          3.645163  0.0   \n",
       " 2               2               1          3.739286  0.0   \n",
       " 3               6               1          1.301030  0.0   \n",
       " 4               4               1          3.675671  0.0   \n",
       " 5               4               1          3.316222  0.0   \n",
       " 6               2               1          3.679801  0.0   \n",
       " 7               4               1          1.545725  0.0   \n",
       " 8               5               1          1.507369  0.0   \n",
       " 9               3               1          1.469539  0.0   \n",
       " \n",
       "                                           aaSequence  \n",
       " 0  SKGEELFTGVVPILVELDGDVNGHKFSVSGEGEGDATYGKLTLKFI...  \n",
       " 1  SKGEELFTGVVPILVELDGDVNGHKFSVSGEGEGDATYGKLTLKFI...  \n",
       " 2  SKGEELFTGVVPILVELDGDVNGHKFSVSGEGEGDATYGKLTLKFI...  \n",
       " 3  SKGEELFTGVVPILVELDGDVNGHKFSVSGEGEGDATNGKQTLKFI...  \n",
       " 4  SKGEELFTGVVPILVELDGDVNGHKFSVSGEGEGDATYGKLTLKFI...  \n",
       " 5  SKGEELFTGVVPILVELDGDVNGHKFSVSGEGEGDATYGKLTLKLI...  \n",
       " 6  SKGEEPFTGVVPILVELDGDVNGHKFSVSGEGEGDATYGKLTLKFI...  \n",
       " 7  SKGEELFTGVVPILVEQDGDVNGHKLSVSGEGEGDATYGKLTLEFI...  \n",
       " 8  SKGEELFIGVVPILVELDGGVNGHKFSVSGEGEGDAAYGKLTLKFI...  \n",
       " 9  SKGEELFTGVVPILVELDGDVNGHKSSVSGEGEGDATYGKLTLKSI...  ,\n",
       " (11684, 7))"
      ]
     },
     "execution_count": 10,
     "metadata": {},
     "output_type": "execute_result"
    }
   ],
   "source": [
    "df.head(10), df.shape, train_df.head(10), train_df.shape, test_df.head(10), test_df.shape"
   ]
  },
  {
   "cell_type": "code",
   "execution_count": 11,
   "metadata": {},
   "outputs": [],
   "source": [
    "train_df.to_csv(\"./data/gfp_train.csv\", index=False)\n",
    "test_df.to_csv(\"./data/gfp_test.csv\", index=False)"
   ]
  },
  {
   "cell_type": "code",
   "execution_count": 13,
   "metadata": {},
   "outputs": [],
   "source": [
    "np.save(\"./data/gfp_x_train.npy\", train_df[\"aaSequence\"].values)\n",
    "np.save(\"./data/gfp_x_test.npy\", test_df[\"aaSequence\"].values)\n",
    "np.save(\"./data/gfp_y_train.npy\", train_df[\"medianBrightness\"].values)\n",
    "np.save(\"./data/gfp_y_test.npy\", test_df[\"medianBrightness\"].values)"
   ]
  },
  {
   "cell_type": "code",
   "execution_count": 14,
   "metadata": {},
   "outputs": [],
   "source": [
    "x_train, x_test, y_train, y_test = load_data(\"./data/gfp_\")"
   ]
  },
  {
   "cell_type": "code",
   "execution_count": 15,
   "metadata": {},
   "outputs": [
    {
     "data": {
      "text/plain": [
       "[46733, 11684, 46733, 11684]"
      ]
     },
     "execution_count": 15,
     "metadata": {},
     "output_type": "execute_result"
    }
   ],
   "source": [
    "list(map(len, [x_train, x_test, y_train, y_test]))"
   ]
  },
  {
   "cell_type": "code",
   "execution_count": 22,
   "metadata": {},
   "outputs": [
    {
     "data": {
      "text/plain": [
       "(array([4.0140e+03, 1.0766e+04, 1.8015e+04, 5.7710e+03, 5.9220e+03,\n",
       "        1.2210e+03, 8.4700e+02, 1.1400e+02, 5.7000e+01, 6.0000e+00]),\n",
       " array([ 0. ,  1.5,  3. ,  4.5,  6. ,  7.5,  9. , 10.5, 12. , 13.5, 15. ]),\n",
       " <a list of 10 Patch objects>)"
      ]
     },
     "execution_count": 22,
     "metadata": {},
     "output_type": "execute_result"
    },
    {
     "data": {
      "image/png": "[encoded data removed]",
      "text/plain": [
       "<Figure size 432x288 with 1 Axes>"
      ]
     },
     "metadata": {},
     "output_type": "display_data"
    }
   ],
   "source": [
    "plt.hist([count_substring_mismatch(x1, aa_wild_type) for x1 in x_train])"
   ]
  },
  {
   "cell_type": "code",
   "execution_count": 23,
   "metadata": {},
   "outputs": [
    {
     "data": {
      "text/plain": [
       "(array([9.880e+02, 2.745e+03, 4.431e+03, 1.444e+03, 1.504e+03, 3.050e+02,\n",
       "        2.190e+02, 2.800e+01, 1.800e+01, 2.000e+00]),\n",
       " array([ 0. ,  1.5,  3. ,  4.5,  6. ,  7.5,  9. , 10.5, 12. , 13.5, 15. ]),\n",
       " <a list of 10 Patch objects>)"
      ]
     },
     "execution_count": 23,
     "metadata": {},
     "output_type": "execute_result"
    },
    {
     "data": {
      "image/png": "[encoded data removed]",
      "text/plain": [
       "<Figure size 432x288 with 1 Axes>"
      ]
     },
     "metadata": {},
     "output_type": "display_data"
    }
   ],
   "source": [
    "plt.hist([count_substring_mismatch(x1, aa_wild_type) for x1 in x_test])"
   ]
  },
  {
   "cell_type": "code",
   "execution_count": null,
   "metadata": {},
   "outputs": [],
   "source": []
  },
  {
   "cell_type": "code",
   "execution_count": 21,
   "metadata": {},
   "outputs": [
    {
     "data": {
      "text/plain": [
       "(46733,)"
      ]
     },
     "execution_count": 21,
     "metadata": {},
     "output_type": "execute_result"
    }
   ],
   "source": [
    "y_train.shape"
   ]
  },
  {
   "cell_type": "code",
   "execution_count": 18,
   "metadata": {},
   "outputs": [
    {
     "data": {
      "text/plain": [
       "238"
      ]
     },
     "execution_count": 18,
     "metadata": {},
     "output_type": "execute_result"
    }
   ],
   "source": [
    "len(x_train[0])"
   ]
  },
  {
   "cell_type": "markdown",
   "metadata": {},
   "source": [
    "## Refresh python syntax in kwargs and class inheritance\n"
   ]
  },
  {
   "cell_type": "code",
   "execution_count": 134,
   "metadata": {},
   "outputs": [],
   "source": [
    "def greet_me(**kwargs):\n",
    "    if kwargs is not None:\n",
    "        for key, value in kwargs.items():\n",
    "            print(\"%s == %s\" % (key,value))"
   ]
  },
  {
   "cell_type": "code",
   "execution_count": 142,
   "metadata": {},
   "outputs": [],
   "source": [
    "def pass_kwargs(x = 3, **kwargs):\n",
    "    greet_me(**kwargs)"
   ]
  },
  {
   "cell_type": "code",
   "execution_count": 141,
   "metadata": {},
   "outputs": [
    {
     "name": "stdout",
     "output_type": "stream",
     "text": [
      "{'tmp': 2, 'math': 4}\n",
      "tmp == 2\n",
      "math == 4\n"
     ]
    }
   ],
   "source": [
    "d = {\"tmp\":2, \"math\":4}\n",
    "pass_kwargs(x = 3, **d)"
   ]
  },
  {
   "cell_type": "code",
   "execution_count": 139,
   "metadata": {},
   "outputs": [],
   "source": [
    "class S: \n",
    "    def print_hello(self):\n",
    "        print(\"hello\")\n",
    "        \n",
    "class B(S): \n",
    "    def print_goodbye(self): \n",
    "        super().print_hello()\n",
    "        print('goodbye')"
   ]
  },
  {
   "cell_type": "code",
   "execution_count": 140,
   "metadata": {},
   "outputs": [
    {
     "name": "stdout",
     "output_type": "stream",
     "text": [
      "hello\n",
      "goodbye\n"
     ]
    }
   ],
   "source": [
    "B().print_goodbye()"
   ]
  },
  {
   "cell_type": "markdown",
   "metadata": {},
   "source": [
    "## Print Out Previous Experiment Results"
   ]
  },
  {
   "cell_type": "code",
   "execution_count": 6,
   "metadata": {},
   "outputs": [],
   "source": [
    "def run_bash(cmd, queue=None):\n",
    "    p = subprocess.Popen(cmd, shell=True, stdout=subprocess.PIPE, executable='/bin/bash')\n",
    "    std_out = p.stdout.read().strip()\n",
    "    if p.stderr:\n",
    "        std_err = p.stderr.read().strip()\n",
    "    else:\n",
    "        std_err = None\n",
    "    if queue is not None:\n",
    "        queue.put(std_out)\n",
    "    return std_out, std_err  # This is the stdout from the shell command\n",
    "\n",
    "std_out_lst, std_err_lst = [], []\n",
    "for i in range(0, 27):\n",
    "    std_out, std_err = run_bash(\"ts -i {0}\".format(i))\n",
    "    std_out = std_out.decode('utf-8') if std_out else None\n",
    "    std_err = std_err.decode('utf-8') if std_err else None\n",
    "    std_out_lst.append(std_out)\n",
    "    std_err_lst.append(std_err)\n"
   ]
  },
  {
   "cell_type": "code",
   "execution_count": 28,
   "metadata": {},
   "outputs": [
    {
     "name": "stdout",
     "output_type": "stream",
     "text": [
      "Trial 0 Standard out:\n",
      "--------------------------------------------------\n",
      "Exit status: died with exit code 0\n",
      "Command: bash -c python3 run_model.py --model_type hmm --base_log logs/synthetic_unimodal_data_length_100_gaussian/hmm --name hmm_default_small --input 2000 --hidden_size 30 --latent_dim -1 --seq_length 100 --pseudo_count 1 --n_jobs 1 --device cpu --learning_rate 0.001 --epochs 10 --batch_size 10 --layers 1 --dataset synthetic_unimodal_data_length_100_gaussian --num_data 100\n",
      "Slots required: 1\n",
      "Enqueue time: Thu May  9 03:34:09 2019\n",
      "Start time: Thu May  9 03:34:09 2019\n",
      "End time: Thu May  9 03:35:59 2019\n",
      "Time run: 110.697662s\n",
      "--------------------------------------------------\n",
      "Trial 0 Standard err:\n",
      "--------------------------------------------------\n",
      "None\n",
      "==================================================\n",
      "Trial 1 Standard out:\n",
      "--------------------------------------------------\n",
      "Exit status: died with exit code 0\n",
      "Command: bash -c python3 run_model.py --model_type rnn --base_log logs/synthetic_unimodal_data_length_100_gaussian/rnn --name rnn_default_small --input 2000 --hidden_size 100 --latent_dim -1 --seq_length 100 --pseudo_count 1 --n_jobs 1 --device cpu --learning_rate 0.001 --epochs 10 --batch_size 10 --layers 1 --dataset synthetic_unimodal_data_length_100_gaussian --num_data 100\n",
      "Slots required: 1\n",
      "Enqueue time: Thu May  9 03:34:09 2019\n",
      "Start time: Thu May  9 03:34:09 2019\n",
      "End time: Thu May  9 03:35:34 2019\n",
      "Time run: 85.472137s\n",
      "--------------------------------------------------\n",
      "Trial 1 Standard err:\n",
      "--------------------------------------------------\n",
      "None\n",
      "==================================================\n",
      "Trial 2 Standard out:\n",
      "--------------------------------------------------\n",
      "Exit status: died with exit code 0\n",
      "Command: bash -c python3 run_model.py --model_type vae --base_log logs/synthetic_unimodal_data_length_100_gaussian/vae --name vae_default_small --input 2000 --hidden_size 50 --latent_dim 20 --seq_length 100 --pseudo_count 1 --n_jobs 1 --device cpu --learning_rate 0.001 --epochs 10 --batch_size 10 --layers 1 --dataset synthetic_unimodal_data_length_100_gaussian --num_data 100\n",
      "Slots required: 1\n",
      "Enqueue time: Thu May  9 03:34:09 2019\n",
      "Start time: Thu May  9 03:34:09 2019\n",
      "End time: Thu May  9 03:34:28 2019\n",
      "Time run: 19.009546s\n",
      "--------------------------------------------------\n",
      "Trial 2 Standard err:\n",
      "--------------------------------------------------\n",
      "None\n",
      "==================================================\n",
      "Trial 3 Standard out:\n",
      "--------------------------------------------------\n",
      "Exit status: died with exit code 0\n",
      "Command: bash -c python3 run_model.py --model_type hmm --base_log logs/synthetic_unimodal_data_length_100_skewed_gaussian/hmm --name hmm_default_small --input 2000 --hidden_size 30 --latent_dim -1 --seq_length 100 --pseudo_count 1 --n_jobs 1 --device cpu --learning_rate 0.001 --epochs 10 --batch_size 10 --layers 1 --dataset synthetic_unimodal_data_length_100_skewed_gaussian --num_data 100\n",
      "Slots required: 1\n",
      "Enqueue time: Thu May  9 03:34:09 2019\n",
      "Start time: Thu May  9 03:34:28 2019\n",
      "End time: Thu May  9 03:36:15 2019\n",
      "Time run: 107.837997s\n",
      "--------------------------------------------------\n",
      "Trial 3 Standard err:\n",
      "--------------------------------------------------\n",
      "None\n",
      "==================================================\n",
      "Trial 4 Standard out:\n",
      "--------------------------------------------------\n",
      "Exit status: died with exit code 0\n",
      "Command: bash -c python3 run_model.py --model_type rnn --base_log logs/synthetic_unimodal_data_length_100_skewed_gaussian/rnn --name rnn_default_small --input 2000 --hidden_size 100 --latent_dim -1 --seq_length 100 --pseudo_count 1 --n_jobs 1 --device cpu --learning_rate 0.001 --epochs 10 --batch_size 10 --layers 1 --dataset synthetic_unimodal_data_length_100_skewed_gaussian --num_data 100\n",
      "Slots required: 1\n",
      "Enqueue time: Thu May  9 03:34:09 2019\n",
      "Start time: Thu May  9 03:35:34 2019\n",
      "End time: Thu May  9 03:36:46 2019\n",
      "Time run: 72.306396s\n",
      "--------------------------------------------------\n",
      "Trial 4 Standard err:\n",
      "--------------------------------------------------\n",
      "None\n",
      "==================================================\n",
      "Trial 5 Standard out:\n",
      "--------------------------------------------------\n",
      "Exit status: died with exit code 0\n",
      "Command: bash -c python3 run_model.py --model_type vae --base_log logs/synthetic_unimodal_data_length_100_skewed_gaussian/vae --name vae_default_small --input 2000 --hidden_size 50 --latent_dim 20 --seq_length 100 --pseudo_count 1 --n_jobs 1 --device cpu --learning_rate 0.001 --epochs 10 --batch_size 10 --layers 1 --dataset synthetic_unimodal_data_length_100_skewed_gaussian --num_data 100\n",
      "Slots required: 1\n",
      "Enqueue time: Thu May  9 03:34:09 2019\n",
      "Start time: Thu May  9 03:35:59 2019\n",
      "End time: Thu May  9 03:36:15 2019\n",
      "Time run: 15.577449s\n",
      "--------------------------------------------------\n",
      "Trial 5 Standard err:\n",
      "--------------------------------------------------\n",
      "None\n",
      "==================================================\n",
      "Trial 6 Standard out:\n",
      "--------------------------------------------------\n",
      "Exit status: died with exit code 0\n",
      "Command: bash -c python3 run_model.py --model_type hmm --base_log logs/synthetic_unimodal_data_length_100_uniform/hmm --name hmm_default_small --input 2000 --hidden_size 30 --latent_dim -1 --seq_length 100 --pseudo_count 1 --n_jobs 1 --device cpu --learning_rate 0.001 --epochs 10 --batch_size 10 --layers 1 --dataset synthetic_unimodal_data_length_100_uniform --num_data 100\n",
      "Slots required: 1\n",
      "Enqueue time: Thu May  9 03:34:09 2019\n",
      "Start time: Thu May  9 03:36:15 2019\n",
      "End time: Thu May  9 03:37:40 2019\n",
      "Time run: 85.302139s\n",
      "--------------------------------------------------\n",
      "Trial 6 Standard err:\n",
      "--------------------------------------------------\n",
      "None\n",
      "==================================================\n",
      "Trial 7 Standard out:\n",
      "--------------------------------------------------\n",
      "Exit status: died with exit code 0\n",
      "Command: bash -c python3 run_model.py --model_type rnn --base_log logs/synthetic_unimodal_data_length_100_uniform/rnn --name rnn_default_small --input 2000 --hidden_size 100 --latent_dim -1 --seq_length 100 --pseudo_count 1 --n_jobs 1 --device cpu --learning_rate 0.001 --epochs 10 --batch_size 10 --layers 1 --dataset synthetic_unimodal_data_length_100_uniform --num_data 100\n",
      "Slots required: 1\n",
      "Enqueue time: Thu May  9 03:34:09 2019\n",
      "Start time: Thu May  9 03:36:15 2019\n",
      "End time: Thu May  9 03:37:27 2019\n",
      "Time run: 71.316887s\n",
      "--------------------------------------------------\n",
      "Trial 7 Standard err:\n",
      "--------------------------------------------------\n",
      "None\n",
      "==================================================\n",
      "Trial 8 Standard out:\n",
      "--------------------------------------------------\n",
      "Exit status: died with exit code 0\n",
      "Command: bash -c python3 run_model.py --model_type vae --base_log logs/synthetic_unimodal_data_length_100_uniform/vae --name vae_default_small --input 2000 --hidden_size 50 --latent_dim 20 --seq_length 100 --pseudo_count 1 --n_jobs 1 --device cpu --learning_rate 0.001 --epochs 10 --batch_size 10 --layers 1 --dataset synthetic_unimodal_data_length_100_uniform --num_data 100\n",
      "Slots required: 1\n",
      "Enqueue time: Thu May  9 03:34:09 2019\n",
      "Start time: Thu May  9 03:36:46 2019\n",
      "End time: Thu May  9 03:37:04 2019\n",
      "Time run: 17.567320s\n",
      "--------------------------------------------------\n",
      "Trial 8 Standard err:\n",
      "--------------------------------------------------\n",
      "None\n",
      "==================================================\n",
      "Trial 9 Standard out:\n",
      "--------------------------------------------------\n",
      "Exit status: died with exit code 0\n",
      "Command: bash -c python3 run_model.py --model_type hmm --base_log logs/synthetic_unimodal_data_length_20_gaussian/hmm --name hmm_default_small --input 400 --hidden_size 30 --latent_dim -1 --seq_length 20 --pseudo_count 1 --n_jobs 1 --device cpu --learning_rate 0.001 --epochs 10 --batch_size 10 --layers 1 --dataset synthetic_unimodal_data_length_20_gaussian --num_data 100\n",
      "Slots required: 1\n",
      "Enqueue time: Thu May  9 03:34:09 2019\n",
      "Start time: Thu May  9 03:37:04 2019\n",
      "End time: Thu May  9 03:37:31 2019\n",
      "Time run: 26.821106s\n",
      "--------------------------------------------------\n",
      "Trial 9 Standard err:\n",
      "--------------------------------------------------\n",
      "None\n",
      "==================================================\n",
      "Trial 10 Standard out:\n",
      "--------------------------------------------------\n",
      "Exit status: died with exit code 0\n",
      "Command: bash -c python3 run_model.py --model_type rnn --base_log logs/synthetic_unimodal_data_length_20_gaussian/rnn --name rnn_default_small --input 400 --hidden_size 100 --latent_dim -1 --seq_length 20 --pseudo_count 1 --n_jobs 1 --device cpu --learning_rate 0.001 --epochs 10 --batch_size 10 --layers 1 --dataset synthetic_unimodal_data_length_20_gaussian --num_data 100\n",
      "Slots required: 1\n",
      "Enqueue time: Thu May  9 03:34:09 2019\n",
      "Start time: Thu May  9 03:37:27 2019\n",
      "End time: Thu May  9 03:37:45 2019\n",
      "Time run: 18.565990s\n",
      "--------------------------------------------------\n",
      "Trial 10 Standard err:\n",
      "--------------------------------------------------\n",
      "None\n",
      "==================================================\n",
      "Trial 11 Standard out:\n",
      "--------------------------------------------------\n",
      "Exit status: died with exit code 0\n",
      "Command: bash -c python3 run_model.py --model_type vae --base_log logs/synthetic_unimodal_data_length_20_gaussian/vae --name vae_default_small --input 400 --hidden_size 50 --latent_dim 20 --seq_length 20 --pseudo_count 1 --n_jobs 1 --device cpu --learning_rate 0.001 --epochs 10 --batch_size 10 --layers 1 --dataset synthetic_unimodal_data_length_20_gaussian --num_data 100\n",
      "Slots required: 1\n",
      "Enqueue time: Thu May  9 03:34:09 2019\n",
      "Start time: Thu May  9 03:37:31 2019\n",
      "End time: Thu May  9 03:37:41 2019\n",
      "Time run: 10.690344s\n",
      "--------------------------------------------------\n",
      "Trial 11 Standard err:\n",
      "--------------------------------------------------\n",
      "None\n",
      "==================================================\n",
      "Trial 12 Standard out:\n",
      "--------------------------------------------------\n",
      "Exit status: died with exit code 0\n",
      "Command: bash -c python3 run_model.py --model_type hmm --base_log logs/synthetic_unimodal_data_length_20_skewed_gaussian/hmm --name hmm_default_small --input 400 --hidden_size 30 --latent_dim -1 --seq_length 20 --pseudo_count 1 --n_jobs 1 --device cpu --learning_rate 0.001 --epochs 10 --batch_size 10 --layers 1 --dataset synthetic_unimodal_data_length_20_skewed_gaussian --num_data 100\n",
      "Slots required: 1\n",
      "Enqueue time: Thu May  9 03:34:09 2019\n",
      "Start time: Thu May  9 03:37:40 2019\n",
      "End time: Thu May  9 03:38:07 2019\n",
      "Time run: 26.557686s\n",
      "--------------------------------------------------\n",
      "Trial 12 Standard err:\n",
      "--------------------------------------------------\n",
      "None\n",
      "==================================================\n",
      "Trial 13 Standard out:\n",
      "--------------------------------------------------\n",
      "Exit status: died with exit code 0\n",
      "Command: bash -c python3 run_model.py --model_type rnn --base_log logs/synthetic_unimodal_data_length_20_skewed_gaussian/rnn --name rnn_default_small --input 400 --hidden_size 100 --latent_dim -1 --seq_length 20 --pseudo_count 1 --n_jobs 1 --device cpu --learning_rate 0.001 --epochs 10 --batch_size 10 --layers 1 --dataset synthetic_unimodal_data_length_20_skewed_gaussian --num_data 100\n",
      "Slots required: 1\n",
      "Enqueue time: Thu May  9 03:34:09 2019\n",
      "Start time: Thu May  9 03:37:41 2019\n",
      "End time: Thu May  9 03:38:01 2019\n",
      "Time run: 19.611984s\n",
      "--------------------------------------------------\n",
      "Trial 13 Standard err:\n",
      "--------------------------------------------------\n",
      "None\n",
      "==================================================\n",
      "Trial 14 Standard out:\n",
      "--------------------------------------------------\n",
      "Exit status: died with exit code 0\n",
      "Command: bash -c python3 run_model.py --model_type vae --base_log logs/synthetic_unimodal_data_length_20_skewed_gaussian/vae --name vae_default_small --input 400 --hidden_size 50 --latent_dim 20 --seq_length 20 --pseudo_count 1 --n_jobs 1 --device cpu --learning_rate 0.001 --epochs 10 --batch_size 10 --layers 1 --dataset synthetic_unimodal_data_length_20_skewed_gaussian --num_data 100\n",
      "Slots required: 1\n",
      "Enqueue time: Thu May  9 03:34:09 2019\n",
      "Start time: Thu May  9 03:37:45 2019\n",
      "End time: Thu May  9 03:37:56 2019\n",
      "Time run: 10.380044s\n",
      "--------------------------------------------------\n",
      "Trial 14 Standard err:\n",
      "--------------------------------------------------\n",
      "None\n",
      "==================================================\n",
      "Trial 15 Standard out:\n",
      "--------------------------------------------------\n",
      "Exit status: died with exit code 0\n",
      "Command: bash -c python3 run_model.py --model_type hmm --base_log logs/synthetic_unimodal_data_length_20_uniform/hmm --name hmm_default_small --input 400 --hidden_size 30 --latent_dim -1 --seq_length 20 --pseudo_count 1 --n_jobs 1 --device cpu --learning_rate 0.001 --epochs 10 --batch_size 10 --layers 1 --dataset synthetic_unimodal_data_length_20_uniform --num_data 100\n",
      "Slots required: 1\n",
      "Enqueue time: Thu May  9 03:34:09 2019\n",
      "Start time: Thu May  9 03:37:56 2019\n",
      "End time: Thu May  9 03:38:29 2019\n",
      "Time run: 33.571880s\n",
      "--------------------------------------------------\n",
      "Trial 15 Standard err:\n",
      "--------------------------------------------------\n",
      "None\n",
      "==================================================\n",
      "Trial 16 Standard out:\n",
      "--------------------------------------------------\n",
      "Exit status: died with exit code 0\n",
      "Command: bash -c python3 run_model.py --model_type rnn --base_log logs/synthetic_unimodal_data_length_20_uniform/rnn --name rnn_default_small --input 400 --hidden_size 100 --latent_dim -1 --seq_length 20 --pseudo_count 1 --n_jobs 1 --device cpu --learning_rate 0.001 --epochs 10 --batch_size 10 --layers 1 --dataset synthetic_unimodal_data_length_20_uniform --num_data 100\n",
      "Slots required: 1\n",
      "Enqueue time: Thu May  9 03:34:09 2019\n",
      "Start time: Thu May  9 03:38:01 2019\n",
      "End time: Thu May  9 03:38:27 2019\n",
      "Time run: 25.696617s\n",
      "--------------------------------------------------\n",
      "Trial 16 Standard err:\n",
      "--------------------------------------------------\n",
      "None\n",
      "==================================================\n",
      "Trial 17 Standard out:\n",
      "--------------------------------------------------\n",
      "Exit status: died with exit code 0\n",
      "Command: bash -c python3 run_model.py --model_type vae --base_log logs/synthetic_unimodal_data_length_20_uniform/vae --name vae_default_small --input 400 --hidden_size 50 --latent_dim 20 --seq_length 20 --pseudo_count 1 --n_jobs 1 --device cpu --learning_rate 0.001 --epochs 10 --batch_size 10 --layers 1 --dataset synthetic_unimodal_data_length_20_uniform --num_data 100\n",
      "Slots required: 1\n",
      "Enqueue time: Thu May  9 03:34:09 2019\n",
      "Start time: Thu May  9 03:38:07 2019\n",
      "End time: Thu May  9 03:38:22 2019\n",
      "Time run: 15.446612s\n",
      "--------------------------------------------------\n",
      "Trial 17 Standard err:\n",
      "--------------------------------------------------\n",
      "None\n",
      "==================================================\n",
      "Trial 18 Standard out:\n",
      "--------------------------------------------------\n",
      "Exit status: died with exit code 0\n",
      "Command: bash -c python3 run_model.py --model_type hmm --base_log logs/synthetic_unimodal_data_length_50_gaussian/hmm --name hmm_default_small --input 1000 --hidden_size 30 --latent_dim -1 --seq_length 50 --pseudo_count 1 --n_jobs 1 --device cpu --learning_rate 0.001 --epochs 10 --batch_size 10 --layers 1 --dataset synthetic_unimodal_data_length_50_gaussian --num_data 100\n",
      "Slots required: 1\n",
      "Enqueue time: Thu May  9 03:34:09 2019\n",
      "Start time: Thu May  9 03:38:22 2019\n",
      "End time: Thu May  9 03:39:07 2019\n",
      "Time run: 45.318989s\n",
      "--------------------------------------------------\n",
      "Trial 18 Standard err:\n",
      "--------------------------------------------------\n",
      "None\n",
      "==================================================\n",
      "Trial 19 Standard out:\n",
      "--------------------------------------------------\n",
      "Exit status: died with exit code 0\n",
      "Command: bash -c python3 run_model.py --model_type rnn --base_log logs/synthetic_unimodal_data_length_50_gaussian/rnn --name rnn_default_small --input 1000 --hidden_size 100 --latent_dim -1 --seq_length 50 --pseudo_count 1 --n_jobs 1 --device cpu --learning_rate 0.001 --epochs 10 --batch_size 10 --layers 1 --dataset synthetic_unimodal_data_length_50_gaussian --num_data 100\n",
      "Slots required: 1\n",
      "Enqueue time: Thu May  9 03:34:09 2019\n",
      "Start time: Thu May  9 03:38:27 2019\n",
      "End time: Thu May  9 03:38:59 2019\n",
      "Time run: 31.918270s\n",
      "--------------------------------------------------\n",
      "Trial 19 Standard err:\n",
      "--------------------------------------------------\n",
      "None\n",
      "==================================================\n",
      "Trial 20 Standard out:\n",
      "--------------------------------------------------\n",
      "Exit status: died with exit code 0\n",
      "Command: bash -c python3 run_model.py --model_type vae --base_log logs/synthetic_unimodal_data_length_50_gaussian/vae --name vae_default_small --input 1000 --hidden_size 50 --latent_dim 20 --seq_length 50 --pseudo_count 1 --n_jobs 1 --device cpu --learning_rate 0.001 --epochs 10 --batch_size 10 --layers 1 --dataset synthetic_unimodal_data_length_50_gaussian --num_data 100\n",
      "Slots required: 1\n",
      "Enqueue time: Thu May  9 03:34:09 2019\n",
      "Start time: Thu May  9 03:38:29 2019\n",
      "End time: Thu May  9 03:38:40 2019\n",
      "Time run: 10.535923s\n",
      "--------------------------------------------------\n",
      "Trial 20 Standard err:\n",
      "--------------------------------------------------\n",
      "None\n",
      "==================================================\n",
      "Trial 21 Standard out:\n",
      "--------------------------------------------------\n",
      "Exit status: died with exit code 0\n",
      "Command: bash -c python3 run_model.py --model_type hmm --base_log logs/synthetic_unimodal_data_length_50_skewed_gaussian/hmm --name hmm_default_small --input 1000 --hidden_size 30 --latent_dim -1 --seq_length 50 --pseudo_count 1 --n_jobs 1 --device cpu --learning_rate 0.001 --epochs 10 --batch_size 10 --layers 1 --dataset synthetic_unimodal_data_length_50_skewed_gaussian --num_data 100\n",
      "Slots required: 1\n",
      "Enqueue time: Thu May  9 03:34:09 2019\n",
      "Start time: Thu May  9 03:38:40 2019\n",
      "End time: Thu May  9 03:39:30 2019\n",
      "Time run: 50.260647s\n",
      "--------------------------------------------------\n",
      "Trial 21 Standard err:\n",
      "--------------------------------------------------\n",
      "None\n",
      "==================================================\n",
      "Trial 22 Standard out:\n",
      "--------------------------------------------------\n",
      "Exit status: died with exit code 0\n",
      "Command: bash -c python3 run_model.py --model_type rnn --base_log logs/synthetic_unimodal_data_length_50_skewed_gaussian/rnn --name rnn_default_small --input 1000 --hidden_size 100 --latent_dim -1 --seq_length 50 --pseudo_count 1 --n_jobs 1 --device cpu --learning_rate 0.001 --epochs 10 --batch_size 10 --layers 1 --dataset synthetic_unimodal_data_length_50_skewed_gaussian --num_data 100\n",
      "Slots required: 1\n",
      "Enqueue time: Thu May  9 03:34:09 2019\n",
      "Start time: Thu May  9 03:38:59 2019\n",
      "End time: Thu May  9 03:39:47 2019\n",
      "Time run: 48.647903s\n",
      "--------------------------------------------------\n",
      "Trial 22 Standard err:\n",
      "--------------------------------------------------\n",
      "None\n",
      "==================================================\n",
      "Trial 23 Standard out:\n",
      "--------------------------------------------------\n",
      "Exit status: died with exit code 0\n",
      "Command: bash -c python3 run_model.py --model_type vae --base_log logs/synthetic_unimodal_data_length_50_skewed_gaussian/vae --name vae_default_small --input 1000 --hidden_size 50 --latent_dim 20 --seq_length 50 --pseudo_count 1 --n_jobs 1 --device cpu --learning_rate 0.001 --epochs 10 --batch_size 10 --layers 1 --dataset synthetic_unimodal_data_length_50_skewed_gaussian --num_data 100\n",
      "Slots required: 1\n",
      "Enqueue time: Thu May  9 03:34:09 2019\n",
      "Start time: Thu May  9 03:39:07 2019\n",
      "End time: Thu May  9 03:39:24 2019\n",
      "Time run: 16.212975s\n",
      "--------------------------------------------------\n",
      "Trial 23 Standard err:\n",
      "--------------------------------------------------\n",
      "None\n",
      "==================================================\n",
      "Trial 24 Standard out:\n",
      "--------------------------------------------------\n",
      "Exit status: died with exit code 0\n",
      "Command: bash -c python3 run_model.py --model_type hmm --base_log logs/synthetic_unimodal_data_length_50_uniform/hmm --name hmm_default_small --input 1000 --hidden_size 30 --latent_dim -1 --seq_length 50 --pseudo_count 1 --n_jobs 1 --device cpu --learning_rate 0.001 --epochs 10 --batch_size 10 --layers 1 --dataset synthetic_unimodal_data_length_50_uniform --num_data 100\n",
      "Slots required: 1\n",
      "Enqueue time: Thu May  9 03:34:09 2019\n",
      "Start time: Thu May  9 03:39:24 2019\n",
      "End time: Thu May  9 03:40:24 2019\n",
      "Time run: 60.193420s\n",
      "--------------------------------------------------\n",
      "Trial 24 Standard err:\n",
      "--------------------------------------------------\n",
      "None\n",
      "==================================================\n",
      "Trial 25 Standard out:\n",
      "--------------------------------------------------\n",
      "Exit status: died with exit code 0\n",
      "Command: bash -c python3 run_model.py --model_type rnn --base_log logs/synthetic_unimodal_data_length_50_uniform/rnn --name rnn_default_small --input 1000 --hidden_size 100 --latent_dim -1 --seq_length 50 --pseudo_count 1 --n_jobs 1 --device cpu --learning_rate 0.001 --epochs 10 --batch_size 10 --layers 1 --dataset synthetic_unimodal_data_length_50_uniform --num_data 100\n",
      "Slots required: 1\n",
      "Enqueue time: Thu May  9 03:34:09 2019\n",
      "Start time: Thu May  9 03:39:30 2019\n",
      "End time: Thu May  9 03:40:15 2019\n",
      "Time run: 44.894474s\n",
      "--------------------------------------------------\n",
      "Trial 25 Standard err:\n",
      "--------------------------------------------------\n",
      "None\n",
      "==================================================\n",
      "Trial 26 Standard out:\n",
      "--------------------------------------------------\n",
      "Exit status: died with exit code 0\n",
      "Command: bash -c python3 run_model.py --model_type vae --base_log logs/synthetic_unimodal_data_length_50_uniform/vae --name vae_default_small --input 1000 --hidden_size 50 --latent_dim 20 --seq_length 50 --pseudo_count 1 --n_jobs 1 --device cpu --learning_rate 0.001 --epochs 10 --batch_size 10 --layers 1 --dataset synthetic_unimodal_data_length_50_uniform --num_data 100\n",
      "Slots required: 1\n",
      "Enqueue time: Thu May  9 03:34:09 2019\n",
      "Start time: Thu May  9 03:39:47 2019\n",
      "End time: Thu May  9 03:40:03 2019\n",
      "Time run: 15.398121s\n",
      "--------------------------------------------------\n",
      "Trial 26 Standard err:\n",
      "--------------------------------------------------\n",
      "None\n",
      "==================================================\n"
     ]
    }
   ],
   "source": [
    "for i, (std_out, std_err) in enumerate(zip(std_out_lst, std_err_lst)):\n",
    "    print(\"Trial {0} Standard out:\".format(i))\n",
    "    print(\"-\" * 50)\n",
    "    print(std_out)\n",
    "    print(\"-\" * 50)\n",
    "    print(\"Trial {0} Standard err:\".format(i))\n",
    "    print(\"-\" * 50)\n",
    "    print(std_err)\n",
    "    print(\"=\" * 50)"
   ]
  },
  {
   "cell_type": "markdown",
   "metadata": {},
   "source": [
    "## mutation counts of datasets"
   ]
  },
  {
   "cell_type": "code",
   "execution_count": 20,
   "metadata": {
    "scrolled": true
   },
   "outputs": [
    {
     "name": "stdout",
     "output_type": "stream",
     "text": [
      "dataset: synthetic_multimodal_data_modes_2_length_51_uniform.csv, average mutation count: 5.5\n",
      "dataset: synthetic_multimodal_data_modes_3_length_51_uniform.csv, average mutation count: 5.5\n",
      "dataset: synthetic_multimodal_data_modes_5_length_51_uniform.csv, average mutation count: 5.5\n",
      "dataset: synthetic_mutations_21_unimodal_data_length_100_uniform.csv, average mutation count: 11.0089\n",
      "dataset: synthetic_mutations_21_unimodal_data_length_50_uniform.csv, average mutation count: 11.0089\n",
      "dataset: synthetic_unimodal_data_length_100_gaussian.csv, average mutation count: 5.5079\n",
      "dataset: synthetic_unimodal_data_length_100_skewed_gaussian.csv, average mutation count: 5.05046\n",
      "dataset: synthetic_unimodal_data_length_100_uniform.csv, average mutation count: 5.51174\n",
      "dataset: synthetic_unimodal_data_length_20_gaussian.csv, average mutation count: 5.5079\n",
      "dataset: synthetic_unimodal_data_length_20_skewed_gaussian.csv, average mutation count: 5.05046\n",
      "dataset: synthetic_unimodal_data_length_20_uniform.csv, average mutation count: 5.51174\n",
      "dataset: synthetic_unimodal_data_length_50_gaussian.csv, average mutation count: 5.5079\n",
      "dataset: synthetic_unimodal_data_length_50_skewed_gaussian.csv, average mutation count: 5.05046\n",
      "dataset: synthetic_unimodal_data_length_50_uniform.csv, average mutation count: 5.51174\n"
     ]
    }
   ],
   "source": [
    "for dataset in os.listdir(\"./data/\"): \n",
    "    if \".csv\" in dataset: \n",
    "        df = pd.read_csv(\"./data/\" + dataset)\n",
    "        if \"mutation_count\" not in df.columns:\n",
    "            continue\n",
    "        print(\"dataset: {0}, average mutation count: {1}\".format(dataset, np.mean(df[\"mutation_count\"].values)))"
   ]
  },
  {
   "cell_type": "code",
   "execution_count": 23,
   "metadata": {},
   "outputs": [
    {
     "name": "stdout",
     "output_type": "stream",
     "text": [
      "dataset: gfp, average mutation count: 3.7105123508567712\n"
     ]
    }
   ],
   "source": [
    "print('dataset: gfp, average mutation count: {0}'.format(pd.read_csv(\"./data/gfp_data.csv\")[\"numAAMutations\"].mean()))"
   ]
  },
  {
   "cell_type": "markdown",
   "metadata": {},
   "source": [
    "## Check all 27 files\n",
    "\n"
   ]
  },
  {
   "cell_type": "code",
   "execution_count": 11,
   "metadata": {},
   "outputs": [
    {
     "name": "stdout",
     "output_type": "stream",
     "text": [
      "./logs/\n",
      "./logs/gfp\n",
      "./logs/gfp/hmm\n",
      "./logs/gfp/hmm/hmm_default_medium\n",
      "Press enter to continue\n",
      "./logs/gfp/hmm/hmm_default_small\n",
      "Press enter to continue\n",
      "./logs/gfp/rnn\n",
      "./logs/gfp/rnn/rnn_default_medium\n",
      "Press enter to continue\n",
      "./logs/gfp/rnn/rnn_default_small\n",
      "Press enter to continue\n",
      "./logs/gfp/vae\n",
      "./logs/gfp/vae/vae_default_large\n",
      "Press enter to continue\n",
      "./logs/gfp/vae/vae_default_medium\n",
      "Press enter to continue\n",
      "./logs/gfp/vae/vae_default_small\n",
      "Press enter to continue\n",
      "./logs/synthetic_multimodal_data_modes_2_length_51_uniform\n",
      "./logs/synthetic_multimodal_data_modes_2_length_51_uniform/hmm\n",
      "./logs/synthetic_multimodal_data_modes_2_length_51_uniform/hmm/hmm_default_medium\n",
      "Press enter to continue\n",
      "./logs/synthetic_multimodal_data_modes_2_length_51_uniform/hmm/hmm_default_small\n",
      "Press enter to continue\n",
      "./logs/synthetic_multimodal_data_modes_2_length_51_uniform/rnn\n",
      "./logs/synthetic_multimodal_data_modes_2_length_51_uniform/rnn/rnn_default_medium\n",
      "Press enter to continue\n",
      "./logs/synthetic_multimodal_data_modes_2_length_51_uniform/rnn/rnn_default_small\n",
      "Press enter to continue\n",
      "./logs/synthetic_multimodal_data_modes_2_length_51_uniform/vae\n",
      "./logs/synthetic_multimodal_data_modes_2_length_51_uniform/vae/vae_default_medium\n",
      "Press enter to continue\n",
      "./logs/synthetic_multimodal_data_modes_2_length_51_uniform/vae/vae_default_small\n",
      "Press enter to continuec\n",
      "./logs/synthetic_multimodal_data_modes_3_length_51_uniform\n",
      "./logs/synthetic_multimodal_data_modes_3_length_51_uniform/hmm\n",
      "./logs/synthetic_multimodal_data_modes_3_length_51_uniform/hmm/hmm_default_medium\n",
      "Press enter to continuec\n",
      "./logs/synthetic_multimodal_data_modes_3_length_51_uniform/hmm/hmm_default_small\n",
      "Press enter to continuec\n",
      "./logs/synthetic_multimodal_data_modes_3_length_51_uniform/rnn\n",
      "./logs/synthetic_multimodal_data_modes_3_length_51_uniform/rnn/rnn_default_medium\n",
      "Press enter to continuec\n",
      "./logs/synthetic_multimodal_data_modes_3_length_51_uniform/rnn/rnn_default_small\n",
      "Press enter to continuec\n",
      "./logs/synthetic_multimodal_data_modes_3_length_51_uniform/vae\n",
      "./logs/synthetic_multimodal_data_modes_3_length_51_uniform/vae/vae_default_medium\n",
      "Press enter to continuec\n",
      "./logs/synthetic_multimodal_data_modes_3_length_51_uniform/vae/vae_default_small\n",
      "Press enter to continuec\n",
      "./logs/synthetic_multimodal_data_modes_5_length_51_uniform\n",
      "./logs/synthetic_multimodal_data_modes_5_length_51_uniform/hmm\n",
      "./logs/synthetic_multimodal_data_modes_5_length_51_uniform/hmm/hmm_default_medium\n",
      "Press enter to continuec\n",
      "./logs/synthetic_multimodal_data_modes_5_length_51_uniform/hmm/hmm_default_small\n",
      "Press enter to continuec\n",
      "./logs/synthetic_multimodal_data_modes_5_length_51_uniform/rnn\n",
      "./logs/synthetic_multimodal_data_modes_5_length_51_uniform/rnn/rnn_default_medium\n",
      "Press enter to continuec\n",
      "./logs/synthetic_multimodal_data_modes_5_length_51_uniform/rnn/rnn_default_small\n",
      "Press enter to continue\n",
      "./logs/synthetic_multimodal_data_modes_5_length_51_uniform/vae\n",
      "./logs/synthetic_multimodal_data_modes_5_length_51_uniform/vae/vae_default_medium\n",
      "Press enter to continuec\n",
      "./logs/synthetic_multimodal_data_modes_5_length_51_uniform/vae/vae_default_small\n",
      "Press enter to continuec\n",
      "./logs/synthetic_unimodal_data_length_100_gaussian\n",
      "./logs/synthetic_unimodal_data_length_100_gaussian/hmm\n",
      "./logs/synthetic_unimodal_data_length_100_gaussian/hmm/hmm_default_small\n",
      "Press enter to continuec\n",
      "./logs/synthetic_unimodal_data_length_100_gaussian/rnn\n",
      "./logs/synthetic_unimodal_data_length_100_gaussian/rnn/rnn_default_medium\n",
      "Press enter to continuec\n",
      "./logs/synthetic_unimodal_data_length_100_gaussian/rnn/rnn_default_small\n",
      "Press enter to continuec\n",
      "./logs/synthetic_unimodal_data_length_100_gaussian/vae\n",
      "./logs/synthetic_unimodal_data_length_100_gaussian/vae/vae_default_medium\n",
      "Press enter to continuec\n",
      "./logs/synthetic_unimodal_data_length_100_gaussian/vae/vae_default_small\n",
      "Press enter to continuec\n",
      "./logs/synthetic_unimodal_data_length_100_skewed_gaussian\n",
      "./logs/synthetic_unimodal_data_length_100_skewed_gaussian/hmm\n",
      "./logs/synthetic_unimodal_data_length_100_skewed_gaussian/hmm/hmm_default_small\n",
      "Press enter to continuec\n",
      "./logs/synthetic_unimodal_data_length_100_skewed_gaussian/rnn\n",
      "./logs/synthetic_unimodal_data_length_100_skewed_gaussian/rnn/rnn_default_medium\n",
      "Press enter to continuec\n",
      "./logs/synthetic_unimodal_data_length_100_skewed_gaussian/rnn/rnn_default_small\n",
      "Press enter to continuec\n",
      "./logs/synthetic_unimodal_data_length_100_skewed_gaussian/vae\n",
      "./logs/synthetic_unimodal_data_length_100_skewed_gaussian/vae/vae_default_medium\n",
      "Press enter to continuec\n",
      "./logs/synthetic_unimodal_data_length_100_skewed_gaussian/vae/vae_default_small\n",
      "Press enter to continuec\n",
      "./logs/synthetic_unimodal_data_length_100_uniform\n",
      "./logs/synthetic_unimodal_data_length_100_uniform/hmm\n",
      "./logs/synthetic_unimodal_data_length_100_uniform/hmm/hmm_default_small\n",
      "Press enter to continuec\n",
      "./logs/synthetic_unimodal_data_length_100_uniform/rnn\n",
      "./logs/synthetic_unimodal_data_length_100_uniform/rnn/rnn_default_medium\n",
      "Press enter to continuec\n",
      "./logs/synthetic_unimodal_data_length_100_uniform/rnn/rnn_default_small\n",
      "Press enter to continuec\n",
      "./logs/synthetic_unimodal_data_length_100_uniform/vae\n",
      "./logs/synthetic_unimodal_data_length_100_uniform/vae/vae_default_medium\n",
      "Press enter to continuec\n",
      "./logs/synthetic_unimodal_data_length_100_uniform/vae/vae_default_small\n",
      "Press enter to continuec\n",
      "./logs/synthetic_unimodal_data_length_20_gaussian\n",
      "./logs/synthetic_unimodal_data_length_20_gaussian/hmm\n",
      "./logs/synthetic_unimodal_data_length_20_gaussian/hmm/hmm_default_medium\n",
      "Press enter to continuec\n",
      "./logs/synthetic_unimodal_data_length_20_gaussian/hmm/hmm_default_small\n",
      "Press enter to continuec\n",
      "./logs/synthetic_unimodal_data_length_20_gaussian/rnn\n",
      "./logs/synthetic_unimodal_data_length_20_gaussian/rnn/rnn_default_medium\n",
      "Press enter to continuec\n",
      "./logs/synthetic_unimodal_data_length_20_gaussian/rnn/rnn_default_small\n",
      "Press enter to continuec\n",
      "./logs/synthetic_unimodal_data_length_20_gaussian/vae\n",
      "./logs/synthetic_unimodal_data_length_20_gaussian/vae/vae_default_medium\n",
      "Press enter to continuec\n",
      "./logs/synthetic_unimodal_data_length_20_gaussian/vae/vae_default_small\n",
      "Press enter to continuec\n",
      "./logs/synthetic_unimodal_data_length_20_skewed_gaussian\n",
      "./logs/synthetic_unimodal_data_length_20_skewed_gaussian/hmm\n",
      "./logs/synthetic_unimodal_data_length_20_skewed_gaussian/hmm/hmm_default_small\n",
      "Press enter to continuec\n",
      "./logs/synthetic_unimodal_data_length_20_skewed_gaussian/rnn\n",
      "./logs/synthetic_unimodal_data_length_20_skewed_gaussian/rnn/rnn_default_medium\n",
      "Press enter to continuec\n",
      "./logs/synthetic_unimodal_data_length_20_skewed_gaussian/rnn/rnn_default_small\n",
      "Press enter to continuec\n",
      "./logs/synthetic_unimodal_data_length_20_skewed_gaussian/vae\n",
      "./logs/synthetic_unimodal_data_length_20_skewed_gaussian/vae/vae_default_medium\n",
      "Press enter to continuec\n",
      "./logs/synthetic_unimodal_data_length_20_skewed_gaussian/vae/vae_default_small\n",
      "Press enter to continuec\n",
      "./logs/synthetic_unimodal_data_length_20_uniform\n",
      "./logs/synthetic_unimodal_data_length_20_uniform/hmm\n",
      "./logs/synthetic_unimodal_data_length_20_uniform/hmm/hmm_default_small\n",
      "Press enter to continuec\n",
      "./logs/synthetic_unimodal_data_length_20_uniform/rnn\n",
      "./logs/synthetic_unimodal_data_length_20_uniform/rnn/rnn_default_medium\n",
      "Press enter to continuec\n",
      "./logs/synthetic_unimodal_data_length_20_uniform/rnn/rnn_default_small\n"
     ]
    },
    {
     "ename": "KeyboardInterrupt",
     "evalue": "",
     "output_type": "error",
     "traceback": [
      "\u001b[0;31m---------------------------------------------------------------------------\u001b[0m",
      "\u001b[0;31mKeyboardInterrupt\u001b[0m                         Traceback (most recent call last)",
      "\u001b[0;32m~/Library/Python/3.6/lib/python/site-packages/ipykernel/kernelbase.py\u001b[0m in \u001b[0;36m_input_request\u001b[0;34m(self, prompt, ident, parent, password)\u001b[0m\n\u001b[1;32m    728\u001b[0m             \u001b[0;32mtry\u001b[0m\u001b[0;34m:\u001b[0m\u001b[0;34m\u001b[0m\u001b[0;34m\u001b[0m\u001b[0m\n\u001b[0;32m--> 729\u001b[0;31m                 \u001b[0mident\u001b[0m\u001b[0;34m,\u001b[0m \u001b[0mreply\u001b[0m \u001b[0;34m=\u001b[0m \u001b[0mself\u001b[0m\u001b[0;34m.\u001b[0m\u001b[0msession\u001b[0m\u001b[0;34m.\u001b[0m\u001b[0mrecv\u001b[0m\u001b[0;34m(\u001b[0m\u001b[0mself\u001b[0m\u001b[0;34m.\u001b[0m\u001b[0mstdin_socket\u001b[0m\u001b[0;34m,\u001b[0m \u001b[0;36m0\u001b[0m\u001b[0;34m)\u001b[0m\u001b[0;34m\u001b[0m\u001b[0;34m\u001b[0m\u001b[0m\n\u001b[0m\u001b[1;32m    730\u001b[0m             \u001b[0;32mexcept\u001b[0m \u001b[0mException\u001b[0m\u001b[0;34m:\u001b[0m\u001b[0;34m\u001b[0m\u001b[0;34m\u001b[0m\u001b[0m\n",
      "\u001b[0;32m~/Library/Python/3.6/lib/python/site-packages/jupyter_client/session.py\u001b[0m in \u001b[0;36mrecv\u001b[0;34m(self, socket, mode, content, copy)\u001b[0m\n\u001b[1;32m    802\u001b[0m         \u001b[0;32mtry\u001b[0m\u001b[0;34m:\u001b[0m\u001b[0;34m\u001b[0m\u001b[0;34m\u001b[0m\u001b[0m\n\u001b[0;32m--> 803\u001b[0;31m             \u001b[0mmsg_list\u001b[0m \u001b[0;34m=\u001b[0m \u001b[0msocket\u001b[0m\u001b[0;34m.\u001b[0m\u001b[0mrecv_multipart\u001b[0m\u001b[0;34m(\u001b[0m\u001b[0mmode\u001b[0m\u001b[0;34m,\u001b[0m \u001b[0mcopy\u001b[0m\u001b[0;34m=\u001b[0m\u001b[0mcopy\u001b[0m\u001b[0;34m)\u001b[0m\u001b[0;34m\u001b[0m\u001b[0;34m\u001b[0m\u001b[0m\n\u001b[0m\u001b[1;32m    804\u001b[0m         \u001b[0;32mexcept\u001b[0m \u001b[0mzmq\u001b[0m\u001b[0;34m.\u001b[0m\u001b[0mZMQError\u001b[0m \u001b[0;32mas\u001b[0m \u001b[0me\u001b[0m\u001b[0;34m:\u001b[0m\u001b[0;34m\u001b[0m\u001b[0;34m\u001b[0m\u001b[0m\n",
      "\u001b[0;32m~/Library/Python/3.6/lib/python/site-packages/zmq/sugar/socket.py\u001b[0m in \u001b[0;36mrecv_multipart\u001b[0;34m(self, flags, copy, track)\u001b[0m\n\u001b[1;32m    465\u001b[0m         \"\"\"\n\u001b[0;32m--> 466\u001b[0;31m         \u001b[0mparts\u001b[0m \u001b[0;34m=\u001b[0m \u001b[0;34m[\u001b[0m\u001b[0mself\u001b[0m\u001b[0;34m.\u001b[0m\u001b[0mrecv\u001b[0m\u001b[0;34m(\u001b[0m\u001b[0mflags\u001b[0m\u001b[0;34m,\u001b[0m \u001b[0mcopy\u001b[0m\u001b[0;34m=\u001b[0m\u001b[0mcopy\u001b[0m\u001b[0;34m,\u001b[0m \u001b[0mtrack\u001b[0m\u001b[0;34m=\u001b[0m\u001b[0mtrack\u001b[0m\u001b[0;34m)\u001b[0m\u001b[0;34m]\u001b[0m\u001b[0;34m\u001b[0m\u001b[0;34m\u001b[0m\u001b[0m\n\u001b[0m\u001b[1;32m    467\u001b[0m         \u001b[0;31m# have first part already, only loop while more to receive\u001b[0m\u001b[0;34m\u001b[0m\u001b[0;34m\u001b[0m\u001b[0;34m\u001b[0m\u001b[0m\n",
      "\u001b[0;32mzmq/backend/cython/socket.pyx\u001b[0m in \u001b[0;36mzmq.backend.cython.socket.Socket.recv\u001b[0;34m()\u001b[0m\n",
      "\u001b[0;32mzmq/backend/cython/socket.pyx\u001b[0m in \u001b[0;36mzmq.backend.cython.socket.Socket.recv\u001b[0;34m()\u001b[0m\n",
      "\u001b[0;32mzmq/backend/cython/socket.pyx\u001b[0m in \u001b[0;36mzmq.backend.cython.socket._recv_copy\u001b[0;34m()\u001b[0m\n",
      "\u001b[0;32m~/Library/Python/3.6/lib/python/site-packages/zmq/backend/cython/checkrc.pxd\u001b[0m in \u001b[0;36mzmq.backend.cython.checkrc._check_rc\u001b[0;34m()\u001b[0m\n",
      "\u001b[0;31mKeyboardInterrupt\u001b[0m: ",
      "\nDuring handling of the above exception, another exception occurred:\n",
      "\u001b[0;31mKeyboardInterrupt\u001b[0m                         Traceback (most recent call last)",
      "\u001b[0;32m<ipython-input-11-406417866bf1>\u001b[0m in \u001b[0;36m<module>\u001b[0;34m()\u001b[0m\n\u001b[1;32m      7\u001b[0m                 \u001b[0mrun_bash\u001b[0m\u001b[0;34m(\u001b[0m\u001b[0;34m\"open {0}\"\u001b[0m\u001b[0;34m.\u001b[0m\u001b[0mformat\u001b[0m\u001b[0;34m(\u001b[0m\u001b[0mfile_name\u001b[0m\u001b[0;34m)\u001b[0m\u001b[0;34m)\u001b[0m\u001b[0;34m\u001b[0m\u001b[0;34m\u001b[0m\u001b[0m\n\u001b[1;32m      8\u001b[0m         \u001b[0;32mtry\u001b[0m\u001b[0;34m:\u001b[0m\u001b[0;34m\u001b[0m\u001b[0;34m\u001b[0m\u001b[0m\n\u001b[0;32m----> 9\u001b[0;31m             \u001b[0mx\u001b[0m \u001b[0;34m=\u001b[0m \u001b[0minput\u001b[0m\u001b[0;34m(\u001b[0m\u001b[0;34m\"Press enter to continue\"\u001b[0m\u001b[0;34m)\u001b[0m\u001b[0;34m\u001b[0m\u001b[0;34m\u001b[0m\u001b[0m\n\u001b[0m\u001b[1;32m     10\u001b[0m         \u001b[0;32mexcept\u001b[0m \u001b[0mSyntaxError\u001b[0m\u001b[0;34m:\u001b[0m\u001b[0;34m\u001b[0m\u001b[0;34m\u001b[0m\u001b[0m\n\u001b[1;32m     11\u001b[0m             \u001b[0;32mpass\u001b[0m\u001b[0;34m\u001b[0m\u001b[0;34m\u001b[0m\u001b[0m\n",
      "\u001b[0;32m~/Library/Python/3.6/lib/python/site-packages/ipykernel/kernelbase.py\u001b[0m in \u001b[0;36mraw_input\u001b[0;34m(self, prompt)\u001b[0m\n\u001b[1;32m    702\u001b[0m             \u001b[0mself\u001b[0m\u001b[0;34m.\u001b[0m\u001b[0m_parent_ident\u001b[0m\u001b[0;34m,\u001b[0m\u001b[0;34m\u001b[0m\u001b[0;34m\u001b[0m\u001b[0m\n\u001b[1;32m    703\u001b[0m             \u001b[0mself\u001b[0m\u001b[0;34m.\u001b[0m\u001b[0m_parent_header\u001b[0m\u001b[0;34m,\u001b[0m\u001b[0;34m\u001b[0m\u001b[0;34m\u001b[0m\u001b[0m\n\u001b[0;32m--> 704\u001b[0;31m             \u001b[0mpassword\u001b[0m\u001b[0;34m=\u001b[0m\u001b[0;32mFalse\u001b[0m\u001b[0;34m,\u001b[0m\u001b[0;34m\u001b[0m\u001b[0;34m\u001b[0m\u001b[0m\n\u001b[0m\u001b[1;32m    705\u001b[0m         )\n\u001b[1;32m    706\u001b[0m \u001b[0;34m\u001b[0m\u001b[0m\n",
      "\u001b[0;32m~/Library/Python/3.6/lib/python/site-packages/ipykernel/kernelbase.py\u001b[0m in \u001b[0;36m_input_request\u001b[0;34m(self, prompt, ident, parent, password)\u001b[0m\n\u001b[1;32m    732\u001b[0m             \u001b[0;32mexcept\u001b[0m \u001b[0mKeyboardInterrupt\u001b[0m\u001b[0;34m:\u001b[0m\u001b[0;34m\u001b[0m\u001b[0;34m\u001b[0m\u001b[0m\n\u001b[1;32m    733\u001b[0m                 \u001b[0;31m# re-raise KeyboardInterrupt, to truncate traceback\u001b[0m\u001b[0;34m\u001b[0m\u001b[0;34m\u001b[0m\u001b[0;34m\u001b[0m\u001b[0m\n\u001b[0;32m--> 734\u001b[0;31m                 \u001b[0;32mraise\u001b[0m \u001b[0mKeyboardInterrupt\u001b[0m\u001b[0;34m\u001b[0m\u001b[0;34m\u001b[0m\u001b[0m\n\u001b[0m\u001b[1;32m    735\u001b[0m             \u001b[0;32melse\u001b[0m\u001b[0;34m:\u001b[0m\u001b[0;34m\u001b[0m\u001b[0;34m\u001b[0m\u001b[0m\n\u001b[1;32m    736\u001b[0m                 \u001b[0;32mbreak\u001b[0m\u001b[0;34m\u001b[0m\u001b[0;34m\u001b[0m\u001b[0m\n",
      "\u001b[0;31mKeyboardInterrupt\u001b[0m: "
     ]
    }
   ],
   "source": [
    "for dirpath, dirnames, filenames in os.walk(\"./logs/\"):\n",
    "    print(dirpath)\n",
    "    if not dirnames:\n",
    "        for file in filenames: \n",
    "            file_name = os.path.join(dirpath, file)\n",
    "            if \"log.txt\" in file_name: \n",
    "                run_bash(\"open {0}\".format(file_name))\n",
    "        try:\n",
    "            x = input(\"Press enter to continue\")\n",
    "        except SyntaxError:\n",
    "            pass"
   ]
  },
  {
   "cell_type": "markdown",
   "metadata": {},
   "source": [
    "## try catch block"
   ]
  },
  {
   "cell_type": "code",
   "execution_count": 135,
   "metadata": {},
   "outputs": [
    {
     "name": "stdout",
     "output_type": "stream",
     "text": [
      "1\n"
     ]
    },
    {
     "ename": "FileNotFoundError",
     "evalue": "File b'./a' does not exist",
     "output_type": "error",
     "traceback": [
      "\u001b[0;31m---------------------------------------------------------------------------\u001b[0m",
      "\u001b[0;31mFileNotFoundError\u001b[0m                         Traceback (most recent call last)",
      "\u001b[0;32m<ipython-input-135-342e8fcbdf7f>\u001b[0m in \u001b[0;36m<module>\u001b[0;34m()\u001b[0m\n\u001b[1;32m     15\u001b[0m         \u001b[0mlogger\u001b[0m\u001b[0;34m.\u001b[0m\u001b[0mclose\u001b[0m\u001b[0;34m(\u001b[0m\u001b[0;34m)\u001b[0m\u001b[0;34m\u001b[0m\u001b[0;34m\u001b[0m\u001b[0m\n\u001b[1;32m     16\u001b[0m     \u001b[0;32mif\u001b[0m \u001b[0mx\u001b[0m\u001b[0;34m:\u001b[0m\u001b[0;34m\u001b[0m\u001b[0;34m\u001b[0m\u001b[0m\n\u001b[0;32m---> 17\u001b[0;31m         \u001b[0;32mraise\u001b[0m \u001b[0mexc_value\u001b[0m\u001b[0;34m\u001b[0m\u001b[0;34m\u001b[0m\u001b[0m\n\u001b[0m\u001b[1;32m     18\u001b[0m     \u001b[0;32melse\u001b[0m\u001b[0;34m:\u001b[0m\u001b[0;34m\u001b[0m\u001b[0;34m\u001b[0m\u001b[0m\n\u001b[1;32m     19\u001b[0m         \u001b[0mprint\u001b[0m\u001b[0;34m(\u001b[0m\u001b[0;36m1\u001b[0m\u001b[0;34m)\u001b[0m\u001b[0;34m\u001b[0m\u001b[0;34m\u001b[0m\u001b[0m\n",
      "\u001b[0;32m<ipython-input-135-342e8fcbdf7f>\u001b[0m in \u001b[0;36m<module>\u001b[0;34m()\u001b[0m\n\u001b[1;32m      1\u001b[0m \u001b[0mx\u001b[0m \u001b[0;34m=\u001b[0m \u001b[0;32mFalse\u001b[0m\u001b[0;34m\u001b[0m\u001b[0;34m\u001b[0m\u001b[0m\n\u001b[1;32m      2\u001b[0m \u001b[0;32mtry\u001b[0m\u001b[0;34m:\u001b[0m\u001b[0;34m\u001b[0m\u001b[0;34m\u001b[0m\u001b[0m\n\u001b[0;32m----> 3\u001b[0;31m     \u001b[0mpd\u001b[0m\u001b[0;34m.\u001b[0m\u001b[0mread_csv\u001b[0m\u001b[0;34m(\u001b[0m\u001b[0;34m\"./a\"\u001b[0m\u001b[0;34m)\u001b[0m\u001b[0;34m\u001b[0m\u001b[0;34m\u001b[0m\u001b[0m\n\u001b[0m\u001b[1;32m      4\u001b[0m \u001b[0;32mexcept\u001b[0m \u001b[0mException\u001b[0m \u001b[0;32mas\u001b[0m \u001b[0me\u001b[0m\u001b[0;34m:\u001b[0m\u001b[0;34m\u001b[0m\u001b[0;34m\u001b[0m\u001b[0m\n\u001b[1;32m      5\u001b[0m     \u001b[0mlogger\u001b[0m \u001b[0;34m=\u001b[0m \u001b[0mopen\u001b[0m\u001b[0;34m(\u001b[0m\u001b[0;34m\"./tmp.txt\"\u001b[0m\u001b[0;34m,\u001b[0m \u001b[0;34m\"w+\"\u001b[0m\u001b[0;34m)\u001b[0m\u001b[0;34m\u001b[0m\u001b[0;34m\u001b[0m\u001b[0m\n",
      "\u001b[0;32m~/Library/Python/3.6/lib/python/site-packages/pandas/io/parsers.py\u001b[0m in \u001b[0;36mparser_f\u001b[0;34m(filepath_or_buffer, sep, delimiter, header, names, index_col, usecols, squeeze, prefix, mangle_dupe_cols, dtype, engine, converters, true_values, false_values, skipinitialspace, skiprows, nrows, na_values, keep_default_na, na_filter, verbose, skip_blank_lines, parse_dates, infer_datetime_format, keep_date_col, date_parser, dayfirst, iterator, chunksize, compression, thousands, decimal, lineterminator, quotechar, quoting, escapechar, comment, encoding, dialect, tupleize_cols, error_bad_lines, warn_bad_lines, skipfooter, doublequote, delim_whitespace, low_memory, memory_map, float_precision)\u001b[0m\n\u001b[1;32m    676\u001b[0m                     skip_blank_lines=skip_blank_lines)\n\u001b[1;32m    677\u001b[0m \u001b[0;34m\u001b[0m\u001b[0m\n\u001b[0;32m--> 678\u001b[0;31m         \u001b[0;32mreturn\u001b[0m \u001b[0m_read\u001b[0m\u001b[0;34m(\u001b[0m\u001b[0mfilepath_or_buffer\u001b[0m\u001b[0;34m,\u001b[0m \u001b[0mkwds\u001b[0m\u001b[0;34m)\u001b[0m\u001b[0;34m\u001b[0m\u001b[0;34m\u001b[0m\u001b[0m\n\u001b[0m\u001b[1;32m    679\u001b[0m \u001b[0;34m\u001b[0m\u001b[0m\n\u001b[1;32m    680\u001b[0m     \u001b[0mparser_f\u001b[0m\u001b[0;34m.\u001b[0m\u001b[0m__name__\u001b[0m \u001b[0;34m=\u001b[0m \u001b[0mname\u001b[0m\u001b[0;34m\u001b[0m\u001b[0;34m\u001b[0m\u001b[0m\n",
      "\u001b[0;32m~/Library/Python/3.6/lib/python/site-packages/pandas/io/parsers.py\u001b[0m in \u001b[0;36m_read\u001b[0;34m(filepath_or_buffer, kwds)\u001b[0m\n\u001b[1;32m    438\u001b[0m \u001b[0;34m\u001b[0m\u001b[0m\n\u001b[1;32m    439\u001b[0m     \u001b[0;31m# Create the parser.\u001b[0m\u001b[0;34m\u001b[0m\u001b[0;34m\u001b[0m\u001b[0;34m\u001b[0m\u001b[0m\n\u001b[0;32m--> 440\u001b[0;31m     \u001b[0mparser\u001b[0m \u001b[0;34m=\u001b[0m \u001b[0mTextFileReader\u001b[0m\u001b[0;34m(\u001b[0m\u001b[0mfilepath_or_buffer\u001b[0m\u001b[0;34m,\u001b[0m \u001b[0;34m**\u001b[0m\u001b[0mkwds\u001b[0m\u001b[0;34m)\u001b[0m\u001b[0;34m\u001b[0m\u001b[0;34m\u001b[0m\u001b[0m\n\u001b[0m\u001b[1;32m    441\u001b[0m \u001b[0;34m\u001b[0m\u001b[0m\n\u001b[1;32m    442\u001b[0m     \u001b[0;32mif\u001b[0m \u001b[0mchunksize\u001b[0m \u001b[0;32mor\u001b[0m \u001b[0miterator\u001b[0m\u001b[0;34m:\u001b[0m\u001b[0;34m\u001b[0m\u001b[0;34m\u001b[0m\u001b[0m\n",
      "\u001b[0;32m~/Library/Python/3.6/lib/python/site-packages/pandas/io/parsers.py\u001b[0m in \u001b[0;36m__init__\u001b[0;34m(self, f, engine, **kwds)\u001b[0m\n\u001b[1;32m    785\u001b[0m             \u001b[0mself\u001b[0m\u001b[0;34m.\u001b[0m\u001b[0moptions\u001b[0m\u001b[0;34m[\u001b[0m\u001b[0;34m'has_index_names'\u001b[0m\u001b[0;34m]\u001b[0m \u001b[0;34m=\u001b[0m \u001b[0mkwds\u001b[0m\u001b[0;34m[\u001b[0m\u001b[0;34m'has_index_names'\u001b[0m\u001b[0;34m]\u001b[0m\u001b[0;34m\u001b[0m\u001b[0;34m\u001b[0m\u001b[0m\n\u001b[1;32m    786\u001b[0m \u001b[0;34m\u001b[0m\u001b[0m\n\u001b[0;32m--> 787\u001b[0;31m         \u001b[0mself\u001b[0m\u001b[0;34m.\u001b[0m\u001b[0m_make_engine\u001b[0m\u001b[0;34m(\u001b[0m\u001b[0mself\u001b[0m\u001b[0;34m.\u001b[0m\u001b[0mengine\u001b[0m\u001b[0;34m)\u001b[0m\u001b[0;34m\u001b[0m\u001b[0;34m\u001b[0m\u001b[0m\n\u001b[0m\u001b[1;32m    788\u001b[0m \u001b[0;34m\u001b[0m\u001b[0m\n\u001b[1;32m    789\u001b[0m     \u001b[0;32mdef\u001b[0m \u001b[0mclose\u001b[0m\u001b[0;34m(\u001b[0m\u001b[0mself\u001b[0m\u001b[0;34m)\u001b[0m\u001b[0;34m:\u001b[0m\u001b[0;34m\u001b[0m\u001b[0;34m\u001b[0m\u001b[0m\n",
      "\u001b[0;32m~/Library/Python/3.6/lib/python/site-packages/pandas/io/parsers.py\u001b[0m in \u001b[0;36m_make_engine\u001b[0;34m(self, engine)\u001b[0m\n\u001b[1;32m   1012\u001b[0m     \u001b[0;32mdef\u001b[0m \u001b[0m_make_engine\u001b[0m\u001b[0;34m(\u001b[0m\u001b[0mself\u001b[0m\u001b[0;34m,\u001b[0m \u001b[0mengine\u001b[0m\u001b[0;34m=\u001b[0m\u001b[0;34m'c'\u001b[0m\u001b[0;34m)\u001b[0m\u001b[0;34m:\u001b[0m\u001b[0;34m\u001b[0m\u001b[0;34m\u001b[0m\u001b[0m\n\u001b[1;32m   1013\u001b[0m         \u001b[0;32mif\u001b[0m \u001b[0mengine\u001b[0m \u001b[0;34m==\u001b[0m \u001b[0;34m'c'\u001b[0m\u001b[0;34m:\u001b[0m\u001b[0;34m\u001b[0m\u001b[0;34m\u001b[0m\u001b[0m\n\u001b[0;32m-> 1014\u001b[0;31m             \u001b[0mself\u001b[0m\u001b[0;34m.\u001b[0m\u001b[0m_engine\u001b[0m \u001b[0;34m=\u001b[0m \u001b[0mCParserWrapper\u001b[0m\u001b[0;34m(\u001b[0m\u001b[0mself\u001b[0m\u001b[0;34m.\u001b[0m\u001b[0mf\u001b[0m\u001b[0;34m,\u001b[0m \u001b[0;34m**\u001b[0m\u001b[0mself\u001b[0m\u001b[0;34m.\u001b[0m\u001b[0moptions\u001b[0m\u001b[0;34m)\u001b[0m\u001b[0;34m\u001b[0m\u001b[0;34m\u001b[0m\u001b[0m\n\u001b[0m\u001b[1;32m   1015\u001b[0m         \u001b[0;32melse\u001b[0m\u001b[0;34m:\u001b[0m\u001b[0;34m\u001b[0m\u001b[0;34m\u001b[0m\u001b[0m\n\u001b[1;32m   1016\u001b[0m             \u001b[0;32mif\u001b[0m \u001b[0mengine\u001b[0m \u001b[0;34m==\u001b[0m \u001b[0;34m'python'\u001b[0m\u001b[0;34m:\u001b[0m\u001b[0;34m\u001b[0m\u001b[0;34m\u001b[0m\u001b[0m\n",
      "\u001b[0;32m~/Library/Python/3.6/lib/python/site-packages/pandas/io/parsers.py\u001b[0m in \u001b[0;36m__init__\u001b[0;34m(self, src, **kwds)\u001b[0m\n\u001b[1;32m   1706\u001b[0m         \u001b[0mkwds\u001b[0m\u001b[0;34m[\u001b[0m\u001b[0;34m'usecols'\u001b[0m\u001b[0;34m]\u001b[0m \u001b[0;34m=\u001b[0m \u001b[0mself\u001b[0m\u001b[0;34m.\u001b[0m\u001b[0musecols\u001b[0m\u001b[0;34m\u001b[0m\u001b[0;34m\u001b[0m\u001b[0m\n\u001b[1;32m   1707\u001b[0m \u001b[0;34m\u001b[0m\u001b[0m\n\u001b[0;32m-> 1708\u001b[0;31m         \u001b[0mself\u001b[0m\u001b[0;34m.\u001b[0m\u001b[0m_reader\u001b[0m \u001b[0;34m=\u001b[0m \u001b[0mparsers\u001b[0m\u001b[0;34m.\u001b[0m\u001b[0mTextReader\u001b[0m\u001b[0;34m(\u001b[0m\u001b[0msrc\u001b[0m\u001b[0;34m,\u001b[0m \u001b[0;34m**\u001b[0m\u001b[0mkwds\u001b[0m\u001b[0;34m)\u001b[0m\u001b[0;34m\u001b[0m\u001b[0;34m\u001b[0m\u001b[0m\n\u001b[0m\u001b[1;32m   1709\u001b[0m \u001b[0;34m\u001b[0m\u001b[0m\n\u001b[1;32m   1710\u001b[0m         \u001b[0mpassed_names\u001b[0m \u001b[0;34m=\u001b[0m \u001b[0mself\u001b[0m\u001b[0;34m.\u001b[0m\u001b[0mnames\u001b[0m \u001b[0;32mis\u001b[0m \u001b[0;32mNone\u001b[0m\u001b[0;34m\u001b[0m\u001b[0;34m\u001b[0m\u001b[0m\n",
      "\u001b[0;32mpandas/_libs/parsers.pyx\u001b[0m in \u001b[0;36mpandas._libs.parsers.TextReader.__cinit__\u001b[0;34m()\u001b[0m\n",
      "\u001b[0;32mpandas/_libs/parsers.pyx\u001b[0m in \u001b[0;36mpandas._libs.parsers.TextReader._setup_parser_source\u001b[0;34m()\u001b[0m\n",
      "\u001b[0;31mFileNotFoundError\u001b[0m: File b'./a' does not exist"
     ]
    }
   ],
   "source": [
    "x = False\n",
    "try: \n",
    "    pd.read_csv(\"./a\")\n",
    "except Exception as e:\n",
    "    logger = open(\"./tmp.txt\", \"w+\")\n",
    "    exc_type, exc_value, exc_traceback = sys.exc_info()\n",
    "    print(\"=\" * 50, file=logger)\n",
    "    print(\"Error in running experiment: {0}\\nTraceback log: \".format(\"1\"), file=logger)\n",
    "    print(\"=\" * 50, file=logger)\n",
    "    traceback.print_tb(exc_traceback, file=logger)\n",
    "    x = True\n",
    "finally:\n",
    "    print(1)\n",
    "    if logger:\n",
    "        logger.close()\n",
    "    if x: \n",
    "        raise exc_value\n",
    "    else: \n",
    "        print(1)"
   ]
  },
  {
   "cell_type": "code",
   "execution_count": 128,
   "metadata": {},
   "outputs": [],
   "source": [
    "!open tmp.txt"
   ]
  },
  {
   "cell_type": "code",
   "execution_count": 112,
   "metadata": {},
   "outputs": [],
   "source": [
    "!rm tmp.txt"
   ]
  },
  {
   "cell_type": "code",
   "execution_count": 144,
   "metadata": {},
   "outputs": [
    {
     "name": "stdout",
     "output_type": "stream",
     "text": [
      "0\n",
      "10000000\n",
      "20000000\n",
      "30000000\n",
      "python\n"
     ]
    }
   ],
   "source": [
    "try: \n",
    "    for i in range(10000000000): \n",
    "        if i % 10000000 == 0: \n",
    "            print(i)\n",
    "except: \n",
    "    print(\"python\")"
   ]
  },
  {
   "cell_type": "code",
   "execution_count": 145,
   "metadata": {},
   "outputs": [
    {
     "name": "stdout",
     "output_type": "stream",
     "text": [
      "0\n",
      "10000000\n",
      "20000000\n"
     ]
    },
    {
     "ename": "KeyboardInterrupt",
     "evalue": "",
     "output_type": "error",
     "traceback": [
      "\u001b[0;31m---------------------------------------------------------------------------\u001b[0m",
      "\u001b[0;31mKeyboardInterrupt\u001b[0m                         Traceback (most recent call last)",
      "\u001b[0;32m<ipython-input-145-b03458565a3e>\u001b[0m in \u001b[0;36m<module>\u001b[0;34m()\u001b[0m\n\u001b[1;32m      1\u001b[0m \u001b[0;32mtry\u001b[0m\u001b[0;34m:\u001b[0m\u001b[0;34m\u001b[0m\u001b[0;34m\u001b[0m\u001b[0m\n\u001b[0;32m----> 2\u001b[0;31m     \u001b[0;32mfor\u001b[0m \u001b[0mi\u001b[0m \u001b[0;32min\u001b[0m \u001b[0mrange\u001b[0m\u001b[0;34m(\u001b[0m\u001b[0;36m10000000000\u001b[0m\u001b[0;34m)\u001b[0m\u001b[0;34m:\u001b[0m\u001b[0;34m\u001b[0m\u001b[0;34m\u001b[0m\u001b[0m\n\u001b[0m\u001b[1;32m      3\u001b[0m         \u001b[0;32mif\u001b[0m \u001b[0mi\u001b[0m \u001b[0;34m%\u001b[0m \u001b[0;36m10000000\u001b[0m \u001b[0;34m==\u001b[0m \u001b[0;36m0\u001b[0m\u001b[0;34m:\u001b[0m\u001b[0;34m\u001b[0m\u001b[0;34m\u001b[0m\u001b[0m\n\u001b[1;32m      4\u001b[0m             \u001b[0mprint\u001b[0m\u001b[0;34m(\u001b[0m\u001b[0mi\u001b[0m\u001b[0;34m)\u001b[0m\u001b[0;34m\u001b[0m\u001b[0;34m\u001b[0m\u001b[0m\n\u001b[1;32m      5\u001b[0m \u001b[0;32mexcept\u001b[0m \u001b[0mException\u001b[0m \u001b[0;32mas\u001b[0m \u001b[0me\u001b[0m\u001b[0;34m:\u001b[0m\u001b[0;34m\u001b[0m\u001b[0;34m\u001b[0m\u001b[0m\n",
      "\u001b[0;31mKeyboardInterrupt\u001b[0m: "
     ]
    }
   ],
   "source": [
    "# these two are different \n",
    "try: \n",
    "    for i in range(10000000000): \n",
    "        if i % 10000000 == 0: \n",
    "            print(i)\n",
    "except Exception as e: \n",
    "    print(\"python\") "
   ]
  },
  {
   "cell_type": "code",
   "execution_count": null,
   "metadata": {},
   "outputs": [],
   "source": []
  }
 ],
 "metadata": {
  "kernelspec": {
   "display_name": "Python 3",
   "language": "python",
   "name": "python3"
  },
  "language_info": {
   "codemirror_mode": {
    "name": "ipython",
    "version": 3
   },
   "file_extension": ".py",
   "mimetype": "text/x-python",
   "name": "python",
   "nbconvert_exporter": "python",
   "pygments_lexer": "ipython3",
   "version": "3.6.8"
  }
 },
 "nbformat": 4,
 "nbformat_minor": 2
}
