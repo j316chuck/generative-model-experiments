{
 "cells": [
  {
   "cell_type": "code",
   "execution_count": 23,
   "metadata": {},
   "outputs": [],
   "source": [
    "import torch \n",
    "import matplotlib.pyplot as plt\n",
    "from main import get_dataloader\n",
    "from utils import get_all_amino_acids, get_wild_type_amino_acid_sequence, count_substring_mismatch\n",
    "from rnn import GenerativeRNN, rnn_default_args"
   ]
  },
  {
   "cell_type": "code",
   "execution_count": 11,
   "metadata": {},
   "outputs": [],
   "source": [
    "args = rnn_default_args()\n",
    "args[\"num_data\"] = 1000\n",
    "args[\"dataset\"] = \"gfp_amino_acid\""
   ]
  },
  {
   "cell_type": "code",
   "execution_count": 12,
   "metadata": {},
   "outputs": [],
   "source": [
    "rnn = GenerativeRNN(args)"
   ]
  },
  {
   "cell_type": "code",
   "execution_count": 13,
   "metadata": {},
   "outputs": [],
   "source": [
    "# test load \n",
    "rnn.load_model(\"./models/rnn_test_sample_1/checkpoint_50.pt\")"
   ]
  },
  {
   "cell_type": "code",
   "execution_count": 14,
   "metadata": {},
   "outputs": [],
   "source": [
    "train_loader, valid_loader, test_loader = get_dataloader(args)"
   ]
  },
  {
   "cell_type": "code",
   "execution_count": 17,
   "metadata": {},
   "outputs": [
    {
     "name": "stdout",
     "output_type": "stream",
     "text": [
      "24.165978515625\n"
     ]
    }
   ],
   "source": [
    "score = rnn.evaluate(test_loader)\n",
    "print(score)\n",
    "assert(score < 26)"
   ]
  },
  {
   "cell_type": "code",
   "execution_count": 20,
   "metadata": {},
   "outputs": [],
   "source": [
    "# test sample\n",
    "samples = rnn.sample(1000, 238)"
   ]
  },
  {
   "cell_type": "code",
   "execution_count": 21,
   "metadata": {},
   "outputs": [
    {
     "name": "stdout",
     "output_type": "stream",
     "text": [
      "[4, 8, 4, 3, 1, 5, 2, 4, 3, 190, 4, 3, 5, 3, 2, 5, 9, 5, 5, 3, 5, 3, 5, 4, 2, 2, 2, 0, 3, 8, 2, 2, 4, 192, 4, 3, 2, 3, 3, 3, 94, 2, 226, 3, 3, 4, 5, 214, 1, 1, 3, 6, 208, 4, 5, 4, 137, 3, 4, 5, 2, 3, 219, 2, 130, 5, 4, 3, 224, 5, 5, 6, 8, 8, 2, 4, 5, 2, 1, 25, 160, 2, 3, 174, 3, 4, 3, 2, 73, 5, 5, 5, 3, 3, 5, 2, 7, 3, 1, 4, 1, 3, 4, 2, 219, 4, 3, 4, 6, 3, 2, 164, 2, 8, 4, 8, 2, 1, 4, 2, 3, 8, 6, 4, 81, 4, 6, 5, 2, 143, 6, 3, 4, 3, 6, 4, 191, 3, 2, 5, 6, 3, 4, 179, 4, 1, 4, 3, 6, 2, 3, 3, 226, 3, 3, 3, 4, 6, 6, 147, 4, 4, 2, 3, 7, 3, 1, 4, 3, 1, 229, 7, 3, 7, 3, 7, 6, 3, 5, 1, 1, 2, 4, 7, 6, 3, 6, 110, 2, 4, 2, 3, 9, 2, 4, 2, 4, 2, 3, 4, 4, 168, 5, 4, 5, 5, 3, 5, 4, 4, 1, 3, 9, 8, 5, 4, 6, 4, 0, 4, 2, 4, 2, 5, 2, 2, 6, 1, 1, 168, 0, 6, 3, 3, 2, 226, 3, 5, 5, 4, 5, 2, 224, 3, 2, 3, 6, 7, 4, 2, 160, 2, 3, 0, 1, 5, 229, 109, 2, 0, 0, 93, 6, 4, 3, 4, 5, 5, 3, 2, 3, 7, 4, 5, 1, 174, 4, 172, 1, 5, 1, 4, 5, 5, 155, 4, 3, 2, 4, 4, 0, 5, 1, 5, 2, 6, 181, 93, 2, 4, 4, 9, 10, 4, 2, 5, 2, 5, 5, 6, 4, 221, 4, 4, 225, 5, 4, 0, 1, 60, 3, 3, 3, 3, 6, 2, 2, 3, 2, 3, 4, 5, 2, 4, 138, 3, 2, 12, 3, 1, 4, 1, 5, 4, 167, 1, 1, 5, 147, 4, 0, 4, 4, 3, 1, 3, 189, 3, 3, 2, 5, 1, 4, 3, 5, 1, 1, 2, 222, 10, 4, 1, 0, 0, 3, 90, 5, 9, 7, 5, 168, 2, 2, 1, 2, 2, 202, 2, 5, 10, 4, 7, 5, 4, 2, 3, 3, 3, 171, 5, 4, 3, 1, 3, 6, 1, 1, 1, 4, 1, 167, 136, 1, 5, 4, 2, 4, 3, 7, 3, 2, 1, 2, 6, 10, 4, 8, 78, 109, 3, 6, 3, 1, 2, 212, 5, 5, 5, 3, 163, 9, 4, 3, 1, 2, 3, 4, 4, 4, 2, 6, 5, 4, 9, 2, 10, 2, 0, 1, 2, 3, 58, 217, 4, 2, 0, 2, 3, 1, 2, 7, 58, 3, 5, 2, 178, 7, 3, 7, 4, 1, 8, 2, 7, 186, 1, 3, 81, 5, 3, 1, 0, 6, 132, 25, 6, 2, 7, 5, 5, 5, 3, 1, 4, 2, 6, 6, 5, 4, 7, 1, 3, 4, 3, 172, 3, 1, 3, 2, 3, 2, 5, 2, 4, 6, 4, 4, 5, 3, 3, 4, 6, 3, 1, 1, 1, 5, 3, 224, 7, 3, 31, 3, 6, 0, 221, 6, 0, 3, 5, 1, 3, 7, 4, 5, 3, 3, 3, 7, 4, 5, 5, 0, 9, 4, 2, 1, 2, 3, 6, 6, 103, 1, 2, 2, 27, 6, 6, 8, 4, 4, 8, 106, 2, 6, 5, 1, 4, 4, 3, 2, 2, 222, 3, 3, 5, 4, 214, 5, 2, 6, 91, 107, 1, 3, 3, 1, 7, 2, 3, 2, 6, 5, 4, 5, 4, 4, 3, 3, 4, 1, 3, 2, 4, 2, 3, 224, 206, 3, 3, 51, 2, 5, 4, 3, 35, 4, 5, 1, 3, 4, 1, 4, 3, 2, 5, 4, 4, 104, 5, 1, 1, 1, 7, 3, 5, 3, 1, 110, 4, 2, 8, 0, 4, 3, 211, 226, 2, 3, 9, 3, 6, 1, 5, 2, 4, 5, 3, 3, 3, 1, 4, 141, 4, 1, 3, 6, 63, 2, 3, 4, 3, 4, 171, 2, 4, 3, 3, 2, 5, 178, 6, 9, 4, 5, 4, 3, 6, 2, 2, 2, 2, 8, 6, 2, 220, 4, 2, 1, 5, 6, 6, 3, 3, 4, 1, 130, 133, 1, 6, 130, 4, 4, 3, 77, 5, 5, 3, 1, 4, 5, 6, 1, 2, 1, 4, 4, 2, 188, 5, 2, 12, 18, 190, 1, 118, 7, 12, 2, 233, 8, 3, 3, 0, 131, 4, 4, 6, 5, 6, 5, 2, 5, 8, 3, 3, 7, 1, 4, 3, 146, 3, 3, 4, 5, 4, 166, 1, 4, 99, 3, 8, 1, 1, 3, 3, 1, 4, 3, 17, 6, 8, 123, 3, 3, 2, 4, 6, 0, 5, 3, 4, 140, 232, 7, 80, 5, 1, 3, 6, 3, 166, 3, 4, 220, 3, 2, 3, 2, 3, 33, 78, 4, 2, 1, 3, 3, 5, 3, 4, 90, 4, 3, 5, 3, 4, 7, 9, 7, 3, 227, 1, 29, 4, 1, 2, 2, 3, 5, 1, 96, 92, 2, 80, 5, 2, 159, 5, 2, 5, 2, 5, 15, 5, 5, 1, 4, 0, 5, 4, 3, 4, 94, 2, 3, 3, 5, 4, 2, 5, 1, 4, 3, 2, 3, 3, 3, 5, 202, 7, 0, 1, 2, 2, 5, 136, 5, 175, 3, 2, 4, 5, 3, 2, 1, 5, 6, 4, 5, 3, 7, 10, 3, 4, 6, 2, 5, 3, 6, 184, 2, 0, 4, 5, 6, 1, 6, 9, 4, 42, 88, 2, 0, 7, 5, 2, 5, 1, 6, 5, 4, 2, 4, 6, 226, 5, 3, 3, 9, 4, 2, 1, 4, 4, 2, 4, 8, 9, 3, 4, 7, 4, 0, 3, 1, 6, 0, 8, 84, 4, 11, 3, 5, 4, 8, 2, 3, 2, 3, 3, 5, 3, 5, 3, 6, 3, 3, 3, 7, 1]\n"
     ]
    }
   ],
   "source": [
    "wild_type = get_wild_type_amino_acid_sequence()\n",
    "mismatches = [count_substring_mismatch(sample, wild_type) for sample in samples]\n",
    "print(mismatches)"
   ]
  },
  {
   "cell_type": "code",
   "execution_count": 24,
   "metadata": {},
   "outputs": [
    {
     "data": {
      "image/png": "[encoded data removed]",
      "text/plain": [
       "<Figure size 432x288 with 1 Axes>"
      ]
     },
     "metadata": {},
     "output_type": "display_data"
    }
   ],
   "source": [
    "plt.hist(mismatches)\n",
    "plt.show()\n"
   ]
  },
  {
   "cell_type": "code",
   "execution_count": 25,
   "metadata": {},
   "outputs": [],
   "source": [
    "mismatches_20, mismatches_1000 = [sample for sample in samples if count_substring_mismatch(sample, wild_type) < 20], [sample for sample in samples if count_substring_mismatch(sample, wild_type) >= 20]"
   ]
  },
  {
   "cell_type": "code",
   "execution_count": 26,
   "metadata": {},
   "outputs": [
    {
     "data": {
      "text/plain": [
       "877"
      ]
     },
     "execution_count": 26,
     "metadata": {},
     "output_type": "execute_result"
    }
   ],
   "source": [
    "len(mismatches_20), len(mis)"
   ]
  },
  {
   "cell_type": "code",
   "execution_count": null,
   "metadata": {},
   "outputs": [],
   "source": []
  }
 ],
 "metadata": {
  "kernelspec": {
   "display_name": "Python 3",
   "language": "python",
   "name": "python3"
  },
  "language_info": {
   "codemirror_mode": {
    "name": "ipython",
    "version": 3
   },
   "file_extension": ".py",
   "mimetype": "text/x-python",
   "name": "python",
   "nbconvert_exporter": "python",
   "pygments_lexer": "ipython3",
   "version": "3.6.8"
  }
 },
 "nbformat": 4,
 "nbformat_minor": 2
}
