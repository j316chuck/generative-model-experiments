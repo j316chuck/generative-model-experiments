{
 "cells": [
  {
   "cell_type": "code",
   "execution_count": 99,
   "metadata": {},
   "outputs": [],
   "source": [
    "import torch \n",
    "import matplotlib.pyplot as plt\n",
    "from run_model import get_dataloader\n",
    "from utils import get_all_amino_acids, get_wild_type_amino_acid_sequence, count_substring_mismatch\n",
    "from rnn import GenerativeRNN\n",
    "from hmm import GenerativeHMM\n",
    "from vae import GenerativeVAE\n",
    "import numpy as np\n",
    "import time\n",
    "import pandas as pd\n",
    "from scipy.stats import skewnorm\n",
    "from utils import hmm_default_args, vae_default_args, rnn_default_args\n",
    "from utils import hmm_default_small_args, vae_default_small_args, rnn_default_small_args\n",
    "from utils import translate, load_data\n",
    "from sklearn.model_selection import train_test_split\n"
   ]
  },
  {
   "cell_type": "markdown",
   "metadata": {},
   "source": [
    "## RNN "
   ]
  },
  {
   "cell_type": "code",
   "execution_count": 2,
   "metadata": {},
   "outputs": [],
   "source": [
    "args = rnn_default_args()\n",
    "args[\"num_data\"] = 1000\n",
    "args[\"dataset\"] = \"gfp_amino_acid\""
   ]
  },
  {
   "cell_type": "code",
   "execution_count": 3,
   "metadata": {},
   "outputs": [],
   "source": [
    "rnn = GenerativeRNN(args)"
   ]
  },
  {
   "cell_type": "code",
   "execution_count": 9,
   "metadata": {},
   "outputs": [],
   "source": [
    "# test load \n",
    "rnn.load_model(\"./models/rnn_test_sample_1/checkpoint_50.pt\", initial_probs=True)"
   ]
  },
  {
   "cell_type": "code",
   "execution_count": 10,
   "metadata": {},
   "outputs": [],
   "source": [
    "train_loader, valid_loader, test_loader = get_dataloader(args)"
   ]
  },
  {
   "cell_type": "code",
   "execution_count": 11,
   "metadata": {},
   "outputs": [
    {
     "name": "stdout",
     "output_type": "stream",
     "text": [
      "25.79530859375\n"
     ]
    }
   ],
   "source": [
    "score = rnn.evaluate(test_loader)\n",
    "print(score)\n",
    "assert(score < 26)"
   ]
  },
  {
   "cell_type": "code",
   "execution_count": 12,
   "metadata": {},
   "outputs": [],
   "source": [
    "# test sample\n",
    "samples = rnn.sample(1000, 238)"
   ]
  },
  {
   "cell_type": "code",
   "execution_count": 13,
   "metadata": {},
   "outputs": [
    {
     "name": "stdout",
     "output_type": "stream",
     "text": [
      "[6, 3, 1, 1, 4, 4, 2, 3, 232, 4, 2, 2, 3, 3, 4, 2, 6, 4, 1, 4, 5, 1, 3, 5, 2, 4, 4, 2, 6, 3, 75, 7, 5, 3, 8, 4, 215, 4, 1, 5, 7, 187, 2, 6, 1, 219, 6, 7, 1, 219, 7, 7, 8, 4, 6, 5, 7, 3, 3, 4, 4, 4, 5, 2, 6, 4, 4, 3, 2, 5, 4, 7, 2, 0, 3, 3, 1, 214, 2, 2, 4, 3, 2, 74, 4, 8, 1, 5, 8, 10, 110, 5, 142, 193, 4, 6, 0, 3, 5, 0, 5, 4, 3, 10, 4, 4, 5, 3, 1, 175, 5, 6, 34, 5, 5, 5, 5, 8, 4, 219, 3, 63, 8, 1, 1, 3, 3, 2, 3, 40, 3, 3, 7, 77, 7, 0, 7, 3, 213, 3, 4, 6, 5, 56, 4, 1, 5, 4, 1, 1, 212, 223, 4, 4, 2, 4, 1, 3, 5, 7, 2, 94, 7, 5, 2, 4, 4, 4, 0, 2, 0, 5, 2, 2, 4, 3, 4, 1, 3, 7, 94, 3, 3, 172, 4, 3, 3, 75, 3, 7, 3, 3, 6, 5, 2, 2, 4, 2, 2, 3, 6, 3, 5, 94, 3, 5, 2, 38, 1, 1, 3, 2, 3, 5, 3, 2, 3, 1, 4, 142, 5, 4, 4, 4, 2, 2, 3, 7, 5, 227, 3, 5, 4, 4, 4, 7, 7, 4, 2, 6, 4, 5, 222, 7, 227, 2, 2, 3, 7, 3, 3, 5, 3, 218, 8, 3, 1, 4, 7, 4, 145, 4, 132, 2, 5, 3, 6, 7, 4, 2, 110, 3, 5, 0, 0, 8, 4, 3, 5, 2, 5, 4, 2, 1, 2, 0, 230, 4, 4, 178, 5, 2, 8, 1, 7, 43, 2, 3, 2, 1, 6, 1, 3, 7, 4, 6, 3, 3, 3, 1, 5, 3, 8, 2, 5, 0, 6, 10, 216, 2, 101, 5, 3, 4, 174, 3, 1, 182, 5, 3, 2, 3, 5, 8, 7, 4, 0, 23, 3, 2, 0, 1, 3, 1, 45, 3, 4, 6, 3, 83, 3, 2, 3, 2, 2, 5, 0, 179, 2, 44, 2, 6, 64, 3, 1, 5, 2, 3, 6, 2, 4, 5, 1, 2, 3, 224, 2, 17, 4, 5, 9, 90, 3, 1, 4, 5, 3, 1, 11, 1, 6, 0, 2, 2, 5, 5, 4, 3, 5, 1, 3, 9, 2, 4, 3, 6, 80, 4, 5, 2, 6, 6, 0, 10, 3, 5, 4, 2, 5, 5, 1, 4, 3, 2, 5, 2, 0, 1, 6, 4, 3, 1, 3, 5, 3, 226, 4, 161, 5, 4, 2, 3, 123, 8, 6, 4, 4, 119, 5, 2, 4, 3, 3, 2, 5, 2, 8, 178, 6, 6, 8, 6, 225, 2, 2, 3, 4, 5, 3, 8, 5, 5, 3, 5, 2, 144, 2, 2, 138, 3, 2, 9, 1, 1, 2, 6, 95, 4, 2, 5, 2, 6, 1, 3, 4, 3, 3, 6, 11, 6, 5, 3, 207, 3, 1, 1, 4, 2, 2, 3, 1, 8, 2, 1, 5, 1, 2, 228, 167, 1, 0, 8, 2, 6, 3, 1, 3, 5, 5, 0, 4, 4, 4, 3, 3, 4, 5, 5, 4, 2, 4, 6, 3, 3, 3, 3, 5, 3, 1, 7, 4, 4, 85, 2, 5, 211, 4, 3, 5, 3, 3, 8, 22, 3, 2, 219, 5, 5, 7, 4, 190, 61, 3, 1, 3, 3, 4, 2, 7, 3, 3, 7, 11, 3, 4, 5, 4, 2, 2, 6, 3, 6, 40, 6, 3, 4, 0, 5, 6, 1, 116, 10, 7, 158, 1, 6, 0, 2, 2, 2, 6, 2, 3, 2, 28, 7, 2, 6, 2, 3, 4, 5, 6, 0, 3, 10, 5, 2, 199, 4, 0, 5, 3, 157, 102, 6, 7, 2, 227, 4, 103, 3, 4, 3, 3, 5, 1, 3, 1, 6, 5, 75, 5, 8, 9, 3, 182, 1, 7, 3, 1, 0, 144, 3, 4, 3, 2, 2, 3, 2, 5, 2, 7, 3, 2, 7, 2, 2, 2, 3, 2, 2, 2, 4, 179, 5, 7, 2, 27, 1, 5, 2, 1, 223, 7, 9, 3, 3, 5, 3, 4, 203, 3, 5, 7, 71, 5, 1, 184, 3, 3, 205, 6, 4, 6, 5, 2, 3, 0, 5, 211, 3, 2, 2, 3, 4, 3, 6, 4, 5, 3, 5, 1, 6, 1, 7, 4, 1, 3, 3, 5, 4, 4, 2, 3, 6, 2, 214, 3, 9, 3, 3, 8, 5, 160, 8, 217, 4, 3, 4, 4, 2, 5, 2, 3, 2, 3, 3, 0, 8, 7, 4, 2, 1, 4, 1, 4, 227, 3, 4, 6, 6, 2, 7, 4, 4, 3, 3, 3, 2, 6, 1, 5, 7, 5, 5, 2, 1, 117, 9, 5, 8, 3, 1, 0, 6, 3, 4, 3, 5, 2, 6, 4, 1, 3, 3, 3, 8, 72, 87, 4, 3, 6, 6, 127, 7, 3, 137, 3, 3, 5, 1, 5, 83, 2, 7, 1, 4, 4, 5, 1, 5, 3, 2, 2, 3, 2, 5, 60, 179, 162, 4, 1, 5, 6, 2, 5, 3, 3, 5, 5, 5, 94, 3, 5, 4, 6, 3, 49, 5, 4, 3, 176, 9, 2, 2, 2, 3, 5, 4, 5, 210, 5, 1, 2, 4, 6, 7, 3, 4, 8, 4, 4, 2, 2, 4, 1, 4, 1, 2, 7, 5, 3, 4, 2, 4, 3, 3, 7, 0, 2, 2, 3, 30, 74, 22, 2, 225, 220, 3, 4, 3, 4, 2, 3, 4, 2, 0, 5, 4, 15, 3, 5, 7, 4, 4, 3, 3, 2, 5, 2, 6, 3, 3, 3, 2, 4, 4, 3, 1, 1, 3, 4, 1, 2, 6, 3, 7, 3, 0, 1, 6, 1, 2, 5, 7, 1, 5, 23, 4, 0, 6, 2, 0, 6, 5, 3, 0, 4, 227, 4, 3, 2, 218, 4, 4, 0, 5, 0, 3, 4, 5, 2, 3, 2, 2, 2, 2, 5, 1]\n"
     ]
    }
   ],
   "source": [
    "wild_type = get_wild_type_amino_acid_sequence()\n",
    "mismatches = [count_substring_mismatch(sample, wild_type) for sample in samples]\n",
    "print(mismatches)"
   ]
  },
  {
   "cell_type": "code",
   "execution_count": 14,
   "metadata": {},
   "outputs": [
    {
     "data": {
      "image/png": "[encoded data removed]",
      "text/plain": [
       "<Figure size 432x288 with 1 Axes>"
      ]
     },
     "metadata": {},
     "output_type": "display_data"
    }
   ],
   "source": [
    "plt.hist(mismatches)\n",
    "plt.show()"
   ]
  },
  {
   "cell_type": "code",
   "execution_count": 15,
   "metadata": {},
   "outputs": [],
   "source": [
    "mismatches_20, mismatches_1000 = [sample for sample in samples if count_substring_mismatch(sample, wild_type) < 20], [sample for sample in samples if count_substring_mismatch(sample, wild_type) >= 20]"
   ]
  },
  {
   "cell_type": "code",
   "execution_count": 16,
   "metadata": {},
   "outputs": [
    {
     "data": {
      "text/plain": [
       "(886, 114)"
      ]
     },
     "execution_count": 16,
     "metadata": {},
     "output_type": "execute_result"
    }
   ],
   "source": [
    "len(mismatches_20), len(mismatches_1000)"
   ]
  },
  {
   "cell_type": "code",
   "execution_count": 21,
   "metadata": {},
   "outputs": [],
   "source": [
    "mismatches_20_lst = [count_substring_mismatch(sample, wild_type) for sample in mismatches_20]"
   ]
  },
  {
   "cell_type": "code",
   "execution_count": 24,
   "metadata": {},
   "outputs": [
    {
     "data": {
      "image/png": "[encoded data removed]",
      "text/plain": [
       "<Figure size 432x288 with 1 Axes>"
      ]
     },
     "metadata": {},
     "output_type": "display_data"
    }
   ],
   "source": [
    "plt.figure()\n",
    "plt.hist(mismatches_20_lst)\n",
    "plt.xticks(range(0, 20, 1))\n",
    "plt.show()"
   ]
  },
  {
   "cell_type": "code",
   "execution_count": 27,
   "metadata": {},
   "outputs": [
    {
     "data": {
      "image/png": "[encoded data removed]",
      "text/plain": [
       "<Figure size 432x288 with 1 Axes>"
      ]
     },
     "metadata": {},
     "output_type": "display_data"
    }
   ],
   "source": [
    "mismatches_1000_lst = [count_substring_mismatch(sample, wild_type) for sample in mismatches_1000]\n",
    "plt.figure()\n",
    "plt.hist(mismatches_1000_lst)\n",
    "plt.show()"
   ]
  },
  {
   "cell_type": "code",
   "execution_count": 28,
   "metadata": {},
   "outputs": [
    {
     "name": "stdout",
     "output_type": "stream",
     "text": [
      "['EWISTQGELFTGVVPILVELDGDVNGHKFSVSGEGEGDATYGKLTLKFICTTGKLPVPWPTLVTTLSYGVQCFSRYPDHMKPHDFFKSAMPEGYVQERTIFSKDDGNYKTRAEVKFEGDTLVNRIELKGVDFKEDGNILGHKLEYNYNSHNVYIMADKQKNGIKVNFKIRHNIEDGSVQLADHYQQNTPIGDGPVLLPDNHTLSIQSALSKDPNEKRDHMVLLEFVTAAGITHGMDEL', 'SKGEALFTGVVPILVELDGDVNGHKFSVSGEGEGDATYGKLTLKFICTTGKLPVPWPTLVTTLSYGVQCFSRYPDHMKQHDFFKSAMPEGYVQERTILFKVDGNYKTRAEVKFEGDTLVNRIELKGIDFKEDGNILGHKLEYIYNSHNVYIMADKQKNGIKVNKFKIRHNIEDGSVQLADHYQQNTPIGDGPVLLPDNHYLSTQSALSKDPNEKRDHMVLLEFVTAAGITHGMGELYK', 'SRGEECKTWVVTALVECDGNYKTRGEVKIEDGNVLGHKLVYNYNSHNVYIMADKLKNGIKVNFKIRHNIEDGSVQLADHYQQNTPIGDGPVLLPDNHYLSTQSALSKDPNEKRDHLVLLEFVTAAGVTHGMDEQYK*I*I*NAKGRKLEYNYICNTNGKKVNPKILGGNVQLADHYQQNTPIGDGPVLLPDNHYLSTQSALSKDPNEKRDHMVLLEFVTAAGITHGMDELYK*FKTDI', 'SKGEELFTGVVPILVELDGDVNGHKFSVSGEGEGDATYGEPFLVKISKSGLVELDYVNHTLSEYSVSGEGDTYGRLTLKFVCTTGKLPVPWPTLVTTLSYGVQCFSRYPDHMKQHDFFKSAMPEGYVQERTIFFKDDGNYRTRTEVKFEGDTLVNRIELRGIDFKEDGDILGHKLEYNYNSHNVYIMADKQKNGIKVNFKIRHNIEDGSVQLADHYQQNTPIGDGPVLLPDNHYLSTQ', 'YIMGELYKSISSKGEELSTGVVPILVELDGDVNGHKFSVSGEGEGDATYGKLTLKFICTTGKLPVPWPTLVTTLSYGVQCSSRYPDHM*QHDFFKSAMPEGYVQERTIFFKDDGNYKTRAEVKFEGDTLVNRIELKGIDLKEDGNILGHKLEYNYNSHNVYIMADKQKNGIKVNFKIRHNIEDGSVQLADHYQQNTPIGDGPVLLPDNHYLSTQSALSKDPNEKRDHMVLLEFVTAAG', 'HSVKPEGDATLSKFIELDGNILGHKLEYNYNSHNVYIMADKQKSGIKVNFKIRHNIEDGSVQLADHYQQSTPIGDGPVLLPDNHYLSTQSALSKDPNEKRDHMVLLEFVTAAGITHGMDELYK*ESKSMGVLLCVTVAILVEGLDGNYKRNFIEDGSMQEYDYNNSTIRAELEGDTLINCILGKLESYIILHGNILGYKLAYIYIMGKFRENI*YIMADKQKNGIKVNFKIRHNIEDG', 'SKGEELFTGVVPILVGELDGDVNGHKFSVSGEGEGDATYGKLTLKLICTTGKLPVPWPTLVSTLSYGVQCFSRYPDHMKQHDFFKSAMPEGYVQERTIFFKDDGNYKTRAEVKFEGDTLVNRIELKGNDFKEDGNILGHKLEYNYNSHNVYIMADKQKNGIKVNFKIRHNIEDGSVQLADHYQRNTPIGDGPVLLPDNHYLSTQSALSKGPNEKRDHMVLLEFVTAAGTTHGMDELYK', 'SKGEELFTGVVPILVELDGDVNGRKFSVSGEGEGDATYGKLTLKFICTTGKLPVPWPTPVTTLSYGVQCFSRYPDHMKQHDFFKSAMPEGYVQERTIFFKDDGNYKTRAEVKFEGDTLVNRIELKGIDFKEDGNILGHKLEYNYNSHNVYIMADKQRNGIKVNLKINNNIKNVKSEEGGIVAGHKLEYNYNSHNVYIMADKRKNGIKVNFKIRHNIEDGSVQLADHYQQNTPIGDGPV', 'SKGEELFTGVVPILVELDGDVNGHKFSVSGEGEGDATYGKLTLKFICTTGKLPVPWPTLVTTLSYGVQCFSRYPDHMKQHDFFKSAMPEGYVQERTIFFKDDGNCKTRAEVELEGDTLVNCILIECKLDGYILNGIKVANEKVDGNVRGAIMLKNGIDFKEDGNILGHKLEYNYNSHNVYIMADKQKNGIKVNFKIRHNIEDGSVQLADHYQQNTPIGDGPVLLPDNHYLSTQSALSK', 'SKGEELFTGVVPILVKLDGDVNGHKFSVSGEGEGDATYGKLTLKFICTTGKLPVPWPTLVTTLSYGVQCFSRYPDHSKQHDFFETAAPEGKLTLKFICTTGKLPVPWPTLVTTLSYGVQCFSRYPDHMKQHDFFKSAMPEGYVQERTIFFKDDGNYKTRAEVKFEGDTLVNRIELKGIDFKEDGNILGHKLEYNYNSHNVYIMADMQKNGIKVNFKIRHNIEDGSVQLADHYQQNTPI']\n"
     ]
    }
   ],
   "source": [
    "print(mismatches_1000[0:10])"
   ]
  },
  {
   "cell_type": "code",
   "execution_count": 35,
   "metadata": {},
   "outputs": [
    {
     "data": {
      "text/plain": [
       "'SKGEELFTGVVPILVELDGDVNGHKFSVSGEGEGDATYGKLTLKFICTTGKLPVPWPTLVTTLSYGVQCFSRYPDHMKQHDFFKSAMPEGYVQERTIFFKDDGNYKTRAEVKFEGDTLVNRIELKGIDFKEDGNILGHKLEYNYNSHNVYIMADKQKNGIKVNFKIRHNIEDGSVQLADHYQQNTPIGDGPVLLPDNHYLSTQSALSKDPNEKRDHMVLLEFVTAAGITHGMDELYK*'"
      ]
     },
     "execution_count": 35,
     "metadata": {},
     "output_type": "execute_result"
    }
   ],
   "source": [
    "wild_type"
   ]
  },
  {
   "cell_type": "code",
   "execution_count": 36,
   "metadata": {},
   "outputs": [
    {
     "data": {
      "text/plain": [
       "'SKGEELFTGVVPILVELDGDVNGRKFSVSGEGEGDATYGKLTLKFICTTGKLPVPWPTPVTTLSYGVQCFSRYPDHMKQHDFFKSAMPEGYVQERTIFFKDDGNYKTRAEVKFEGDTLVNRIELKGIDFKEDGNILGHKLEYNYNSHNVYIMADKQRNGIKVNLKINNNIKNVKSEEGGIVAGHKLEYNYNSHNVYIMADKRKNGIKVNFKIRHNIEDGSVQLADHYQQNTPIGDGPV'"
      ]
     },
     "execution_count": 36,
     "metadata": {},
     "output_type": "execute_result"
    }
   ],
   "source": [
    "mismatches_1000[7]"
   ]
  },
  {
   "cell_type": "code",
   "execution_count": 54,
   "metadata": {},
   "outputs": [
    {
     "name": "stdout",
     "output_type": "stream",
     "text": [
      "138\n",
      "138\n",
      "183\n"
     ]
    }
   ],
   "source": [
    "sub = 'KLEYNYNSHNVYIMADK' #VYIMADKRKNGIKVNFKIRHNIEDGSVQLADHYQQNTPIGDGPV\n",
    "print(wild_type.index(sub))\n",
    "k = mismatches_1000[7].index(sub)\n",
    "print(k)\n",
    "print(k+mismatches_1000[7][k+1:].index(sub))"
   ]
  },
  {
   "cell_type": "code",
   "execution_count": null,
   "metadata": {},
   "outputs": [],
   "source": [
    "# auto regressive models may mess up really bad and start recovering one part of the sequence in the middle of another part of a sequence "
   ]
  },
  {
   "cell_type": "markdown",
   "metadata": {},
   "source": [
    "## Generating Random Sequences"
   ]
  },
  {
   "cell_type": "code",
   "execution_count": 123,
   "metadata": {},
   "outputs": [],
   "source": [
    "def generate_mutations_df(base_sequence, mutations_lst, mutation_count_lst, alphabet, \n",
    "                          start_mutation_index=0, end_mutation_index=0, verbose=False):\n",
    "    \"\"\"\n",
    "    Generates a mutated dataframe\n",
    "    :param base_sequence: string, the sequence to be mutated\n",
    "    :param mutations_lst: list, the number of mutations from the base sequence\n",
    "    :param mutation_count_lst: list, defines the number of each mutation count to generate\n",
    "    :param alphabet: string, the entire set of letters in the vocabulary\n",
    "    :param start_mutation_index: int, how many characters to skip at the beginning of the mutation\n",
    "    :param end_mutation_index: int, how many characters to skip at the end of the mutation\n",
    "    :return: a dataframe comprised of three columns: the mutated strings, the number of mutations, the base_sequence\n",
    "    >>> mutations_lst, base_sequence = [1, 2, 3], get_wild_type_amino_acid_sequence()\n",
    "    >>> alphabet, num_per_mutation_count = get_all_amino_acids(), 100\n",
    "    >>> mutated_df = generate_mutations_df(mutations_lst, base_sequence, alphabet, num_per_mutation_count, verbose=False)\n",
    "    >>> for i, row in mutated_df.iterrows():\n",
    "    ...     assert(count_substring_mismatch(row[\"mutated_string\"], row[\"base_sequence\"]) == row[\"mutation_count\"])\n",
    "    \"\"\"\n",
    "    start_time = time.time()\n",
    "    # get index maps\n",
    "    characters_to_index = dict(zip(alphabet, range(len(alphabet))))\n",
    "    index_to_characters = dict(zip(range(len(alphabet)), alphabet))\n",
    "    num_characters = len(alphabet)\n",
    "    total_data_points = sum(mutation_count_lst)        \n",
    "    mutations_per_sequence_lst = np.array([[mutation_count for _ in range(num_mutations)] \n",
    "                                for mutation_count, num_mutations in zip(mutations_lst, mutation_count_lst)]).flatten()\n",
    "    assert(total_data_points < 200000)\n",
    "    assert(len(mutations_lst) == len(mutation_count_lst))\n",
    "    assert(len(mutations_per_sequence_lst) == total_data_points)\n",
    "    mutated_strings_lst = []\n",
    "    for i, mutation_count in enumerate(mutations_per_sequence_lst):\n",
    "        mutated_string = get_mutation(string=base_sequence,\n",
    "                                      num_mutations=mutation_count,\n",
    "                                      num_characters=num_characters,\n",
    "                                      characters_to_index=characters_to_index,\n",
    "                                      index_to_characters=index_to_characters,\n",
    "                                      start_mutation_index=start_mutation_index,\n",
    "                                      end_mutation_index=end_mutation_index)\n",
    "        mutated_strings_lst.append(mutated_string)\n",
    "        if i % 1000 == 0 and verbose:\n",
    "            print(\n",
    "                \"Generated {0}/{1} mutations in {2:.2f} seconds\".format(i, total_data_points, time.time() - start_time))\n",
    "    base_sequences_lst = [base_sequence] * total_data_points\n",
    "    mutated_df = pd.DataFrame.from_dict({\n",
    "        'mutated_string': mutated_strings_lst,\n",
    "        'mutation_count': mutations_per_sequence_lst,\n",
    "        'base_sequence': base_sequences_lst\n",
    "    })\n",
    "    if verbose:\n",
    "        print(\"{0:.2f} seconds to generate the mutated df\".format(time.time() - start_time))\n",
    "    return mutated_df\n",
    "\n",
    "def get_mutation(string, num_mutations, num_characters, characters_to_index, index_to_characters,\n",
    "                 start_mutation_index=0, end_mutation_index=0):\n",
    "    \"\"\"\n",
    "    get a mutation of a string\n",
    "    :param string: the string to be mutated\n",
    "    :param num_mutations: the number of mutations\n",
    "    :param num_characters: the number of characters in alphabet\n",
    "    :param characters_to_index: map from characters in alphabet to index\n",
    "    :param index_to_characters: map from index in alphabet to characters\n",
    "    :param start_mutation_index: how many characters to skip at the beginning of the mutation\n",
    "    :param end_mutation_index: how many characters to skip at the end of the mutation\n",
    "    :return: mutated string\n",
    "    >>> get_mutation(\"AAC\", num_mutations=1, num_characters=2, characters_to_index={\"A\": 0, \"C\": 1}, \\\n",
    "        index_to_characters={0: \"A\", 1: \"C\"}, start_mutation_index=1, end_mutation_index=1)\n",
    "    'ACC'\n",
    "    >>> np.random.seed(1)\n",
    "    >>> get_mutation(\"ACTGA\", num_mutations=2, num_characters=4, characters_to_index={\"A\": 0, \"C\": 1, \"T\": 2, \"G\": 3}, \\\n",
    "        index_to_characters={0: \"A\", 1: \"C\", 2: \"T\", 3: \"G\"}, start_mutation_index=1, end_mutation_index=1)\n",
    "    'ATTAA'\n",
    "    \"\"\"\n",
    "    mutation = list(string)\n",
    "    indexes = np.random.choice(range(start_mutation_index, len(string) - end_mutation_index),\n",
    "                            num_mutations, replace=False)\n",
    "    for i in indexes:\n",
    "        original_c = string[i]\n",
    "        original_index = characters_to_index[original_c]\n",
    "        # mutation by moving the character somewhere else along the possible sequences.\n",
    "        new_index = (original_index + np.random.randint(1, num_characters)) % num_characters\n",
    "        mutation[i] = index_to_characters[new_index]\n",
    "    return \"\".join(mutation)"
   ]
  },
  {
   "cell_type": "code",
   "execution_count": 113,
   "metadata": {},
   "outputs": [],
   "source": [
    "alphabet = get_all_amino_acids()\n",
    "characters_to_index = dict(zip(alphabet, range(len(alphabet))))\n",
    "index_to_characters = dict(zip(range(len(alphabet)), alphabet))"
   ]
  },
  {
   "cell_type": "code",
   "execution_count": 114,
   "metadata": {},
   "outputs": [],
   "source": [
    "wild_type = get_wild_type_amino_acid_sequence()\n",
    "s=get_mutation(wild_type, 238, len(alphabet), characters_to_index, index_to_characters, 0, 0)"
   ]
  },
  {
   "cell_type": "code",
   "execution_count": 115,
   "metadata": {},
   "outputs": [
    {
     "name": "stdout",
     "output_type": "stream",
     "text": [
      "Mismatches: 238\n",
      "AFRLANQFAAAITPLFPI*LWKEVRPFGCLWKD*GQNSAMNPGHNEIQWAVKGNLADNIFRVGPVRMPESQMVNKVGGRSRGPHQDAGNPECWSYFP*YYFP*SRWFDG*CNRRKHKIQRQWVVASD*MFSVTAAMKMFGTC*VRK*CPIWDDLYFMWFWFDMVT**KFNACMFDSQPVTWLHKQDSHITQYTMCWARSKGWRFGRETTKQSHEMEYEPSFHTLMIKACVVN*DPWPK\n"
     ]
    }
   ],
   "source": [
    "print(\"Mismatches:\", count_substring_mismatch(s, wild_type))\n",
    "print(s)"
   ]
  },
  {
   "cell_type": "code",
   "execution_count": 124,
   "metadata": {},
   "outputs": [
    {
     "name": "stdout",
     "output_type": "stream",
     "text": [
      "Generated 0/1000 mutations in 0.00 seconds\n",
      "0.13 seconds to generate the mutated df\n"
     ]
    }
   ],
   "source": [
    "mutations_lst = [1, 2, 3, 4, 5, 6, 7, 8, 9, 10]\n",
    "mutations_count = [100] * 10\n",
    "base_sequence = wild_type\n",
    "alphabet = get_all_amino_acids() \n",
    "num_per_mutation_count = 1000\n",
    "start_mutation_index = 5\n",
    "end_mutation_index = 5\n",
    "mutated_df = generate_mutations_df(base_sequence, mutations_lst, mutations_count, alphabet, start_mutation_index, end_mutation_index, verbose=True)"
   ]
  },
  {
   "cell_type": "code",
   "execution_count": 127,
   "metadata": {},
   "outputs": [],
   "source": [
    "for i, row in mutated_df.iterrows():\n",
    "    assert(count_substring_mismatch(row[\"mutated_string\"], row[\"base_sequence\"]) == row[\"mutation_count\"])\n",
    "    assert(count_substring_mismatch(row[\"mutated_string\"][:start_mutation_index], row[\"base_sequence\"][:start_mutation_index]) == 0)\n",
    "    assert(count_substring_mismatch(row[\"mutated_string\"][-end_mutation_index:], row[\"base_sequence\"][-end_mutation_index:]) == 0)"
   ]
  },
  {
   "cell_type": "code",
   "execution_count": 126,
   "metadata": {},
   "outputs": [
    {
     "name": "stdout",
     "output_type": "stream",
     "text": [
      "(1000, 3)\n"
     ]
    }
   ],
   "source": [
    "print(mutated_df.shape)"
   ]
  },
  {
   "cell_type": "code",
   "execution_count": 129,
   "metadata": {},
   "outputs": [
    {
     "name": "stdout",
     "output_type": "stream",
     "text": [
      "Generated 0/10000 mutations in 0.00 seconds\n",
      "Generated 1000/10000 mutations in 0.08 seconds\n",
      "Generated 2000/10000 mutations in 0.14 seconds\n",
      "Generated 3000/10000 mutations in 0.20 seconds\n",
      "Generated 4000/10000 mutations in 0.26 seconds\n",
      "Generated 5000/10000 mutations in 0.33 seconds\n",
      "Generated 6000/10000 mutations in 0.39 seconds\n",
      "Generated 7000/10000 mutations in 0.45 seconds\n",
      "Generated 8000/10000 mutations in 0.54 seconds\n",
      "Generated 9000/10000 mutations in 0.62 seconds\n",
      "0.69 seconds to generate the mutated df\n"
     ]
    }
   ],
   "source": [
    "from sklearn.model_selection import train_test_split\n",
    "\n",
    "mutations_lst = range(10)\n",
    "mutations_count = [1000] * 10\n",
    "name = \"synthetic_data_length_20_uniform\"\n",
    "base_sequence = \"GYSSASKIIFGSGTRLSIRP\"\n",
    "alphabet = get_all_amino_acids()\n",
    "start_mutation_index = 1\n",
    "end_mutation_index = 1\n",
    "mutated_df = generate_mutations_df(base_sequence, mutations_lst, mutations_count, alphabet,\n",
    "                                   start_mutation_index, end_mutation_index, verbose=True)\n",
    "mutated_df = mutated_df.sample(frac=1).reset_index(drop=True)\n",
    "mutated_df.to_csv(name + \".csv\")\n",
    "x_train, x_test = train_test_split(mutated_df, test_size = 0.5)"
   ]
  },
  {
   "cell_type": "code",
   "execution_count": 132,
   "metadata": {},
   "outputs": [],
   "source": [
    "np.save(name + \"_x_train.npy\", x_train)\n",
    "np.save(name + \"_x_test.npy\", x_test)"
   ]
  },
  {
   "cell_type": "markdown",
   "metadata": {},
   "source": [
    "## Discrete Gaussian Distributions"
   ]
  },
  {
   "cell_type": "code",
   "execution_count": 262,
   "metadata": {},
   "outputs": [],
   "source": [
    "def generate_discrete_gaussian_distribution(num_values, mean=5.5, std=2, low=1, high=10):\n",
    "    \"\"\"\n",
    "    generates a discrete gaussian distribution\n",
    "    :param num_values: int, number of samples to take from discrete distribution\n",
    "    :param mean: float, mean of gaussian\n",
    "    :param std: float, standard deviation of gaussian\n",
    "    :param low: int, lowest value the discrete distribution will have\n",
    "    :param high: int, highest value the discrete distribution will have\n",
    "    :return: gaussian_lst, list, list of values in distributions\n",
    "            bins, dict, map between the values and counts in distribution\n",
    "    >>> np.random.seed(1)\n",
    "    >>> generate_discrete_gaussian_distribution(10, 0, 1, -4, 4)[0]\n",
    "    [2.0, -1.0, -1.0, -1.0, 1.0, -2.0, 2.0, -1.0, 0.0, -0.0]\n",
    "    >>> generate_discrete_gaussian_distribution(10, 0, 1, -4, 4)[1]\n",
    "    {-4: 0.0, -3: 0.0, -2: 1.0, -1: 2.0, 0: 4.0, 1: 3.0, 2: 0.0, 3: 0.0, 4: 0.0}\n",
    "    \"\"\"\n",
    "    normal_lst = np.random.normal(loc=mean, scale=std, size=num_values)\n",
    "    bins = dict(zip(list(range(low, high + 1)), np.zeros(high - low + 1)))\n",
    "    gaussian_lst = []\n",
    "    for x in normal_lst:\n",
    "        if x <= low:\n",
    "            gaussian_lst.append(low)\n",
    "            bins[low] += 1\n",
    "        elif x >= high:\n",
    "            gaussian_lst.append(high)\n",
    "            bins[high] += 1\n",
    "        else:\n",
    "            gaussian_lst.append(round(x))\n",
    "            bins[round(x)] += 1\n",
    "    return gaussian_lst, bins"
   ]
  },
  {
   "cell_type": "code",
   "execution_count": 266,
   "metadata": {},
   "outputs": [
    {
     "name": "stdout",
     "output_type": "stream",
     "text": [
      "{1: 246.0, 2: 426.0, 3: 848.0, 4: 1465.0, 5: 1973.0, 6: 1935.0, 7: 1537.0, 8: 888.0, 9: 453.0, 10: 229.0}\n"
     ]
    },
    {
     "data": {
      "text/plain": [
       "[<matplotlib.lines.Line2D at 0x1111267f0>]"
      ]
     },
     "execution_count": 266,
     "metadata": {},
     "output_type": "execute_result"
    },
    {
     "data": {
      "image/png": "[encoded data removed]",
      "text/plain": [
       "<Figure size 432x288 with 1 Axes>"
      ]
     },
     "metadata": {},
     "output_type": "display_data"
    }
   ],
   "source": [
    "hist = generate_discrete_gaussian_distribution(10000, 5.5, 2, 1, 10)[1]\n",
    "print(hist)\n",
    "plt.plot(hist.keys(), hist.values())"
   ]
  },
  {
   "cell_type": "code",
   "execution_count": 270,
   "metadata": {},
   "outputs": [],
   "source": [
    "def generate_discrete_skewed_gaussian_distribution(num_values, a=4, mean=5.5, std=2, low=1, high=10):\n",
    "    \"\"\"\n",
    "    generates a discrete skewed gaussian distribution\n",
    "    :param num_values: int, number of samples to take from discrete distribution\n",
    "    :param a: float, skew of the distribution, positive is right leaning, negative is left learning\n",
    "    :param mean: float, mean of gaussian\n",
    "    :param std: int, standard deviation of gaussian\n",
    "    :param low: int, lowest value the discrete distribution will have\n",
    "    :param high: int, highest value the discrete distribution will have\n",
    "    :return: skewed_gaussian_lst, list, list of values in distributions\n",
    "            bins, dict, map between the values and counts in distribution\n",
    "    >>> np.random.seed(1)\n",
    "    >>> generate_discrete_skewed_gaussian_distribution(num_values=10, a=4, mean=0, std=1, low=-4, high=4)[0]\n",
    "    [2.0, 1.0, 1.0, 1.0, 1.0, 2.0, 2.0, 1.0, 0.0, 0.0]\n",
    "    >>> generate_discrete_skewed_gaussian_distribution(num_values=10, a=4, mean=0, std=1, low=-4, high=4)[1]\n",
    "    {-4: 0.0, -3: 0.0, -2: 0.0, -1: 0.0, 0: 3.0, 1: 7.0, 2: 0.0, 3: 0.0, 4: 0.0}\n",
    "    \"\"\"\n",
    "    skewed_lst = skewnorm(a=a, loc=mean, scale=std).rvs(num_values)\n",
    "    bins = dict(zip(list(range(low, high + 1)), np.zeros(high - low + 1)))\n",
    "    skewed_gaussian_lst = []\n",
    "    for x in skewed_lst:\n",
    "        if x <= low:\n",
    "            skewed_gaussian_lst.append(low)\n",
    "            bins[low] += 1\n",
    "        elif x >= high:\n",
    "            skewed_gaussian_lst.append(high)\n",
    "            bins[high] += 1\n",
    "        else:\n",
    "            skewed_gaussian_lst.append(round(x))\n",
    "            bins[round(x)] += 1\n",
    "    return skewed_gaussian_lst, bins"
   ]
  },
  {
   "cell_type": "code",
   "execution_count": 271,
   "metadata": {},
   "outputs": [
    {
     "name": "stdout",
     "output_type": "stream",
     "text": [
      "{1: 5.0, 2: 342.0, 3: 2028.0, 4: 3065.0, 5: 2418.0, 6: 1366.0, 7: 545.0, 8: 181.0, 9: 39.0, 10: 11.0}\n"
     ]
    },
    {
     "data": {
      "text/plain": [
       "[<matplotlib.lines.Line2D at 0x11129d2e8>]"
      ]
     },
     "execution_count": 271,
     "metadata": {},
     "output_type": "execute_result"
    },
    {
     "data": {
      "image/png": "[encoded data removed]",
      "text/plain": [
       "<Figure size 432x288 with 1 Axes>"
      ]
     },
     "metadata": {},
     "output_type": "display_data"
    }
   ],
   "source": [
    "hist = generate_discrete_skewed_gaussian_distribution(10000, 3, 3, 2, 1, 10)[1]\n",
    "print(hist)\n",
    "plt.plot(hist.keys(), hist.values())"
   ]
  },
  {
   "cell_type": "code",
   "execution_count": 294,
   "metadata": {},
   "outputs": [],
   "source": [
    "def generate_discrete_uniform_distribution(num_values, low=1, high=10):\n",
    "    \"\"\"\n",
    "    generates a discrete uniform distribution\n",
    "    :param num_values: int, number of samples to take from discrete distribution\n",
    "    :param low: int, lowest value the discrete distribution will have\n",
    "    :param high: int, highest value the discrete distribution will have\n",
    "    :return: uniform_lst, list, list of values in distribution\n",
    "            bins, dict, map between the values and counts in distribution\n",
    "    >>> generate_discrete_uniform_distribution(num_values=10, low=1, high=10)[0]\n",
    "    [2.0, 1.0, 1.0, 1.0, 1.0, 2.0, 2.0, 1.0, 0.0, 0.0]\n",
    "    >>> generate_discrete_uniform_distribution(num_values=10, low=1, high=10)[1]\n",
    "    {-4: 0.0, -3: 0.0, -2: 0.0, -1: 0.0, 0: 3.0, 1: 7.0, 2: 0.0, 3: 0.0, 4: 0.0}\n",
    "    \"\"\"\n",
    "    uniform_lst = np.random.choice(range(low, high + 1), num_values, replace=True)\n",
    "    bins = dict(zip(list(range(low, high + 1)), np.zeros(high - low + 1)))\n",
    "    for x in uniform_lst: \n",
    "        bins[x] += 1\n",
    "    return uniform_lst, bins"
   ]
  },
  {
   "cell_type": "code",
   "execution_count": 303,
   "metadata": {},
   "outputs": [
    {
     "name": "stdout",
     "output_type": "stream",
     "text": [
      "{1: 1033.0, 2: 1006.0, 3: 988.0, 4: 1015.0, 5: 1008.0, 6: 955.0, 7: 970.0, 8: 1032.0, 9: 984.0, 10: 1009.0}\n"
     ]
    },
    {
     "data": {
      "text/plain": [
       "([<matplotlib.axis.YTick at 0x111a1c438>,\n",
       "  <matplotlib.axis.YTick at 0x111a16d30>,\n",
       "  <matplotlib.axis.YTick at 0x111a0dd68>,\n",
       "  <matplotlib.axis.YTick at 0x111a32c18>,\n",
       "  <matplotlib.axis.YTick at 0x111a3b160>,\n",
       "  <matplotlib.axis.YTick at 0x111a3b630>,\n",
       "  <matplotlib.axis.YTick at 0x111a3bb00>,\n",
       "  <matplotlib.axis.YTick at 0x111aa40b8>,\n",
       "  <matplotlib.axis.YTick at 0x111aa4550>,\n",
       "  <matplotlib.axis.YTick at 0x111aa4a58>],\n",
       " <a list of 10 Text yticklabel objects>)"
      ]
     },
     "execution_count": 303,
     "metadata": {},
     "output_type": "execute_result"
    },
    {
     "data": {
      "image/png": "[encoded data removed]",
      "text/plain": [
       "<Figure size 432x288 with 1 Axes>"
      ]
     },
     "metadata": {},
     "output_type": "display_data"
    }
   ],
   "source": [
    "hist = generate_discrete_uniform_distribution(10000, 1, 10)[1]\n",
    "print(hist)\n",
    "plt.plot(hist.keys(), hist.values())\n",
    "plt.yticks(list(range(0, 2000, 200)))"
   ]
  },
  {
   "cell_type": "code",
   "execution_count": 286,
   "metadata": {},
   "outputs": [
    {
     "data": {
      "text/plain": [
       "array([1, 2, 2, 2, 1, 2, 3, 4, 5])"
      ]
     },
     "execution_count": 286,
     "metadata": {},
     "output_type": "execute_result"
    }
   ],
   "source": [
    "np.digitize([1, 2, 2, 2, 1, 2, 3, 4, 5], bins = [1, 2, 3, 4, 5, 6, 7, 8, 9, 10])"
   ]
  },
  {
   "cell_type": "markdown",
   "metadata": {},
   "source": [
    "## Script Commands"
   ]
  },
  {
   "cell_type": "code",
   "execution_count": 3,
   "metadata": {},
   "outputs": [
    {
     "name": "stdout",
     "output_type": "stream",
     "text": [
      "python3 run_experiment.py --model_type hmm --base_log logs/gfp/hmm/ --name hmm_default_medium --input 4998 --hidden_size 100 --latent_dim -1 --seq_length 238 --pseudo_count 1 --n_jobs 1 --device cpu --learning_rate 0.001 --epochs 100 --batch_size 10 --layers 1 --dataset gfp --num_data 1000 \n",
      "python3 run_experiment.py --model_type rnn --base_log logs/gfp/rnn/ --name rnn_default_medium --input 4998 --hidden_size 200 --latent_dim -1 --seq_length 238 --pseudo_count 1 --n_jobs 1 --device cpu --learning_rate 0.001 --epochs 100 --batch_size 10 --layers 1 --dataset gfp --num_data 1000 \n",
      "python3 run_experiment.py --model_type vae --base_log logs/gfp/vae/ --name vae_default_medium --input 4998 --hidden_size 200 --latent_dim 20 --seq_length 238 --pseudo_count 1 --n_jobs 1 --device cpu --learning_rate 0.001 --epochs 100 --batch_size 10 --layers 1 --dataset gfp --num_data 1000 \n"
     ]
    }
   ],
   "source": [
    "for mp in [hmm_default_args(), rnn_default_args(), vae_default_args()]:\n",
    "    command = \"python3 run_experiment.py \"\n",
    "    for key, value in mp.items():\n",
    "        command += \"--{0} {1} \".format(key, value)\n",
    "    print(command)"
   ]
  },
  {
   "cell_type": "code",
   "execution_count": 5,
   "metadata": {},
   "outputs": [
    {
     "name": "stdout",
     "output_type": "stream",
     "text": [
      "python3 run_experiment.py --model_type hmm --base_log logs/gfp/hmm/ --name hmm_default_small --input 4998 --hidden_size 30 --latent_dim -1 --seq_length 238 --pseudo_count 1 --n_jobs 1 --device cpu --learning_rate 0.001 --epochs 10 --batch_size 10 --layers 1 --dataset gfp --num_data 100 \n",
      "python3 run_experiment.py --model_type rnn --base_log logs/gfp/rnn/ --name rnn_default_small --input 4998 --hidden_size 100 --latent_dim -1 --seq_length 238 --pseudo_count 1 --n_jobs 1 --device cpu --learning_rate 0.001 --epochs 10 --batch_size 10 --layers 1 --dataset gfp --num_data 100 \n",
      "python3 run_experiment.py --model_type vae --base_log logs/gfp/vae/ --name vae_default_small --input 4998 --hidden_size 50 --latent_dim 20 --seq_length 238 --pseudo_count 1 --n_jobs 1 --device cpu --learning_rate 0.001 --epochs 10 --batch_size 10 --layers 1 --dataset gfp --num_data 100 \n"
     ]
    }
   ],
   "source": [
    "for mp in [hmm_default_small_args(), rnn_default_small_args(), vae_default_small_args()]:\n",
    "    command = \"python3 run_experiment.py \"\n",
    "    for key, value in mp.items():\n",
    "        command += \"--{0} {1} \".format(key, value)\n",
    "    print(command)"
   ]
  },
  {
   "cell_type": "markdown",
   "metadata": {},
   "source": [
    "## Load Model Tests and Examples"
   ]
  },
  {
   "cell_type": "code",
   "execution_count": 6,
   "metadata": {},
   "outputs": [],
   "source": [
    "args = hmm_default_small_args()\n",
    "train, test, valid = get_dataloader(args)\n",
    "hmm = GenerativeHMM(args)"
   ]
  },
  {
   "cell_type": "code",
   "execution_count": 7,
   "metadata": {},
   "outputs": [],
   "source": [
    "hmm.load_model(\"./logs/gfp/hmm/hmm_default_small/hmm_default_small_saved_model\")"
   ]
  },
  {
   "cell_type": "code",
   "execution_count": 8,
   "metadata": {},
   "outputs": [
    {
     "name": "stdout",
     "output_type": "stream",
     "text": [
      "Average neg log prob: 628.3210\n",
      "Average neg log prob: 629.0156\n",
      "Average neg log prob: 628.3280\n"
     ]
    },
    {
     "data": {
      "text/plain": [
       "62832.79716804136"
      ]
     },
     "execution_count": 8,
     "metadata": {},
     "output_type": "execute_result"
    }
   ],
   "source": [
    "hmm.evaluate(dataloader=train, verbose=True)\n",
    "hmm.evaluate(dataloader=valid, verbose=True)\n",
    "hmm.evaluate(dataloader=test, verbose=True)"
   ]
  },
  {
   "cell_type": "code",
   "execution_count": 9,
   "metadata": {},
   "outputs": [
    {
     "name": "stdout",
     "output_type": "stream",
     "text": [
      "total loss: 13899.3975\n",
      "total loss: 14926.1650\n",
      "total loss: 14291.8877\n"
     ]
    },
    {
     "data": {
      "text/plain": [
       "142.918876953125"
      ]
     },
     "execution_count": 9,
     "metadata": {},
     "output_type": "execute_result"
    }
   ],
   "source": [
    "args = rnn_default_small_args()\n",
    "train, test, valid = get_dataloader(args)\n",
    "rnn = GenerativeRNN(args)\n",
    "rnn.load_model(\"./logs/gfp/rnn/rnn_default_small/rnn_default_small_saved_model\", initial_probs=True)\n",
    "rnn.evaluate(dataloader=train, verbose=True)\n",
    "rnn.evaluate(dataloader=valid, verbose=True)\n",
    "rnn.evaluate(dataloader=test, verbose=True)"
   ]
  },
  {
   "cell_type": "code",
   "execution_count": 10,
   "metadata": {},
   "outputs": [
    {
     "name": "stdout",
     "output_type": "stream",
     "text": [
      "total loss: 42.3699 cross entropy loss: 22.5995. kld loss: 19.7704\n",
      "total loss: 55.0566 cross entropy loss: 35.3196. kld loss: 19.7370\n",
      "total loss: 50.7607 cross entropy loss: 30.9645. kld loss: 19.7962\n"
     ]
    },
    {
     "data": {
      "text/plain": [
       "(50.76067352294922, 30.964462280273438, 19.79621124267578)"
      ]
     },
     "execution_count": 10,
     "metadata": {},
     "output_type": "execute_result"
    }
   ],
   "source": [
    "args = vae_default_small_args()\n",
    "train, test, valid = get_dataloader(args)\n",
    "vae = GenerativeVAE(args)\n",
    "vae.load_model(\"./logs/gfp/vae/vae_default_small/vae_default_small_saved_model\", initial_probs=True)\n",
    "vae.evaluate(dataloader=train, verbose=True)\n",
    "vae.evaluate(dataloader=valid, verbose=True)\n",
    "vae.evaluate(dataloader=test, verbose=True)"
   ]
  },
  {
   "cell_type": "code",
   "execution_count": 11,
   "metadata": {},
   "outputs": [
    {
     "name": "stdout",
     "output_type": "stream",
     "text": [
      "total loss: 16.5850 cross entropy loss: 8.7567. kld loss: 7.8283\n",
      "total loss: 33.4577 cross entropy loss: 28.8167. kld loss: 4.6410\n",
      "total loss: 33.0673 cross entropy loss: 28.4835. kld loss: 4.5838\n",
      "total loss: 19.1523 cross entropy loss: 14.4726. kld loss: 4.6798\n",
      "total loss: 28.4736 cross entropy loss: 25.9630. kld loss: 2.5106\n",
      "total loss: 28.0769 cross entropy loss: 25.5769. kld loss: 2.5000\n",
      "total loss: 16.5276 cross entropy loss: 8.6994. kld loss: 7.8283\n",
      "total loss: 33.4454 cross entropy loss: 28.8045. kld loss: 4.6410\n",
      "total loss: 33.2289 cross entropy loss: 28.6451. kld loss: 4.5838\n"
     ]
    },
    {
     "data": {
      "text/plain": [
       "(33.22893142700195, 28.64513397216797, 4.583797454833984)"
      ]
     },
     "execution_count": 11,
     "metadata": {},
     "output_type": "execute_result"
    }
   ],
   "source": [
    "args = vae_default_args()\n",
    "train, test, valid = get_dataloader(args)\n",
    "vae = GenerativeVAE(args)\n",
    "vae.load_model(\"./logs/gfp/vae/vae_default_medium/vae_default_medium_saved_model\")\n",
    "vae.evaluate(dataloader=train, verbose=True)\n",
    "vae.evaluate(dataloader=valid, verbose=True)\n",
    "vae.evaluate(dataloader=test, verbose=True)\n",
    "vae.load_model(\"./logs/gfp/vae/vae_default_medium/vae_checkpoint_50.pt\")\n",
    "vae.evaluate(dataloader=train, verbose=True)\n",
    "vae.evaluate(dataloader=valid, verbose=True)\n",
    "vae.evaluate(dataloader=test, verbose=True)\n",
    "vae.load_model(\"./logs/gfp/vae/vae_default_medium/vae_checkpoint_100.pt\")\n",
    "vae.evaluate(dataloader=train, verbose=True)\n",
    "vae.evaluate(dataloader=valid, verbose=True)\n",
    "vae.evaluate(dataloader=test, verbose=True)"
   ]
  },
  {
   "cell_type": "markdown",
   "metadata": {},
   "source": [
    "## GFP Data checks"
   ]
  },
  {
   "cell_type": "code",
   "execution_count": 130,
   "metadata": {},
   "outputs": [],
   "source": [
    "df = pd.read_csv(\"./data/gfp_data.csv\")"
   ]
  },
  {
   "cell_type": "code",
   "execution_count": 137,
   "metadata": {},
   "outputs": [],
   "source": [
    "wild_type = df[\"nucSequence\"].values[0]\n",
    "aa_wild_type = translate(df[\"nucSequence\"].values[0])\n",
    "assert(all([count_substring_mismatch(x1, wild_type) == x2 for x1, x2 in zip(df[\"nucSequence\"].values, df[\"numNucMutations\"])]\n",
    "          ))"
   ]
  },
  {
   "cell_type": "code",
   "execution_count": 132,
   "metadata": {},
   "outputs": [],
   "source": [
    "df = df.drop(['Unnamed: 0', 'Unnamed: 0.1', 'Unnamed: 0.1.1'], axis = 1)"
   ]
  },
  {
   "cell_type": "code",
   "execution_count": 133,
   "metadata": {},
   "outputs": [
    {
     "data": {
      "text/plain": [
       "Index(['nucSequence', 'numNucMutations', 'numAAMutations', 'uniqueBarcodes',\n",
       "       'medianBrightness', 'std', 'aaSequence'],\n",
       "      dtype='object')"
      ]
     },
     "execution_count": 133,
     "metadata": {},
     "output_type": "execute_result"
    }
   ],
   "source": [
    "df.columns"
   ]
  },
  {
   "cell_type": "code",
   "execution_count": 134,
   "metadata": {},
   "outputs": [],
   "source": [
    "df[\"aaSequence\"] = df[\"nucSequence\"].apply(lambda x : translate(x))"
   ]
  },
  {
   "cell_type": "code",
   "execution_count": 135,
   "metadata": {},
   "outputs": [
    {
     "name": "stdout",
     "output_type": "stream",
     "text": [
      "714\n",
      "238\n",
      "238\n"
     ]
    },
    {
     "data": {
      "text/plain": [
       "(None, None, None)"
      ]
     },
     "execution_count": 135,
     "metadata": {},
     "output_type": "execute_result"
    }
   ],
   "source": [
    "print(len(wild_type)), print(len(aa_wild_type)), print(len(df[\"aaSequence\"][0]))"
   ]
  },
  {
   "cell_type": "code",
   "execution_count": 138,
   "metadata": {},
   "outputs": [],
   "source": [
    "for x1, x2 in zip(df[\"aaSequence\"].values, df[\"numAAMutations\"].values):\n",
    "    assert(count_substring_mismatch(x1, aa_wild_type) == x2)\n",
    "    assert(\"*\" in x1)"
   ]
  },
  {
   "cell_type": "code",
   "execution_count": 141,
   "metadata": {},
   "outputs": [
    {
     "name": "stdout",
     "output_type": "stream",
     "text": [
      "(46733, 7) (11684, 7)\n"
     ]
    }
   ],
   "source": [
    "df = df.sample(frac=1).reset_index(drop=True)\n",
    "df[\"aaSequence\"] = df[\"aaSequence\"].apply(lambda x : x.upper())\n",
    "train_size = int(df.shape[0] * 0.8)\n",
    "train_df = df[:train_size].reset_index(drop=True)\n",
    "assert(wild_type in train_df[\"nucSequence\"].values)\n",
    "test_df = df[train_size: ].reset_index(drop=True)\n",
    "print(train_df.shape, test_df.shape)"
   ]
  },
  {
   "cell_type": "code",
   "execution_count": 142,
   "metadata": {},
   "outputs": [
    {
     "data": {
      "text/plain": [
       "(                                         nucSequence  numNucMutations  \\\n",
       " 0  AGCAAGGGCGAGGAGCTGTTCACCGGGGTGGTGCCCATCCTGGTCG...                6   \n",
       " 1  AGCAAGGGCGAGGAGCTGTTCACCGGGGTGGTGCCCATCCTGGTCG...                2   \n",
       " 2  AGCAAGGGCGAGGAGCTGTTCACCGGGGTGGTGCCCATCCTGGTCG...                1   \n",
       " 3  AGCAAGGGCGAGGAGCTGTTCACCGGGGTGGTGCCCATCCTGGTCG...                3   \n",
       " 4  AGCAAGGGCGAGGAGCTGTTCACCGGGGTGGTGCCCATCCTGGTCG...                2   \n",
       " 5  AGCAAGGGCGAGGAGCTGTTCACCGGGGTGGTGCCCATCCTGGTCG...                6   \n",
       " 6  AGCAAGGGCGAGGAGCTGTTCACCGGGGTGGTGCCCATCCTGGTCG...                2   \n",
       " 7  AGCAAGGGCGAGGAGCTGTTCACCGGGGTGGTGCCCATCCTGGTCG...                7   \n",
       " 8  AGCAAGGGCGAGGAGCTGTTCACCGGGGTGGTGCCCATCCTGGTCG...                3   \n",
       " 9  AGCAAGGGCGAGGAGCTGTTCACCGGGGTGGTGCCCATCCTGGTCG...                4   \n",
       " \n",
       "    numAAMutations  uniqueBarcodes  medianBrightness  std  \\\n",
       " 0               6               1          1.301030  0.0   \n",
       " 1               2               1          3.468275  0.0   \n",
       " 2               1               1          2.884345  0.0   \n",
       " 3               3               1          3.656076  0.0   \n",
       " 4               2               1          3.630514  0.0   \n",
       " 5               5               1          3.754499  0.0   \n",
       " 6               2               1          3.524590  0.0   \n",
       " 7               6               1          1.386379  0.0   \n",
       " 8               2               1          3.141267  0.0   \n",
       " 9               4               1          3.831998  0.0   \n",
       " \n",
       "                                           aaSequence  \n",
       " 0  SKGEELFTGVVPILVELDGDVNGHKFGVSGEGEGDATYGKLTLKFI...  \n",
       " 1  SKGEELFTGVVPILVELDGDVNGHKFSVSGEGEGDATYGKLTLKFI...  \n",
       " 2  SKGEELFTGVVPILVELDGDVNGHKFSVSGEGEGDATYGKLTLKFI...  \n",
       " 3  SKGEELFTGVVPILVELDGDVNGHKFSVSGEGEGDATYGKLTLKFI...  \n",
       " 4  SKGEELFTGVVPILVELDGDVNGHKFSVSGEGEGDATYGKLTLKFI...  \n",
       " 5  SKGEELFTGVVPILVELDGDVNGHKFSVSGEGEGDATYGKLTLKFI...  \n",
       " 6  SKGEELFTGVVPILVELDGDVNGHKFSVSGEGEGDATYGNLTLKFI...  \n",
       " 7  SKGEELFTGVVPILVELDGDVSGHKFSVSGEGEGDATYGKLTLKFI...  \n",
       " 8  SKGEELFTGVVPILVELDGDVSGHKFSVSGEGEGDATYGKLTLKFI...  \n",
       " 9  SKGEELFTGVVPILVELDGDVNGHKFSVSGEGEGDATYGKLTLKFI...  ,\n",
       " (58417, 7),\n",
       "                                          nucSequence  numNucMutations  \\\n",
       " 0  AGCAAGGGCGAGGAGCTGTTCACCGGGGTGGTGCCCATCCTGGTCG...                6   \n",
       " 1  AGCAAGGGCGAGGAGCTGTTCACCGGGGTGGTGCCCATCCTGGTCG...                2   \n",
       " 2  AGCAAGGGCGAGGAGCTGTTCACCGGGGTGGTGCCCATCCTGGTCG...                1   \n",
       " 3  AGCAAGGGCGAGGAGCTGTTCACCGGGGTGGTGCCCATCCTGGTCG...                3   \n",
       " 4  AGCAAGGGCGAGGAGCTGTTCACCGGGGTGGTGCCCATCCTGGTCG...                2   \n",
       " 5  AGCAAGGGCGAGGAGCTGTTCACCGGGGTGGTGCCCATCCTGGTCG...                6   \n",
       " 6  AGCAAGGGCGAGGAGCTGTTCACCGGGGTGGTGCCCATCCTGGTCG...                2   \n",
       " 7  AGCAAGGGCGAGGAGCTGTTCACCGGGGTGGTGCCCATCCTGGTCG...                7   \n",
       " 8  AGCAAGGGCGAGGAGCTGTTCACCGGGGTGGTGCCCATCCTGGTCG...                3   \n",
       " 9  AGCAAGGGCGAGGAGCTGTTCACCGGGGTGGTGCCCATCCTGGTCG...                4   \n",
       " \n",
       "    numAAMutations  uniqueBarcodes  medianBrightness  std  \\\n",
       " 0               6               1          1.301030  0.0   \n",
       " 1               2               1          3.468275  0.0   \n",
       " 2               1               1          2.884345  0.0   \n",
       " 3               3               1          3.656076  0.0   \n",
       " 4               2               1          3.630514  0.0   \n",
       " 5               5               1          3.754499  0.0   \n",
       " 6               2               1          3.524590  0.0   \n",
       " 7               6               1          1.386379  0.0   \n",
       " 8               2               1          3.141267  0.0   \n",
       " 9               4               1          3.831998  0.0   \n",
       " \n",
       "                                           aaSequence  \n",
       " 0  SKGEELFTGVVPILVELDGDVNGHKFGVSGEGEGDATYGKLTLKFI...  \n",
       " 1  SKGEELFTGVVPILVELDGDVNGHKFSVSGEGEGDATYGKLTLKFI...  \n",
       " 2  SKGEELFTGVVPILVELDGDVNGHKFSVSGEGEGDATYGKLTLKFI...  \n",
       " 3  SKGEELFTGVVPILVELDGDVNGHKFSVSGEGEGDATYGKLTLKFI...  \n",
       " 4  SKGEELFTGVVPILVELDGDVNGHKFSVSGEGEGDATYGKLTLKFI...  \n",
       " 5  SKGEELFTGVVPILVELDGDVNGHKFSVSGEGEGDATYGKLTLKFI...  \n",
       " 6  SKGEELFTGVVPILVELDGDVNGHKFSVSGEGEGDATYGNLTLKFI...  \n",
       " 7  SKGEELFTGVVPILVELDGDVSGHKFSVSGEGEGDATYGKLTLKFI...  \n",
       " 8  SKGEELFTGVVPILVELDGDVSGHKFSVSGEGEGDATYGKLTLKFI...  \n",
       " 9  SKGEELFTGVVPILVELDGDVNGHKFSVSGEGEGDATYGKLTLKFI...  ,\n",
       " (46733, 7),\n",
       "                                          nucSequence  numNucMutations  \\\n",
       " 0  AGCAAGGGCGAGGAGCTGTTCACCGGGGTGGTGCCCATCCTGGTCG...                3   \n",
       " 1  AGCAAGGGCGAGGAGCTGTTCACCGGGGTGGTGCCCATCCTGGTCG...                2   \n",
       " 2  AGCAAGGGCGAGGAGCTGTTCACCGGGGTGGTGCCCATCCTGGTCG...                6   \n",
       " 3  AGCAAGGGCGAGGAGCTGTTCACCGGGGTGGTGCCCATCCTGGTCG...                3   \n",
       " 4  AGCAAGGGCGAGGAGCTGTTCACCGGGGTGGTGCCCATCCTGGTCG...                5   \n",
       " 5  AGCAAGGGCGAGGAGCTGTTCACCGGGGTGGTGCCCATCCTGGTCG...                5   \n",
       " 6  AGCAAGGGCGTGGAGCTGTTCACCGGGGTGGTGCCCATCCTGGTCG...                4   \n",
       " 7  AGCAAGGGCGAGGAGCTGTTCACCGGGGTGGTGCCCATCCTGGTCG...                6   \n",
       " 8  AGCAAGGGCGAGGAGCTGTTCACCGGGGTGGTGCCCATCCTGGTCG...                7   \n",
       " 9  AGCAAGGGCGAGGAGCTGTTCACCGGGGTGGTGCCCATCCTGGTCG...                3   \n",
       " \n",
       "    numAAMutations  uniqueBarcodes  medianBrightness  std  \\\n",
       " 0               3               1          3.735901  0.0   \n",
       " 1               2               1          3.715275  0.0   \n",
       " 2               5               1          1.459886  0.0   \n",
       " 3               2               1          3.765347  0.0   \n",
       " 4               4               1          1.301030  0.0   \n",
       " 5               4               1          3.717884  0.0   \n",
       " 6               4               1          1.515211  0.0   \n",
       " 7               4               1          1.301030  0.0   \n",
       " 8               7               1          1.301030  0.0   \n",
       " 9               3               1          3.618007  0.0   \n",
       " \n",
       "                                           aaSequence  \n",
       " 0  SKGEELFTGVVPILVELDGDVNGHKFSVSGEGEGDATYGKLTLKFI...  \n",
       " 1  SKGEELFTGVVPILVELDGDVNGHKFSVSGEGEGDATYGKLTLKFI...  \n",
       " 2  SKGEELFTGVVPILVELDGDVNGHKFSVSGEGEGDATYGKLTLKFI...  \n",
       " 3  SKGEELFTGVVPILVELDGDVNGHKFSVSGEGEGDATYGKLTLKFI...  \n",
       " 4  SKGEELFTGVVPILVELDGDVNGHKFSVSGEGEGDATYGKLTLKFI...  \n",
       " 5  SKGEELFTGVVPILVELDGDVNGHKFSVSGEGEGDATYGKLTLKFI...  \n",
       " 6  SKGVELFTGVVPILVELDGDVNGHKFSVSGEGEGDATYGKLTLKFI...  \n",
       " 7  SKGEELFTGVVPILVELDGDVNGHKFSVSGEGEGDATYGKLTLKFI...  \n",
       " 8  SKGEELFTGVVPILVEQDGDVNGHKFSVSGEGEGDATYGKQTLKFI...  \n",
       " 9  SKGEELFTGVVPILVELDGDVNGHKFSVSGEGEGDATYGKLTLKFI...  ,\n",
       " (11684, 7))"
      ]
     },
     "execution_count": 142,
     "metadata": {},
     "output_type": "execute_result"
    }
   ],
   "source": [
    "df.head(10), df.shape, train_df.head(10), train_df.shape, test_df.head(10), test_df.shape"
   ]
  },
  {
   "cell_type": "code",
   "execution_count": 154,
   "metadata": {},
   "outputs": [],
   "source": [
    "train_df.to_csv(\"./data/gfp_train.csv\", index=False)\n",
    "test_df.to_csv(\"./data/gfp_test.csv\", index=False)"
   ]
  },
  {
   "cell_type": "code",
   "execution_count": 124,
   "metadata": {},
   "outputs": [],
   "source": [
    "assert(all([\"*\" not in x for x in x_train]))\n",
    "assert(aa_wild_type.upper()[:-1] in x_train)"
   ]
  },
  {
   "cell_type": "code",
   "execution_count": 155,
   "metadata": {},
   "outputs": [],
   "source": [
    "np.save(\"./data/gfp_x_train.npy\", train_df[\"aaSequence\"].values)\n",
    "np.save(\"./data/gfp_x_test.npy\", test_df[\"aaSequence\"].values)\n",
    "np.save(\"./data/gfp_y_train.npy\", train_df[\"medianBrightness\"].values)\n",
    "np.save(\"./data/gfp_y_test.npy\", test_df[\"medianBrightness\"].values)"
   ]
  },
  {
   "cell_type": "code",
   "execution_count": 156,
   "metadata": {},
   "outputs": [],
   "source": [
    "x_train, x_test, y_train, y_test = load_data(\"./data/gfp_\")"
   ]
  },
  {
   "cell_type": "code",
   "execution_count": 146,
   "metadata": {},
   "outputs": [
    {
     "data": {
      "text/plain": [
       "[46733, 11684, 46733, 11684]"
      ]
     },
     "execution_count": 146,
     "metadata": {},
     "output_type": "execute_result"
    }
   ],
   "source": [
    "list(map(len, [x_train, x_test, y_train, y_test]))"
   ]
  },
  {
   "cell_type": "code",
   "execution_count": null,
   "metadata": {},
   "outputs": [],
   "source": []
  }
 ],
 "metadata": {
  "kernelspec": {
   "display_name": "Python 3",
   "language": "python",
   "name": "python3"
  },
  "language_info": {
   "codemirror_mode": {
    "name": "ipython",
    "version": 3
   },
   "file_extension": ".py",
   "mimetype": "text/x-python",
   "name": "python",
   "nbconvert_exporter": "python",
   "pygments_lexer": "ipython3",
   "version": "3.6.8"
  }
 },
 "nbformat": 4,
 "nbformat_minor": 2
}
