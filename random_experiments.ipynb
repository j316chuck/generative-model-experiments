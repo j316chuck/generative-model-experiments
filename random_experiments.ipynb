{
 "cells": [
  {
   "cell_type": "code",
   "execution_count": 1,
   "metadata": {},
   "outputs": [],
   "source": [
    "import torch \n",
    "import matplotlib.pyplot as plt\n",
    "from main import get_dataloader\n",
    "from utils import get_all_amino_acids, get_wild_type_amino_acid_sequence, count_substring_mismatch\n",
    "from rnn import GenerativeRNN, rnn_default_args"
   ]
  },
  {
   "cell_type": "code",
   "execution_count": 2,
   "metadata": {},
   "outputs": [],
   "source": [
    "args = rnn_default_args()\n",
    "args[\"num_data\"] = 1000\n",
    "args[\"dataset\"] = \"gfp_amino_acid\""
   ]
  },
  {
   "cell_type": "code",
   "execution_count": 3,
   "metadata": {},
   "outputs": [],
   "source": [
    "rnn = GenerativeRNN(args)"
   ]
  },
  {
   "cell_type": "code",
   "execution_count": 9,
   "metadata": {},
   "outputs": [],
   "source": [
    "# test load \n",
    "rnn.load_model(\"./models/rnn_test_sample_1/checkpoint_50.pt\", initial_probs=True)"
   ]
  },
  {
   "cell_type": "code",
   "execution_count": 10,
   "metadata": {},
   "outputs": [],
   "source": [
    "train_loader, valid_loader, test_loader = get_dataloader(args)"
   ]
  },
  {
   "cell_type": "code",
   "execution_count": 11,
   "metadata": {},
   "outputs": [
    {
     "name": "stdout",
     "output_type": "stream",
     "text": [
      "25.79530859375\n"
     ]
    }
   ],
   "source": [
    "score = rnn.evaluate(test_loader)\n",
    "print(score)\n",
    "assert(score < 26)"
   ]
  },
  {
   "cell_type": "code",
   "execution_count": 12,
   "metadata": {},
   "outputs": [],
   "source": [
    "# test sample\n",
    "samples = rnn.sample(1000, 238)"
   ]
  },
  {
   "cell_type": "code",
   "execution_count": 13,
   "metadata": {},
   "outputs": [
    {
     "name": "stdout",
     "output_type": "stream",
     "text": [
      "[6, 3, 1, 1, 4, 4, 2, 3, 232, 4, 2, 2, 3, 3, 4, 2, 6, 4, 1, 4, 5, 1, 3, 5, 2, 4, 4, 2, 6, 3, 75, 7, 5, 3, 8, 4, 215, 4, 1, 5, 7, 187, 2, 6, 1, 219, 6, 7, 1, 219, 7, 7, 8, 4, 6, 5, 7, 3, 3, 4, 4, 4, 5, 2, 6, 4, 4, 3, 2, 5, 4, 7, 2, 0, 3, 3, 1, 214, 2, 2, 4, 3, 2, 74, 4, 8, 1, 5, 8, 10, 110, 5, 142, 193, 4, 6, 0, 3, 5, 0, 5, 4, 3, 10, 4, 4, 5, 3, 1, 175, 5, 6, 34, 5, 5, 5, 5, 8, 4, 219, 3, 63, 8, 1, 1, 3, 3, 2, 3, 40, 3, 3, 7, 77, 7, 0, 7, 3, 213, 3, 4, 6, 5, 56, 4, 1, 5, 4, 1, 1, 212, 223, 4, 4, 2, 4, 1, 3, 5, 7, 2, 94, 7, 5, 2, 4, 4, 4, 0, 2, 0, 5, 2, 2, 4, 3, 4, 1, 3, 7, 94, 3, 3, 172, 4, 3, 3, 75, 3, 7, 3, 3, 6, 5, 2, 2, 4, 2, 2, 3, 6, 3, 5, 94, 3, 5, 2, 38, 1, 1, 3, 2, 3, 5, 3, 2, 3, 1, 4, 142, 5, 4, 4, 4, 2, 2, 3, 7, 5, 227, 3, 5, 4, 4, 4, 7, 7, 4, 2, 6, 4, 5, 222, 7, 227, 2, 2, 3, 7, 3, 3, 5, 3, 218, 8, 3, 1, 4, 7, 4, 145, 4, 132, 2, 5, 3, 6, 7, 4, 2, 110, 3, 5, 0, 0, 8, 4, 3, 5, 2, 5, 4, 2, 1, 2, 0, 230, 4, 4, 178, 5, 2, 8, 1, 7, 43, 2, 3, 2, 1, 6, 1, 3, 7, 4, 6, 3, 3, 3, 1, 5, 3, 8, 2, 5, 0, 6, 10, 216, 2, 101, 5, 3, 4, 174, 3, 1, 182, 5, 3, 2, 3, 5, 8, 7, 4, 0, 23, 3, 2, 0, 1, 3, 1, 45, 3, 4, 6, 3, 83, 3, 2, 3, 2, 2, 5, 0, 179, 2, 44, 2, 6, 64, 3, 1, 5, 2, 3, 6, 2, 4, 5, 1, 2, 3, 224, 2, 17, 4, 5, 9, 90, 3, 1, 4, 5, 3, 1, 11, 1, 6, 0, 2, 2, 5, 5, 4, 3, 5, 1, 3, 9, 2, 4, 3, 6, 80, 4, 5, 2, 6, 6, 0, 10, 3, 5, 4, 2, 5, 5, 1, 4, 3, 2, 5, 2, 0, 1, 6, 4, 3, 1, 3, 5, 3, 226, 4, 161, 5, 4, 2, 3, 123, 8, 6, 4, 4, 119, 5, 2, 4, 3, 3, 2, 5, 2, 8, 178, 6, 6, 8, 6, 225, 2, 2, 3, 4, 5, 3, 8, 5, 5, 3, 5, 2, 144, 2, 2, 138, 3, 2, 9, 1, 1, 2, 6, 95, 4, 2, 5, 2, 6, 1, 3, 4, 3, 3, 6, 11, 6, 5, 3, 207, 3, 1, 1, 4, 2, 2, 3, 1, 8, 2, 1, 5, 1, 2, 228, 167, 1, 0, 8, 2, 6, 3, 1, 3, 5, 5, 0, 4, 4, 4, 3, 3, 4, 5, 5, 4, 2, 4, 6, 3, 3, 3, 3, 5, 3, 1, 7, 4, 4, 85, 2, 5, 211, 4, 3, 5, 3, 3, 8, 22, 3, 2, 219, 5, 5, 7, 4, 190, 61, 3, 1, 3, 3, 4, 2, 7, 3, 3, 7, 11, 3, 4, 5, 4, 2, 2, 6, 3, 6, 40, 6, 3, 4, 0, 5, 6, 1, 116, 10, 7, 158, 1, 6, 0, 2, 2, 2, 6, 2, 3, 2, 28, 7, 2, 6, 2, 3, 4, 5, 6, 0, 3, 10, 5, 2, 199, 4, 0, 5, 3, 157, 102, 6, 7, 2, 227, 4, 103, 3, 4, 3, 3, 5, 1, 3, 1, 6, 5, 75, 5, 8, 9, 3, 182, 1, 7, 3, 1, 0, 144, 3, 4, 3, 2, 2, 3, 2, 5, 2, 7, 3, 2, 7, 2, 2, 2, 3, 2, 2, 2, 4, 179, 5, 7, 2, 27, 1, 5, 2, 1, 223, 7, 9, 3, 3, 5, 3, 4, 203, 3, 5, 7, 71, 5, 1, 184, 3, 3, 205, 6, 4, 6, 5, 2, 3, 0, 5, 211, 3, 2, 2, 3, 4, 3, 6, 4, 5, 3, 5, 1, 6, 1, 7, 4, 1, 3, 3, 5, 4, 4, 2, 3, 6, 2, 214, 3, 9, 3, 3, 8, 5, 160, 8, 217, 4, 3, 4, 4, 2, 5, 2, 3, 2, 3, 3, 0, 8, 7, 4, 2, 1, 4, 1, 4, 227, 3, 4, 6, 6, 2, 7, 4, 4, 3, 3, 3, 2, 6, 1, 5, 7, 5, 5, 2, 1, 117, 9, 5, 8, 3, 1, 0, 6, 3, 4, 3, 5, 2, 6, 4, 1, 3, 3, 3, 8, 72, 87, 4, 3, 6, 6, 127, 7, 3, 137, 3, 3, 5, 1, 5, 83, 2, 7, 1, 4, 4, 5, 1, 5, 3, 2, 2, 3, 2, 5, 60, 179, 162, 4, 1, 5, 6, 2, 5, 3, 3, 5, 5, 5, 94, 3, 5, 4, 6, 3, 49, 5, 4, 3, 176, 9, 2, 2, 2, 3, 5, 4, 5, 210, 5, 1, 2, 4, 6, 7, 3, 4, 8, 4, 4, 2, 2, 4, 1, 4, 1, 2, 7, 5, 3, 4, 2, 4, 3, 3, 7, 0, 2, 2, 3, 30, 74, 22, 2, 225, 220, 3, 4, 3, 4, 2, 3, 4, 2, 0, 5, 4, 15, 3, 5, 7, 4, 4, 3, 3, 2, 5, 2, 6, 3, 3, 3, 2, 4, 4, 3, 1, 1, 3, 4, 1, 2, 6, 3, 7, 3, 0, 1, 6, 1, 2, 5, 7, 1, 5, 23, 4, 0, 6, 2, 0, 6, 5, 3, 0, 4, 227, 4, 3, 2, 218, 4, 4, 0, 5, 0, 3, 4, 5, 2, 3, 2, 2, 2, 2, 5, 1]\n"
     ]
    }
   ],
   "source": [
    "wild_type = get_wild_type_amino_acid_sequence()\n",
    "mismatches = [count_substring_mismatch(sample, wild_type) for sample in samples]\n",
    "print(mismatches)"
   ]
  },
  {
   "cell_type": "code",
   "execution_count": 14,
   "metadata": {},
   "outputs": [
    {
     "data": {
      "image/png": "[encoded data removed]",
      "text/plain": [
       "<Figure size 432x288 with 1 Axes>"
      ]
     },
     "metadata": {},
     "output_type": "display_data"
    }
   ],
   "source": [
    "plt.hist(mismatches)\n",
    "plt.show()"
   ]
  },
  {
   "cell_type": "code",
   "execution_count": 15,
   "metadata": {},
   "outputs": [],
   "source": [
    "mismatches_20, mismatches_1000 = [sample for sample in samples if count_substring_mismatch(sample, wild_type) < 20], [sample for sample in samples if count_substring_mismatch(sample, wild_type) >= 20]"
   ]
  },
  {
   "cell_type": "code",
   "execution_count": 16,
   "metadata": {},
   "outputs": [
    {
     "data": {
      "text/plain": [
       "(886, 114)"
      ]
     },
     "execution_count": 16,
     "metadata": {},
     "output_type": "execute_result"
    }
   ],
   "source": [
    "len(mismatches_20), len(mismatches_1000)"
   ]
  },
  {
   "cell_type": "code",
   "execution_count": 21,
   "metadata": {},
   "outputs": [],
   "source": [
    "mismatches_20_lst = [count_substring_mismatch(sample, wild_type) for sample in mismatches_20]"
   ]
  },
  {
   "cell_type": "code",
   "execution_count": 24,
   "metadata": {},
   "outputs": [
    {
     "data": {
      "image/png": "[encoded data removed]",
      "text/plain": [
       "<Figure size 432x288 with 1 Axes>"
      ]
     },
     "metadata": {},
     "output_type": "display_data"
    }
   ],
   "source": [
    "plt.figure()\n",
    "plt.hist(mismatches_20_lst)\n",
    "plt.xticks(range(0, 20, 1))\n",
    "plt.show()"
   ]
  },
  {
   "cell_type": "code",
   "execution_count": 27,
   "metadata": {},
   "outputs": [
    {
     "data": {
      "image/png": "[encoded data removed]",
      "text/plain": [
       "<Figure size 432x288 with 1 Axes>"
      ]
     },
     "metadata": {},
     "output_type": "display_data"
    }
   ],
   "source": [
    "mismatches_1000_lst = [count_substring_mismatch(sample, wild_type) for sample in mismatches_1000]\n",
    "plt.figure()\n",
    "plt.hist(mismatches_1000_lst)\n",
    "plt.show()"
   ]
  },
  {
   "cell_type": "code",
   "execution_count": 28,
   "metadata": {},
   "outputs": [
    {
     "name": "stdout",
     "output_type": "stream",
     "text": [
      "['EWISTQGELFTGVVPILVELDGDVNGHKFSVSGEGEGDATYGKLTLKFICTTGKLPVPWPTLVTTLSYGVQCFSRYPDHMKPHDFFKSAMPEGYVQERTIFSKDDGNYKTRAEVKFEGDTLVNRIELKGVDFKEDGNILGHKLEYNYNSHNVYIMADKQKNGIKVNFKIRHNIEDGSVQLADHYQQNTPIGDGPVLLPDNHTLSIQSALSKDPNEKRDHMVLLEFVTAAGITHGMDEL', 'SKGEALFTGVVPILVELDGDVNGHKFSVSGEGEGDATYGKLTLKFICTTGKLPVPWPTLVTTLSYGVQCFSRYPDHMKQHDFFKSAMPEGYVQERTILFKVDGNYKTRAEVKFEGDTLVNRIELKGIDFKEDGNILGHKLEYIYNSHNVYIMADKQKNGIKVNKFKIRHNIEDGSVQLADHYQQNTPIGDGPVLLPDNHYLSTQSALSKDPNEKRDHMVLLEFVTAAGITHGMGELYK', 'SRGEECKTWVVTALVECDGNYKTRGEVKIEDGNVLGHKLVYNYNSHNVYIMADKLKNGIKVNFKIRHNIEDGSVQLADHYQQNTPIGDGPVLLPDNHYLSTQSALSKDPNEKRDHLVLLEFVTAAGVTHGMDEQYK*I*I*NAKGRKLEYNYICNTNGKKVNPKILGGNVQLADHYQQNTPIGDGPVLLPDNHYLSTQSALSKDPNEKRDHMVLLEFVTAAGITHGMDELYK*FKTDI', 'SKGEELFTGVVPILVELDGDVNGHKFSVSGEGEGDATYGEPFLVKISKSGLVELDYVNHTLSEYSVSGEGDTYGRLTLKFVCTTGKLPVPWPTLVTTLSYGVQCFSRYPDHMKQHDFFKSAMPEGYVQERTIFFKDDGNYRTRTEVKFEGDTLVNRIELRGIDFKEDGDILGHKLEYNYNSHNVYIMADKQKNGIKVNFKIRHNIEDGSVQLADHYQQNTPIGDGPVLLPDNHYLSTQ', 'YIMGELYKSISSKGEELSTGVVPILVELDGDVNGHKFSVSGEGEGDATYGKLTLKFICTTGKLPVPWPTLVTTLSYGVQCSSRYPDHM*QHDFFKSAMPEGYVQERTIFFKDDGNYKTRAEVKFEGDTLVNRIELKGIDLKEDGNILGHKLEYNYNSHNVYIMADKQKNGIKVNFKIRHNIEDGSVQLADHYQQNTPIGDGPVLLPDNHYLSTQSALSKDPNEKRDHMVLLEFVTAAG', 'HSVKPEGDATLSKFIELDGNILGHKLEYNYNSHNVYIMADKQKSGIKVNFKIRHNIEDGSVQLADHYQQSTPIGDGPVLLPDNHYLSTQSALSKDPNEKRDHMVLLEFVTAAGITHGMDELYK*ESKSMGVLLCVTVAILVEGLDGNYKRNFIEDGSMQEYDYNNSTIRAELEGDTLINCILGKLESYIILHGNILGYKLAYIYIMGKFRENI*YIMADKQKNGIKVNFKIRHNIEDG', 'SKGEELFTGVVPILVGELDGDVNGHKFSVSGEGEGDATYGKLTLKLICTTGKLPVPWPTLVSTLSYGVQCFSRYPDHMKQHDFFKSAMPEGYVQERTIFFKDDGNYKTRAEVKFEGDTLVNRIELKGNDFKEDGNILGHKLEYNYNSHNVYIMADKQKNGIKVNFKIRHNIEDGSVQLADHYQRNTPIGDGPVLLPDNHYLSTQSALSKGPNEKRDHMVLLEFVTAAGTTHGMDELYK', 'SKGEELFTGVVPILVELDGDVNGRKFSVSGEGEGDATYGKLTLKFICTTGKLPVPWPTPVTTLSYGVQCFSRYPDHMKQHDFFKSAMPEGYVQERTIFFKDDGNYKTRAEVKFEGDTLVNRIELKGIDFKEDGNILGHKLEYNYNSHNVYIMADKQRNGIKVNLKINNNIKNVKSEEGGIVAGHKLEYNYNSHNVYIMADKRKNGIKVNFKIRHNIEDGSVQLADHYQQNTPIGDGPV', 'SKGEELFTGVVPILVELDGDVNGHKFSVSGEGEGDATYGKLTLKFICTTGKLPVPWPTLVTTLSYGVQCFSRYPDHMKQHDFFKSAMPEGYVQERTIFFKDDGNCKTRAEVELEGDTLVNCILIECKLDGYILNGIKVANEKVDGNVRGAIMLKNGIDFKEDGNILGHKLEYNYNSHNVYIMADKQKNGIKVNFKIRHNIEDGSVQLADHYQQNTPIGDGPVLLPDNHYLSTQSALSK', 'SKGEELFTGVVPILVKLDGDVNGHKFSVSGEGEGDATYGKLTLKFICTTGKLPVPWPTLVTTLSYGVQCFSRYPDHSKQHDFFETAAPEGKLTLKFICTTGKLPVPWPTLVTTLSYGVQCFSRYPDHMKQHDFFKSAMPEGYVQERTIFFKDDGNYKTRAEVKFEGDTLVNRIELKGIDFKEDGNILGHKLEYNYNSHNVYIMADMQKNGIKVNFKIRHNIEDGSVQLADHYQQNTPI']\n"
     ]
    }
   ],
   "source": [
    "print(mismatches_1000[0:10])"
   ]
  },
  {
   "cell_type": "code",
   "execution_count": 35,
   "metadata": {},
   "outputs": [
    {
     "data": {
      "text/plain": [
       "'SKGEELFTGVVPILVELDGDVNGHKFSVSGEGEGDATYGKLTLKFICTTGKLPVPWPTLVTTLSYGVQCFSRYPDHMKQHDFFKSAMPEGYVQERTIFFKDDGNYKTRAEVKFEGDTLVNRIELKGIDFKEDGNILGHKLEYNYNSHNVYIMADKQKNGIKVNFKIRHNIEDGSVQLADHYQQNTPIGDGPVLLPDNHYLSTQSALSKDPNEKRDHMVLLEFVTAAGITHGMDELYK*'"
      ]
     },
     "execution_count": 35,
     "metadata": {},
     "output_type": "execute_result"
    }
   ],
   "source": [
    "wild_type"
   ]
  },
  {
   "cell_type": "code",
   "execution_count": 36,
   "metadata": {},
   "outputs": [
    {
     "data": {
      "text/plain": [
       "'SKGEELFTGVVPILVELDGDVNGRKFSVSGEGEGDATYGKLTLKFICTTGKLPVPWPTPVTTLSYGVQCFSRYPDHMKQHDFFKSAMPEGYVQERTIFFKDDGNYKTRAEVKFEGDTLVNRIELKGIDFKEDGNILGHKLEYNYNSHNVYIMADKQRNGIKVNLKINNNIKNVKSEEGGIVAGHKLEYNYNSHNVYIMADKRKNGIKVNFKIRHNIEDGSVQLADHYQQNTPIGDGPV'"
      ]
     },
     "execution_count": 36,
     "metadata": {},
     "output_type": "execute_result"
    }
   ],
   "source": [
    "mismatches_1000[7]"
   ]
  },
  {
   "cell_type": "code",
   "execution_count": 54,
   "metadata": {},
   "outputs": [
    {
     "name": "stdout",
     "output_type": "stream",
     "text": [
      "138\n",
      "138\n",
      "183\n"
     ]
    }
   ],
   "source": [
    "sub = 'KLEYNYNSHNVYIMADK' #VYIMADKRKNGIKVNFKIRHNIEDGSVQLADHYQQNTPIGDGPV\n",
    "print(wild_type.index(sub))\n",
    "k = mismatches_1000[7].index(sub)\n",
    "print(k)\n",
    "print(k+mismatches_1000[7][k+1:].index(sub))"
   ]
  },
  {
   "cell_type": "code",
   "execution_count": null,
   "metadata": {},
   "outputs": [],
   "source": []
  }
 ],
 "metadata": {
  "kernelspec": {
   "display_name": "Python 3",
   "language": "python",
   "name": "python3"
  },
  "language_info": {
   "codemirror_mode": {
    "name": "ipython",
    "version": 3
   },
   "file_extension": ".py",
   "mimetype": "text/x-python",
   "name": "python",
   "nbconvert_exporter": "python",
   "pygments_lexer": "ipython3",
   "version": "3.6.8"
  }
 },
 "nbformat": 4,
 "nbformat_minor": 2
}
