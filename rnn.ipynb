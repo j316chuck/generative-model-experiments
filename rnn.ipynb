{
 "cells": [
  {
   "cell_type": "markdown",
   "metadata": {},
   "source": [
    "## Imports"
   ]
  },
  {
   "cell_type": "code",
   "execution_count": 72,
   "metadata": {},
   "outputs": [],
   "source": [
    "import unidecode\n",
    "import string\n",
    "import random\n",
    "import re\n",
    "import time\n",
    "import torch\n",
    "import torch.nn as nn\n",
    "import numpy as np \n",
    "import os \n",
    "\n",
    "from IPython.core.debugger import set_trace\n",
    "from torch.autograd import Variable\n",
    "from torchviz import make_dot\n",
    "from torch.utils.data import TensorDataset, DataLoader\n",
    "from utils import load_gfp_data, get_all_amino_acids, get_wild_type_amino_acid_sequence, count_substring_mismatch"
   ]
  },
  {
   "cell_type": "markdown",
   "metadata": {},
   "source": [
    "## Model"
   ]
  },
  {
   "cell_type": "code",
   "execution_count": 2,
   "metadata": {},
   "outputs": [],
   "source": [
    "# https://github.com/spro/char-rnn.pytorch/blob/master/model.py\n",
    "class GenerativeRNN(nn.Module):\n",
    "    def __init__(self, input_size, hidden_size, output_size, model=\"lstm\", n_layers=1):\n",
    "        super(GenerativeRNN, self).__init__()\n",
    "        self.model = model.lower()\n",
    "        self.input_size = input_size\n",
    "        self.hidden_size = hidden_size\n",
    "        self.output_size = output_size\n",
    "        self.n_layers = n_layers\n",
    "        \n",
    "        self.encoder = nn.Embedding(input_size, hidden_size)\n",
    "        if self.model == \"gru\":\n",
    "            self.rnn = nn.GRU(hidden_size, hidden_size, n_layers)\n",
    "        elif self.model == \"lstm\":\n",
    "            self.rnn = nn.LSTM(hidden_size, hidden_size, n_layers)\n",
    "        self.decoder = nn.Linear(hidden_size, output_size)\n",
    "\n",
    "    def forward(self, input, hidden):\n",
    "        # input is of shape (batch_size, 1) where each input[x, 0] is the word index\n",
    "        # char RNN so we generate one character at a time. \n",
    "        batch_size = input.size(0)\n",
    "        encoded = self.encoder(input)\n",
    "        output, hidden = self.rnn(encoded.view(1, batch_size, -1), hidden)\n",
    "        output = self.decoder(output.view(batch_size, -1))\n",
    "        return output, hidden\n",
    "    \n",
    "    def init_hidden(self, batch_size):\n",
    "        if self.model == \"lstm\":\n",
    "            return (Variable(torch.zeros(self.n_layers, batch_size, self.hidden_size)),\n",
    "                    Variable(torch.zeros(self.n_layers, batch_size, self.hidden_size)))\n",
    "        return Variable(torch.zeros(self.n_layers, batch_size, self.hidden_size))\n",
    "    "
   ]
  },
  {
   "cell_type": "markdown",
   "metadata": {},
   "source": [
    "# Loading Data"
   ]
  },
  {
   "cell_type": "code",
   "execution_count": 3,
   "metadata": {},
   "outputs": [],
   "source": [
    "all_characters = get_all_amino_acids()\n",
    "num_characters = len(all_characters)\n",
    "character_to_int = dict(zip(all_characters, range(num_characters)))\n",
    "int_to_character = dict(zip(range(num_characters), all_characters))"
   ]
  },
  {
   "cell_type": "code",
   "execution_count": 21,
   "metadata": {},
   "outputs": [],
   "source": [
    "def string_to_tensor(string):\n",
    "    tensor = torch.zeros(len(string)).long()\n",
    "    for i, c in enumerate(string): \n",
    "        tensor[i] = character_to_int[c]\n",
    "    return tensor\n",
    "\n",
    "def string_to_numpy(string):\n",
    "    arr = np.zeros(len(string))\n",
    "    for i, c in enumerate(string): \n",
    "        arr[i] = character_to_int[c]\n",
    "    return arr\n",
    "    \n",
    "def get_dataloader(X_train, length, n = 100, batch_size = 1, shuffle=True, random=True):\n",
    "    if not random: \n",
    "        data = X_train[0:n]\n",
    "    else: \n",
    "        indexes = np.random.choice(len(X_train), n)\n",
    "        data = X_train[indexes]        \n",
    "    dataset = np.array([string_to_numpy(x[0:length]) for x in data])\n",
    "    input = torch.from_numpy(dataset[:, :-1]).long()\n",
    "    output = torch.from_numpy(dataset[:, 1:]).long()\n",
    "    tensor_dataset = TensorDataset(input, output)\n",
    "    return DataLoader(tensor_dataset, batch_size = batch_size, shuffle = shuffle)\n",
    "\n",
    "seq_length = 238\n",
    "batch_size = 10\n",
    "X_train, X_test, y_train, y_test = load_gfp_data(\"./data/gfp_amino_acid_\")\n",
    "dataloader = get_dataloader(X_train, length=seq_length, n=100, batch_size=batch_size, shuffle=True, random=True)"
   ]
  },
  {
   "cell_type": "markdown",
   "metadata": {},
   "source": [
    "# Training"
   ]
  },
  {
   "cell_type": "code",
   "execution_count": 162,
   "metadata": {},
   "outputs": [],
   "source": [
    "def sample(prime_str='S', predict_len=seq_length, temperature=1):\n",
    "    hidden = decoder.init_hidden(1)\n",
    "    prime_input = string_to_tensor(prime_str)\n",
    "    predicted = prime_str\n",
    "\n",
    "    # Use priming string to \"build up\" hidden state\n",
    "    for p in range(len(prime_str) - 1):\n",
    "        _, hidden = decoder(prime_input[p], hidden)\n",
    "    inp = prime_input[-1]\n",
    "    \n",
    "    for p in range(predict_len):\n",
    "        output, hidden = decoder(inp.view(1, -1), hidden)\n",
    "        \n",
    "        # Sample from the network as a multinomial distribution\n",
    "        output_dist = output.data.view(-1).div(temperature).exp()\n",
    "        top_i = torch.multinomial(output_dist, 1)[0]\n",
    "        \n",
    "        # Add predicted character to string and use as next input\n",
    "        predicted_char = int_to_character[top_i.item()]\n",
    "        predicted += predicted_char\n",
    "        inp = string_to_tensor(predicted_char)\n",
    "\n",
    "    return predicted\n",
    "\n",
    "\n",
    "def predict(seq, prime_str=\"S\"):\n",
    "    hidden = decoder.init_hidden(1)\n",
    "    prime_input = string_to_tensor(prime_str)\n",
    "    for p in range(len(prime_str) - 1):\n",
    "        _, hidden = decoder(prime_input[p], hidden)\n",
    "    inp = prime_input[-1]\n",
    "    \n",
    "    log_prob = 0\n",
    "    for char in seq:\n",
    "        output, hidden = decoder(inp.view(1, -1), hidden)\n",
    "        softmax = nn.Softmax(dim = 1)\n",
    "        probs = softmax(output).view(-1)\n",
    "        i = character_to_int[char]\n",
    "        log_prob += np.log(probs[i].item())\n",
    "    return log_prob\n",
    "\n"
   ]
  },
  {
   "cell_type": "code",
   "execution_count": 161,
   "metadata": {},
   "outputs": [],
   "source": [
    "def enumerate_all_sequences(string, base = \"S\", depth = 3): \n",
    "    if depth == 0: \n",
    "        return np.e ** predict(string, base)\n",
    "    total = 0\n",
    "    for c in all_characters: \n",
    "        total += enumerate_all_sequences(string + c, base, depth - 1)\n",
    "    return total\n",
    "\n",
    "for depth in range(1, 4):\n",
    "    for base in \"QRST\":\n",
    "        np.testing.assert_almost_equal(1, enumerate_all_sequences(\"\", base, depth))"
   ]
  },
  {
   "cell_type": "code",
   "execution_count": 184,
   "metadata": {
    "scrolled": false
   },
   "outputs": [
    {
     "name": "stdout",
     "output_type": "stream",
     "text": [
      "SKGEELFTGV SEGEKLFDGV GADKAM*HFM\n"
     ]
    },
    {
     "name": "stderr",
     "output_type": "stream",
     "text": [
      "/Users/chuck/Library/Python/3.6/lib/python/site-packages/ipykernel_launcher.py:33: UserWarning: invalid index of a 0-dim tensor. This will be an error in PyTorch 0.5. Use tensor.item() to convert a 0-dim tensor to a Python number\n"
     ]
    }
   ],
   "source": [
    "wild_type = get_wild_type_amino_acid_sequence()\n",
    "three_mutation = \"\".join([int_to_character[np.random.randint(0, num_characters)] if i % 3 == 1 else wild_type[i] for i in range(10)])\n",
    "ten_mutation = \"\".join([int_to_character[np.random.randint(0, num_characters)] for i in range(10)])\n",
    "print(wild_type[0:10], three_mutation, ten_mutation)\n",
    "\n",
    "trial_name = \"rnn_med_sample\"\n",
    "logger = open(\"./logs/{0}.txt\".format(trial_name), \"w\")\n",
    "if not os.path.isdir(\"./models/{0}\".format(trial_name)):\n",
    "    os.mkdir(\"./models/{0}\".format(trial_name))\n",
    "    \n",
    "n_epochs = 10\n",
    "hidden_size = 200\n",
    "n_layers = 2\n",
    "lr = 0.01\n",
    "\n",
    "decoder = GenerativeRNN(num_characters, hidden_size, num_characters, \"lstm\", n_layers)\n",
    "decoder_optimizer = torch.optim.Adam(decoder.parameters(), lr=lr)\n",
    "criterion = nn.CrossEntropyLoss()\n",
    "start_time = time.time()\n",
    "all_losses = []\n",
    "\n",
    "for epoch in range(1, n_epochs + 1):\n",
    "    total_loss = []\n",
    "    for i, (input, target) in enumerate(dataloader):\n",
    "        hidden = decoder.init_hidden(batch_size)\n",
    "        loss = 0\n",
    "        for c in range(seq_length - 1):\n",
    "            output, hidden = decoder(input[:, c], hidden)\n",
    "            loss += criterion(output.view(batch_size, -1), target[:, c])\n",
    "        loss.backward()\n",
    "        decoder_optimizer.step()\n",
    "        decoder.zero_grad()\n",
    "        total_loss.append(loss.data[0] / (seq_length - 1))\n",
    "    all_losses.append(np.mean(total_loss))\n",
    "    generated_sequence = sample(\"S\", seq_length)\n",
    "    mismatches = count_substring_mismatch(wild_type, generated_sequence)\n",
    "    wild_prob, three_mutations_prob, ten_mutations_prob = np.e ** predict(wild_type[1:10]), np.e ** predict(three_mutation[1:10]), np.e ** predict(ten_mutation[1:10])\n",
    "    print(\"epoch {0}. loss: {1:.2f}. time: {2:.2f} seconds.\".format(epoch, all_losses[-1], time.time() - start_time), file = logger)\n",
    "    print(\"generated sequence: {0}\\n{1} mismatches from the wild type\".format(generated_sequence, mismatches), file = logger) \n",
    "    print(\"wild type probability: {0}. 3 mutations probability: {1}. 10 mutations probability: {2}.\\n\" \\\n",
    "          .format(wild_prob, three_mutations_prob, ten_mutations_prob), file = logger)\n",
    "    torch.save({\n",
    "                'epoch': epoch,\n",
    "                'model_state_dict': decoder.state_dict(),\n",
    "                'optimizer_state_dict': decoder_optimizer.state_dict(),\n",
    "                'loss': np.mean(total_loss)\n",
    "            }, \"./models/{0}/checkpoint_{1}.pt\".format(trial_name, epoch))\n",
    "logger.close()"
   ]
  },
  {
   "cell_type": "markdown",
   "metadata": {},
   "source": [
    "# Plotting the Training Losses\n",
    "\n",
    "Plotting the historical loss from all_losses shows the network learning:"
   ]
  },
  {
   "cell_type": "code",
   "execution_count": 8,
   "metadata": {},
   "outputs": [
    {
     "data": {
      "text/plain": [
       "[<matplotlib.lines.Line2D at 0x10d0a1860>]"
      ]
     },
     "execution_count": 8,
     "metadata": {},
     "output_type": "execute_result"
    },
    {
     "data": {
      "image/png": "[encoded data removed]",
      "text/plain": [
       "<Figure size 432x288 with 1 Axes>"
      ]
     },
     "metadata": {},
     "output_type": "display_data"
    }
   ],
   "source": [
    "import matplotlib.pyplot as plt\n",
    "import matplotlib.ticker as ticker\n",
    "%matplotlib inline\n",
    "\n",
    "plt.figure()\n",
    "plt.plot(all_losses)"
   ]
  },
  {
   "cell_type": "code",
   "execution_count": 163,
   "metadata": {},
   "outputs": [
    {
     "name": "stdout",
     "output_type": "stream",
     "text": [
      "generated sequence: SKGEELFTGVVPILVELDGDVNGHKFSVSGEGEGDATYGKLTLKFICTTGKLPVPWPTLVTTLSYGVQCFSRYPDHMKQHDFFKSAMPEGYVQERTIFFKDDGNHKTRAEVKFEGGTLVNRIELKGIDFKEDGNIQGHKLEYNYNSHNVYIMADKQKNGIKVNFKIRHNIEDGSVQLADHYQQNTPIGDGPVLLPDNHYLSTQSALSKDPNEKRDHMVLLEFVTAAGITHGMDELYK** with 4 mismatches from the wild type\n"
     ]
    }
   ],
   "source": [
    "generated_sequence = sample(\"S\", seq_length, 0.8)\n",
    "print(\"generated sequence: {0} with {1} mismatches from the wild type\".format(generated_sequence, \n",
    "                                                                                 count_substring_mismatch(wild_type, generated_sequence)))      "
   ]
  },
  {
   "cell_type": "code",
   "execution_count": 164,
   "metadata": {},
   "outputs": [
    {
     "name": "stdout",
     "output_type": "stream",
     "text": [
      "generated sequence: SKGEELFTGVVPILVELDGDVNGHKFSVSGEGEGDATYGKLTLKFICTTGKLPVPWPTLVTTLSYGVQCFSRYPDHMKQHDFFKSAMPEGYVQERTIFFKDDGNYKTRAEVKFEGDTLVNRIELKGIDFKEDGNILGHKLEYNYNSHNVYIMADKQKNGIKVNFKIRHNIEDGSVQLADHYQQNTPIGDGPVLLPDNHYLSTQSALSKDPNEKRDHMVLLEFVTAAGITHGMDELYK** with 1 mismatches from the wild type\n"
     ]
    }
   ],
   "source": [
    "generated_sequence = sample(\"S\", seq_length, 0.1)\n",
    "print(\"generated sequence: {0} with {1} mismatches from the wild type\".format(generated_sequence, \n",
    "                                                                                 count_substring_mismatch(wild_type, generated_sequence)))      "
   ]
  },
  {
   "cell_type": "code",
   "execution_count": 165,
   "metadata": {},
   "outputs": [
    {
     "name": "stdout",
     "output_type": "stream",
     "text": [
      "generated sequence: SKGEELFTGVVPILVPDFGKTLKNIGLKGILEFTTGAGKLVPWPTLVTTLSYGVQCLSRYPDHMKQHDFFKSAMPEGYVQERTIFFKDDGNYKTRAEVKFEGDTLVNRIELKGIDFKEDGNILGHKLEYQDYNDHNVFVNILDHKQNIGGVKLELDGHNVYIMADKQKNGIKVNFKIRHNIEDGDVNRITLK*KDIEGNHMLKGIDFKEDGNILGHWLEYNYSYNVYIMAREQSHDGVQ with 209 mismatches from the wild type\n"
     ]
    }
   ],
   "source": [
    "generated_sequence = sample(\"S\", seq_length, 1.4)\n",
    "print(\"generated sequence: {0} with {1} mismatches from the wild type\".format(generated_sequence, \n",
    "                                                                                 count_substring_mismatch(wild_type, generated_sequence)))"
   ]
  },
  {
   "cell_type": "code",
   "execution_count": 60,
   "metadata": {},
   "outputs": [
    {
     "name": "stderr",
     "output_type": "stream",
     "text": [
      "/Users/chuck/Library/Python/3.6/lib/python/site-packages/ipykernel_launcher.py:29: UserWarning: invalid index of a 0-dim tensor. This will be an error in PyTorch 0.5. Use tensor.item() to convert a 0-dim tensor to a Python number\n"
     ]
    }
   ],
   "source": [
    "wild_type = get_wild_type_amino_acid_sequence()\n",
    "n_epochs = 10\n",
    "hidden_size = 100\n",
    "n_layers = 1\n",
    "lr = 0.005\n",
    "\n",
    "trial_name = \"rnn_small_sample\"\n",
    "logger = open(\"./logs/{0}.txt\".format(trial_name), \"a\")\n",
    "if not os.path.isdir(\"./models/{0}\".format(trial_name)):\n",
    "    os.mkdir(\"./models/{0}\".format(trial_name))\n",
    "    \n",
    "decoder = GenerativeRNN(num_characters, hidden_size, num_characters, \"lstm\", n_layers)\n",
    "decoder_optimizer = torch.optim.Adam(decoder.parameters(), lr=lr)\n",
    "criterion = nn.CrossEntropyLoss()\n",
    "start_time = time.time()\n",
    "all_losses = []\n",
    "\n",
    "for epoch in range(1, n_epochs + 1):\n",
    "    total_loss = []\n",
    "    for i, (input, target) in enumerate(dataloader):\n",
    "        hidden = decoder.init_hidden(batch_size)\n",
    "        loss = 0\n",
    "        for c in range(seq_length - 1):\n",
    "            output, hidden = decoder(input[:, c], hidden)\n",
    "            loss += criterion(output.view(batch_size, -1), target[:, c])\n",
    "        loss.backward()\n",
    "        decoder_optimizer.step()\n",
    "        decoder.zero_grad()\n",
    "        total_loss.append(loss.data[0] / (seq_length - 1))\n",
    "    print(total_loss, file=logger)\n",
    "    all_losses.append(np.mean(total_loss))\n",
    "    print(\"epoch {0}. loss: {1:.2f}. time: {2:.2f} seconds.\".format(epoch, all_losses[-1], time.time() - start_time), file=logger)\n",
    "    generated_sequence = sample(\"S\", seq_length)\n",
    "    print(\"generated sequence: {0}\\n{1} mismatches from the wild type\".format(generated_sequence, \n",
    "                                                                        count_substring_mismatch(wild_type, generated_sequence)), file=logger)\n",
    "    torch.save({\n",
    "            'epoch': epoch,\n",
    "            'model_state_dict': decoder.state_dict(),\n",
    "            'optimizer_state_dict': decoder_optimizer.state_dict(),\n",
    "            'loss': np.mean(total_loss)\n",
    "        }, \"./models/{0}/checkpoint_{1}.pt\".format(trial_name, epoch))\n",
    "    \n",
    "logger.close()"
   ]
  },
  {
   "cell_type": "code",
   "execution_count": 30,
   "metadata": {},
   "outputs": [],
   "source": [
    "\"\"\"\n",
    "1. print to file the epoch the time it took and the loss, print out a generated sample and the mismatches (DONE)\n",
    "2. plot history (DONE)\n",
    "3. save model every epoch, load model at end, plot model architecture (DONE)\n",
    "4. tensorboard going (DONE)\n",
    "5. code it into class (DONE)\n",
    "6. DEBUG 10 (DONE)\n",
    "7. Write tests 10 min \n",
    "\"\"\""
   ]
  },
  {
   "cell_type": "code",
   "execution_count": 70,
   "metadata": {},
   "outputs": [
    {
     "data": {
      "text/plain": [
       "GenerativeRNN(\n",
       "  (encoder): Embedding(21, 100)\n",
       "  (rnn): LSTM(100, 100)\n",
       "  (decoder): Linear(in_features=100, out_features=21, bias=True)\n",
       ")"
      ]
     },
     "execution_count": 70,
     "metadata": {},
     "output_type": "execute_result"
    }
   ],
   "source": [
    "def load_model(trial_name, epoch):\n",
    "    checkpoint = torch.load(\"./models/{0}/checkpoint_{1}.pt\".format(trial_name, epoch))\n",
    "    decoder = GenerativeRNN(num_characters, hidden_size, num_characters, \"lstm\", n_layers)\n",
    "    decoder_optimizer = torch.optim.Adam(decoder.parameters(), lr=lr)\n",
    "    decoder.load_state_dict(checkpoint[\"model_state_dict\"])\n",
    "    decoder_optimizer.load_state_dict(checkpoint[\"optimizer_state_dict\"])\n",
    "    return decoder, decoder_optimizer\n",
    "\n",
    "decoder, decoder_optimizer = load_model(trial_name, 5)"
   ]
  },
  {
   "cell_type": "code",
   "execution_count": 108,
   "metadata": {},
   "outputs": [],
   "source": [
    "def plot_model(save_dir, verbose=True):\n",
    "    hidden = decoder.init_hidden(1)\n",
    "    out, _ = decoder(string_to_tensor(\"S\"), hidden)\n",
    "    graph = make_dot(out)\n",
    "    if save_dir is not None:\n",
    "        graph.format = \"png\"\n",
    "        graph.render(save_dir) \n",
    "    if verbose:\n",
    "        graph.view()\n",
    "        \n",
    "plot_model(\"./logs/{0}\".format(trial_name))\n"
   ]
  },
  {
   "cell_type": "code",
   "execution_count": 29,
   "metadata": {},
   "outputs": [
    {
     "data": {
      "image/png": "[encoded data removed]",
      "text/plain": [
       "<Figure size 432x288 with 1 Axes>"
      ]
     },
     "metadata": {},
     "output_type": "display_data"
    }
   ],
   "source": [
    "import matplotlib.pyplot as plt\n",
    "import matplotlib.ticker as ticker\n",
    "%matplotlib inline\n",
    "\n",
    "plt.figure()\n",
    "plt.title(\"Loss Training Curve\")\n",
    "plt.plot(all_losses)\n",
    "plt.xlabel(\"epochs\")\n",
    "plt.ylabel(\"Loss\")\n",
    "plt.xticks(range(10))\n",
    "plt.show()"
   ]
  }
 ],
 "metadata": {
  "anaconda-cloud": {},
  "kernelspec": {
   "display_name": "Python 3",
   "language": "python",
   "name": "python3"
  },
  "language_info": {
   "codemirror_mode": {
    "name": "ipython",
    "version": 3
   },
   "file_extension": ".py",
   "mimetype": "text/x-python",
   "name": "python",
   "nbconvert_exporter": "python",
   "pygments_lexer": "ipython3",
   "version": "3.6.8"
  }
 },
 "nbformat": 4,
 "nbformat_minor": 1
}
