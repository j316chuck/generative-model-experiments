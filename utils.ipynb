{
 "cells": [
  {
   "cell_type": "code",
   "execution_count": 15,
   "metadata": {},
   "outputs": [],
   "source": [
    "import pandas as pd\n",
    "import numpy as np"
   ]
  },
  {
   "cell_type": "code",
   "execution_count": 77,
   "metadata": {},
   "outputs": [],
   "source": [
    "def one_hot_encode(X):\n",
    "    \"\"\"\n",
    "    Input: X is a list of DNA Sequences represented by the base pairs ACTG. \n",
    "        All DNA Sequences must be the same length\n",
    "    Output: one hot encoded list of dna sequences\n",
    "    Example: one_hot_encode([\"ACT\", \"ACG\"]) = [[1, 0, 0, 0, 0, 1, 0, 0, 0, 0, 1, 0], \n",
    "                                                    [1, 0, 0, 0, 0, 1, 0, 0, 0, 0, 0, 1]]\n",
    "    \"\"\"\n",
    "    assert(len(X) > 0)\n",
    "    assert(all([len(X[0]) == len(X[i]) for i in range(len(X))]))\n",
    "    alphabet = [\"A\", \"C\", \"T\", \"G\"]\n",
    "    alphabet_size = len(alphabet)\n",
    "    alphabet_dict = dict(zip(alphabet, range(alphabet_size)))\n",
    "    one_hot_matrix = np.zeros((len(X), alphabet_size * len(X[0]))) \n",
    "    for i, dna_sequence in enumerate(X):\n",
    "        for j, base_pair in enumerate(dna_sequence):\n",
    "            index = alphabet_dict[base_pair]\n",
    "            one_hot_matrix[i, alphabet_size * j + index] = 1.0\n",
    "    return one_hot_matrix\n",
    "\n",
    "def one_hot_decode(X): \n",
    "    \"\"\"\n",
    "    Input: X is a one hot encoded list of DNA Sequences represented by the base pairs ACTG. \n",
    "        All DNA Sequences must be the same length\n",
    "    Output: list of dna sequences\n",
    "    Example: one_hot_decode([[1, 0, 0, 0, 0, 1, 0, 0, 0, 0, 1, 0], \n",
    "                            [1, 0, 0, 0, 0, 1, 0, 0, 0, 0, 0, 1]]) = [\"ACT\", \"ACG\"]\n",
    "    \"\"\"\n",
    "    assert(len(X) > 0)\n",
    "    assert(all([len(X[0]) == len(X[i]) for i in range(len(X))]))\n",
    "    alphabet = [\"A\", \"C\", \"T\", \"G\"]\n",
    "    alphabet_size = len(alphabet)\n",
    "    dna_sequences = []\n",
    "    for i, one_hot_sequence in enumerate(X): \n",
    "        dna_sequence = []\n",
    "        for j in range(0, len(one_hot_sequence), 4): \n",
    "            if one_hot_sequence[j]:\n",
    "                dna_sequence.append(\"A\")\n",
    "            elif one_hot_sequence[j + 1]: \n",
    "                dna_sequence.append(\"C\")\n",
    "            elif one_hot_sequence[j + 2]: \n",
    "                dna_sequence.append(\"T\")\n",
    "            elif one_hot_sequence[j + 3]: \n",
    "                dna_sequence.append(\"G\")\n",
    "        dna_sequences.append(\"\".join(dna_sequence))\n",
    "    return np.array(dna_sequences)\n",
    "\n",
    "def train_test_split(X, train_test_ratio = 0.8, shuffle = False): \n",
    "    \"\"\" splits data into train and test groups \"\"\"\n",
    "    assert(len(X) > 0 and 0 <= train_test_ratio and train_test_ratio <= 1)\n",
    "    if shuffle: \n",
    "        np.random.shuffle(X)\n",
    "    train_size = int(len(X) * 0.8)\n",
    "    return X[0:train_size, :], X[train_size:, :]\n",
    "    \n",
    "    \n",
    "    \n",
    "def load_gfp_data(gfp_data_path = \"./data/gfp_data.csv\", train_test_ratio = 0.8, shuffle = False):\n",
    "    \"\"\" one hot encodes gfp data into train and test set\"\"\"\n",
    "    df = pd.read_csv(gfp_data_path, index_col = 0)\n",
    "    one_hot_matrix = one_hot_encode(df[\"nucSequence\"].values)  \n",
    "    return train_test_split(one_hot_matrix, \n",
    "                            train_test_ratio = train_test_ratio, \n",
    "                            shuffle = shuffle)"
   ]
  }
 ],
 "metadata": {
  "kernelspec": {
   "display_name": "Python 3",
   "language": "python",
   "name": "python3"
  },
  "language_info": {
   "codemirror_mode": {
    "name": "ipython",
    "version": 3
   },
   "file_extension": ".py",
   "mimetype": "text/x-python",
   "name": "python",
   "nbconvert_exporter": "python",
   "pygments_lexer": "ipython3",
   "version": "3.6.8"
  }
 },
 "nbformat": 4,
 "nbformat_minor": 2
}
