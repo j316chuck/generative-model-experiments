{
 "cells": [
  {
   "cell_type": "code",
   "execution_count": 50,
   "metadata": {},
   "outputs": [],
   "source": [
    "import warnings\n",
    "warnings.filterwarnings(\"ignore\")\n",
    "import matplotlib.pyplot as plt\n",
    "from keras.models import load_model\n",
    "import numpy as np\n",
    "import itertools\n",
    "from mixture_model import CategoricalMixture\n",
    "from util import build_vae\n",
    "\n",
    "import numpy as np\n",
    "import matplotlib.pyplot as plt\n",
    "import matplotlib as mpl\n",
    "plt.rcParams['legend.fontsize'] = 'large'\n",
    "# plt.rcParams['figure.dpi'] = 300\n",
    "plt.rcParams[\"font.family\"] = \"serif\"\n",
    "cm = plt.get_cmap('viridis_r')\n",
    "plt.style.use('seaborn-paper')"
   ]
  },
  {
   "cell_type": "code",
   "execution_count": 18,
   "metadata": {},
   "outputs": [],
   "source": [
    "def get_all_sequences(length, arr=False):\n",
    "    N = 4**length\n",
    "    if arr:\n",
    "        base = [np.array([[1, 0, 0, 0]]), np.array([[0, 1, 0, 0]]), \n",
    "                np.array([[0, 0, 1, 0]]), np.array([[0, 0, 0, 1]])]\n",
    "    else:\n",
    "        base = 'ATCG'\n",
    "    seq_lists = list(itertools.product(base, repeat=length))\n",
    "    if arr:\n",
    "        all_seq = np.zeros((N, length, 4))\n",
    "    else:\n",
    "        all_seq = [\"A\" * length] * N\n",
    "    \n",
    "    for i in range(N):\n",
    "        if i % int(10**6) == 0 and i > 0:\n",
    "            print(\"Sequences constructed: %i / %i\" % (i, N))\n",
    "        if arr:\n",
    "            all_seq[i] = np.concatenate(seq_lists[i], axis=0)\n",
    "        else:\n",
    "            all_seq[i] = \"\".join(seq_lists[i])\n",
    "    return all_seq"
   ]
  },
  {
   "cell_type": "code",
   "execution_count": 25,
   "metadata": {},
   "outputs": [],
   "source": [
    "oracle = load_model(\"models/random_dna_oracle_10.h5\")\n",
    "oracle.compile('sgd', loss='mean_squared_error')\n",
    "oracle_noise = 0.01"
   ]
  },
  {
   "cell_type": "code",
   "execution_count": 20,
   "metadata": {},
   "outputs": [
    {
     "name": "stdout",
     "output_type": "stream",
     "text": [
      "Sequences constructed: 1000000 / 1048576\n"
     ]
    }
   ],
   "source": [
    "X_all = get_all_sequences(10, arr=True)\n",
    "y_all = oracle.predict(X_all, batch_size=10000, verbose=1)[:, 0]"
   ]
  },
  {
   "cell_type": "code",
   "execution_count": 28,
   "metadata": {},
   "outputs": [],
   "source": []
  },
  {
   "cell_type": "code",
   "execution_count": 48,
   "metadata": {},
   "outputs": [],
   "source": [
    "target = np.percentile(y_all, 90)\n",
    "training_min, training_max = np.percentile(y_all, 40), np.percentile(y_all, 50)"
   ]
  },
  {
   "cell_type": "code",
   "execution_count": 66,
   "metadata": {},
   "outputs": [
    {
     "data": {
      "image/png": "[encoded data removed]",
      "text/plain": [
       "<Figure size 900x600 with 1 Axes>"
      ]
     },
     "metadata": {
      "needs_background": "light"
     },
     "output_type": "display_data"
    }
   ],
   "source": [
    "fig=plt.figure(figsize=(3, 2))\n",
    "plt.hist(y_all, bins=100, density=True)\n",
    "plt.axvline(target, c='k', ls='--')\n",
    "plt.axvline(training_min, c='r', ls='--')\n",
    "plt.axvline(training_max, c='r', ls='--')\n",
    "plt.show()"
   ]
  },
  {
   "cell_type": "code",
   "execution_count": 67,
   "metadata": {},
   "outputs": [],
   "source": [
    "np.random.seed(1)\n",
    "poss_training_idxs = np.where(np.logical_and(np.greater_equal(y_all, training_min), np.less_equal(y_all, training_max)))[0]\n",
    "n_train = 10000\n"
   ]
  },
  {
   "cell_type": "code",
   "execution_count": null,
   "metadata": {},
   "outputs": [],
   "source": []
  }
 ],
 "metadata": {
  "kernelspec": {
   "display_name": "Python 3",
   "language": "python",
   "name": "python3"
  },
  "language_info": {
   "codemirror_mode": {
    "name": "ipython",
    "version": 3
   },
   "file_extension": ".py",
   "mimetype": "text/x-python",
   "name": "python",
   "nbconvert_exporter": "python",
   "pygments_lexer": "ipython3",
   "version": "3.6.8"
  }
 },
 "nbformat": 4,
 "nbformat_minor": 2
}
