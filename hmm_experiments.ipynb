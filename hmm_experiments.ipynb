{
 "cells": [
  {
   "cell_type": "code",
   "execution_count": 126,
   "metadata": {},
   "outputs": [
    {
     "name": "stdout",
     "output_type": "stream",
     "text": [
      "The autoreload extension is already loaded. To reload it, use:\n",
      "  %reload_ext autoreload\n"
     ]
    }
   ],
   "source": [
    "import pandas as pd\n",
    "import numpy as np\n",
    "import time \n",
    "import pixiedust\n",
    "import sys\n",
    "\n",
    "from pomegranate import State, DiscreteDistribution, HiddenMarkovModel\n",
    "from sklearn.model_selection import train_test_split\n",
    "from utils import load_gfp_data, count_substring_mismatch, get_all_amino_acids, get_wild_type_amino_acid_sequence\n",
    "from hmm import GenerativeHMM, hmm_amino_acid_args\n",
    "%load_ext autoreload\n",
    "%autoreload 2"
   ]
  },
  {
   "cell_type": "code",
   "execution_count": 127,
   "metadata": {},
   "outputs": [
    {
     "name": "stdout",
     "output_type": "stream",
     "text": [
      "Loading data...\n",
      "Finished loading data in 0.06 seconds\n"
     ]
    }
   ],
   "source": [
    "print(\"Loading data...\")\n",
    "start_time = time.time()\n",
    "X_train, X_test, y_train, y_test = load_gfp_data(\"./data/gfp_amino_acid_\")\n",
    "print(\"Finished loading data in {0:.2f} seconds\".format(time.time() - start_time))"
   ]
  },
  {
   "cell_type": "code",
   "execution_count": 128,
   "metadata": {},
   "outputs": [],
   "source": [
    "wild_type_amino_acid = get_wild_type_amino_acid_sequence()\n",
    "assert(X_train[0] == wild_type_amino_acid)\n",
    "assert(count_substring_mismatch(wild_type_amino_acid, X_train[1000]) == 8)"
   ]
  },
  {
   "cell_type": "code",
   "execution_count": 129,
   "metadata": {},
   "outputs": [],
   "source": [
    "def get_data(X_train, length, n = 100, random=True): \n",
    "    if not random: \n",
    "        data = X_train[0:length]\n",
    "    else: \n",
    "        indexes = np.random.choice(len(X_train), n)\n",
    "        data = X_train[indexes]\n",
    "    return np.array([list(x)[0:length] for x in data])\n",
    "\n",
    "def sample_and_score(hmm, wild_type, n = 100, length = 100, logger = None):\n",
    "    \"\"\"\n",
    "    use the hmm model to sample n sequences of size = length. \n",
    "    then use the wild_type to count how far off the average sample is from the wild_type\n",
    "    \"\"\"\n",
    "    assert(len(wild_type) == length)\n",
    "    samples = hmm.sample(n, length)        \n",
    "    average_diff = np.average([count_substring_mismatch(seq, wild_type) for seq in samples])\n",
    "    print(\"Average difference: {0:.2f}, or {1:.2f} mismatches per letter\".format(average_diff, \n",
    "                                                                 average_diff / length), file = logger)\n",
    "    print(\"Example sequence {0}\".format(samples[np.random.randint(0, n)]), file = logger)\n",
    "    return average_diff\n",
    "\n",
    "small_length, medium_length, large_length = 15, len(wild_type_amino_acid) // 4, len(wild_type_amino_acid)\n",
    "small_X = get_data(X_train, small_length, 100)\n",
    "medium_X = get_data(X_train, medium_length, 100)\n",
    "large_X = get_data(X_train, large_length, 100)"
   ]
  },
  {
   "cell_type": "code",
   "execution_count": 130,
   "metadata": {},
   "outputs": [
    {
     "name": "stdout",
     "output_type": "stream",
     "text": [
      "Small diffs: [1, 0, 0, 0, 0, 0, 0, 0, 0, 0, 0, 0, 0, 0, 0, 0, 0, 0, 0, 0, 0, 0, 0, 0, 1, 0, 0, 0, 0, 0, 0, 1, 0, 0, 0, 0, 0, 0, 0, 0, 0, 0, 0, 0, 1, 0, 1, 1, 0, 0, 0, 0, 0, 0, 0, 0, 0, 0, 0, 1, 1, 0, 0, 0, 0, 0, 1, 0, 0, 2, 0, 0, 0, 0, 0, 0, 0, 1, 0, 0, 0, 1, 0, 0, 1, 0, 0, 0, 0, 0, 0, 1, 0, 2, 0, 0, 0, 0, 0, 0]\n",
      "Medium diffs: [2, 0, 0, 0, 3, 2, 1, 0, 1, 2, 1, 0, 0, 1, 0, 0, 1, 1, 1, 1, 1, 0, 0, 0, 1, 1, 2, 0, 1, 1, 0, 0, 0, 1, 0, 0, 0, 0, 2, 1, 1, 0, 0, 1, 2, 0, 1, 1, 1, 0, 2, 1, 3, 0, 0, 0, 0, 1, 0, 3, 1, 0, 2, 0, 2, 3, 1, 1, 2, 1, 1, 1, 1, 1, 1, 1, 0, 0, 1, 1, 0, 0, 0, 1, 1, 0, 1, 0, 0, 0, 0, 2, 3, 2, 0, 1, 0, 1, 1, 4]\n",
      "Large diffs: [5, 2, 3, 3, 2, 1, 2, 4, 2, 3, 1, 3, 4, 3, 6, 4, 3, 1, 6, 2, 5, 2, 0, 1, 3, 2, 7, 2, 5, 6, 3, 1, 2, 3, 0, 7, 1, 3, 2, 5, 3, 2, 8, 2, 5, 2, 5, 2, 3, 5, 3, 2, 3, 8, 4, 8, 7, 3, 2, 4, 4, 3, 2, 7, 4, 5, 8, 2, 4, 1, 5, 3, 5, 2, 2, 5, 5, 4, 2, 3, 3, 2, 1, 0, 8, 3, 7, 3, 2, 8, 3, 1, 6, 6, 6, 2, 6, 3, 10, 3]\n"
     ]
    }
   ],
   "source": [
    "diffs = [count_substring_mismatch(i, wild_type_amino_acid[0:small_length]) for i in small_X]\n",
    "print(\"Small diffs:\", diffs)\n",
    "diffs = [count_substring_mismatch(i, wild_type_amino_acid[0:medium_length]) for i in medium_X]\n",
    "print(\"Medium diffs:\", diffs)\n",
    "diffs = [count_substring_mismatch(i, wild_type_amino_acid[0:large_length]) for i in large_X]\n",
    "print(\"Large diffs:\", diffs)"
   ]
  },
  {
   "cell_type": "code",
   "execution_count": 131,
   "metadata": {},
   "outputs": [],
   "source": [
    "def get_data(X_train, length, n = 100, random = True): \n",
    "    \"\"\"\n",
    "    gets n random sequences of size length from the dataset X_train\n",
    "    \"\"\"\n",
    "    if not random: \n",
    "        data = X_train[0:length]\n",
    "    else: \n",
    "        indexes = np.random.choice(len(X_train), n)\n",
    "        data = X_train[indexes]\n",
    "    return np.array([list(x[0:length]) for x in data])\n",
    "\n",
    "def sample_and_score(hmm, base_str, n = 100, length = 100, logger = None):\n",
    "    \"\"\"\n",
    "    use the hmm model to sample n sequences of size = length. \n",
    "    then use the wild_type to count how far off the average sample is from the wild_type\n",
    "    prints all results in the logger file\n",
    "    \"\"\"\n",
    "    assert(len(base_str) == length)\n",
    "    samples = hmm.sample(n, length)        \n",
    "    average_diff = np.mean([count_substring_mismatch(seq, base_str) for seq in samples])\n",
    "    print(\"Average difference: {0:.2f}, or {1:.2f} mismatches per letter\".format(average_diff, \n",
    "                                                                 average_diff / length), file = logger)\n",
    "    print(\"Example sequence {0}\".format(samples[np.random.randint(0, n)]), file = logger)\n",
    "    return average_diff\n",
    "\n",
    "def train_and_save_hmm(X, args):\n",
    "    start_time = time.time()\n",
    "    hmm = GenerativeHMM(args)\n",
    "    logger = None\n",
    "    hmm.fit(X)\n",
    "    print(\"Finished training in {:.2f} seconds\".format(time.time() - start_time), file = logger)\n",
    "    print(\"HMM Parameters:\", file = logger)\n",
    "    print(hmm.get_args(), file = logger)\n",
    "    sample_and_score(hmm, wild_type_amino_acid[0:args[\"length\"]], 100, args[\"length\"], logger = logger)\n",
    "    wild_type_prob = np.e ** hmm.predict([list(wild_type_amino_acid[0:args[\"length\"]])])\n",
    "    mutation_prob = np.e ** hmm.predict([list(wild_type_amino_acid[0:args[\"length\"] - 3] + \"ACG\")])\n",
    "    print(\"Wild type prob: {0}. Mutation prob: {1}\".format(wild_type_prob, mutation_prob), file = logger)\n",
    "    model_path = \"./models/{0}.json\".format(hmm.name)\n",
    "    hmm.save_model(model_path)\n",
    "    cached_hmm = GenerativeHMM(args)\n",
    "    cached_hmm.load_model(model_path)\n",
    "    try: \n",
    "        for i in get_all_amino_acids():\n",
    "            for j in get_all_amino_acids(): \n",
    "                np.testing.assert_almost_equal(hmm.predict([list(i + j)]), cached_hmm.predict([list(i + j)]))\n",
    "        print(\"Successfully finished training and saving {0} model!\".format(hmm.name), file = logger)\n",
    "        if logger: logger.close()\n",
    "    except:\n",
    "        for i in get_all_amino_acids():\n",
    "            for j in get_all_amino_acids(): \n",
    "                print(hmm.predict([list(i + j)]), cached_hmm.predict([list(i + j)]), file = logger)\n",
    "        print(\"Error in loading {0} hmm\".format(hmm.name), file = logger)\n",
    "        if logger: logger.close()\n",
    "\n",
    "def get_args(parser_args):\n",
    "    args = hmm_amino_acid_args()\n",
    "    args[\"n_jobs\"] = parser_args.n_jobs\n",
    "    args[\"hidden_size\"] = parser_args.hidden_size\n",
    "    args[\"max_iterations\"] = parser_args.max_iterations\n",
    "    args[\"name\"] = parser_args.name\n",
    "    args[\"length\"] = parser_args.length\n",
    "    return args\n",
    "\n",
    "def get_base_args():\n",
    "    base_args = hmm_amino_acid_args()\n",
    "    base_args[\"name\"] = \"hmm_base\"\n",
    "    base_args[\"max_iterations\"] = 100\n",
    "    base_args[\"hidden_size\"] = 20\n",
    "    base_args[\"n_jobs\"] = 10\n",
    "    base_args[\"epochs\"] = 100\n",
    "    base_args[\"pseudo_count\"] = 1\n",
    "    base_args[\"length\"] = 59\n",
    "    base_args[\"vocabulary\"] = get_all_amino_acids()\n",
    "    return base_args"
   ]
  },
  {
   "cell_type": "code",
   "execution_count": 132,
   "metadata": {},
   "outputs": [
    {
     "ename": "AttributeError",
     "evalue": "'GenerativeHMM' object has no attribute 'pseudocount'",
     "output_type": "error",
     "traceback": [
      "\u001b[0;31m---------------------------------------------------------------------------\u001b[0m",
      "\u001b[0;31mAttributeError\u001b[0m                            Traceback (most recent call last)",
      "\u001b[0;32m<ipython-input-132-4e70e7e23d17>\u001b[0m in \u001b[0;36m<module>\u001b[0;34m()\u001b[0m\n\u001b[0;32m----> 1\u001b[0;31m \u001b[0mtrain_and_save_hmm\u001b[0m\u001b[0;34m(\u001b[0m\u001b[0msmall_X\u001b[0m\u001b[0;34m,\u001b[0m \u001b[0mget_base_args\u001b[0m\u001b[0;34m(\u001b[0m\u001b[0;34m)\u001b[0m\u001b[0;34m)\u001b[0m\u001b[0;34m\u001b[0m\u001b[0;34m\u001b[0m\u001b[0m\n\u001b[0m",
      "\u001b[0;32m<ipython-input-131-629cc80fc51d>\u001b[0m in \u001b[0;36mtrain_and_save_hmm\u001b[0;34m(X, args)\u001b[0m\n\u001b[1;32m     28\u001b[0m     \u001b[0mhmm\u001b[0m \u001b[0;34m=\u001b[0m \u001b[0mGenerativeHMM\u001b[0m\u001b[0;34m(\u001b[0m\u001b[0margs\u001b[0m\u001b[0;34m)\u001b[0m\u001b[0;34m\u001b[0m\u001b[0;34m\u001b[0m\u001b[0m\n\u001b[1;32m     29\u001b[0m     \u001b[0mlogger\u001b[0m \u001b[0;34m=\u001b[0m \u001b[0;32mNone\u001b[0m\u001b[0;34m\u001b[0m\u001b[0;34m\u001b[0m\u001b[0m\n\u001b[0;32m---> 30\u001b[0;31m     \u001b[0mhmm\u001b[0m\u001b[0;34m.\u001b[0m\u001b[0mfit\u001b[0m\u001b[0;34m(\u001b[0m\u001b[0mX\u001b[0m\u001b[0;34m)\u001b[0m\u001b[0;34m\u001b[0m\u001b[0;34m\u001b[0m\u001b[0m\n\u001b[0m\u001b[1;32m     31\u001b[0m     \u001b[0mprint\u001b[0m\u001b[0;34m(\u001b[0m\u001b[0;34m\"Finished training in {:.2f} seconds\"\u001b[0m\u001b[0;34m.\u001b[0m\u001b[0mformat\u001b[0m\u001b[0;34m(\u001b[0m\u001b[0mtime\u001b[0m\u001b[0;34m.\u001b[0m\u001b[0mtime\u001b[0m\u001b[0;34m(\u001b[0m\u001b[0;34m)\u001b[0m \u001b[0;34m-\u001b[0m \u001b[0mstart_time\u001b[0m\u001b[0;34m)\u001b[0m\u001b[0;34m,\u001b[0m \u001b[0mfile\u001b[0m \u001b[0;34m=\u001b[0m \u001b[0mlogger\u001b[0m\u001b[0;34m)\u001b[0m\u001b[0;34m\u001b[0m\u001b[0;34m\u001b[0m\u001b[0m\n\u001b[1;32m     32\u001b[0m     \u001b[0mprint\u001b[0m\u001b[0;34m(\u001b[0m\u001b[0;34m\"HMM Parameters:\"\u001b[0m\u001b[0;34m,\u001b[0m \u001b[0mfile\u001b[0m \u001b[0;34m=\u001b[0m \u001b[0mlogger\u001b[0m\u001b[0;34m)\u001b[0m\u001b[0;34m\u001b[0m\u001b[0;34m\u001b[0m\u001b[0m\n",
      "\u001b[0;32m~/Desktop/generative-model-experiments/hmm.py\u001b[0m in \u001b[0;36mfit\u001b[0;34m(self, x_train, x_valid, verbose, logger, save_model_path, weights)\u001b[0m\n\u001b[1;32m     79\u001b[0m         \u001b[0mstart_time\u001b[0m \u001b[0;34m=\u001b[0m \u001b[0mtime\u001b[0m\u001b[0;34m.\u001b[0m\u001b[0mtime\u001b[0m\u001b[0;34m(\u001b[0m\u001b[0;34m)\u001b[0m\u001b[0;34m\u001b[0m\u001b[0;34m\u001b[0m\u001b[0m\n\u001b[1;32m     80\u001b[0m         \u001b[0;32mfor\u001b[0m \u001b[0mepoch\u001b[0m \u001b[0;32min\u001b[0m \u001b[0mrange\u001b[0m\u001b[0;34m(\u001b[0m\u001b[0;36m1\u001b[0m\u001b[0;34m,\u001b[0m \u001b[0mself\u001b[0m\u001b[0;34m.\u001b[0m\u001b[0mepochs\u001b[0m \u001b[0;34m+\u001b[0m \u001b[0;36m1\u001b[0m\u001b[0;34m)\u001b[0m\u001b[0;34m:\u001b[0m\u001b[0;34m\u001b[0m\u001b[0;34m\u001b[0m\u001b[0m\n\u001b[0;32m---> 81\u001b[0;31m             _, hist = self.model.fit(x_train, max_iterations=1, pseudocount=self.pseudocount,\n\u001b[0m\u001b[1;32m     82\u001b[0m                                      n_jobs=self.n_jobs, return_history=True)\n\u001b[1;32m     83\u001b[0m             \u001b[0mtrain_neg_log_prob\u001b[0m \u001b[0;34m=\u001b[0m \u001b[0mself\u001b[0m\u001b[0;34m.\u001b[0m\u001b[0mevaluate\u001b[0m\u001b[0;34m(\u001b[0m\u001b[0mx_train\u001b[0m\u001b[0;34m,\u001b[0m \u001b[0mneg_log_prob\u001b[0m\u001b[0;34m=\u001b[0m\u001b[0;32mTrue\u001b[0m\u001b[0;34m)\u001b[0m \u001b[0;34m/\u001b[0m \u001b[0mlen\u001b[0m\u001b[0;34m(\u001b[0m\u001b[0mx_train\u001b[0m\u001b[0;34m)\u001b[0m\u001b[0;34m\u001b[0m\u001b[0;34m\u001b[0m\u001b[0m\n",
      "\u001b[0;31mAttributeError\u001b[0m: 'GenerativeHMM' object has no attribute 'pseudocount'"
     ]
    }
   ],
   "source": [
    "train_and_save_hmm(small_X, get_base_args())"
   ]
  },
  {
   "cell_type": "code",
   "execution_count": 134,
   "metadata": {},
   "outputs": [
    {
     "name": "stdout",
     "output_type": "stream",
     "text": [
      "21 20\n",
      "Epoch 1. Improvement: 27554.374772003037, last log probability: -180638.91089909413. current neg log probability [-153084.5361270911]\n",
      "152.51405102369088\n",
      "152.43382920909707\n",
      "Epoch 2. Improvement: 834.4504665236745, last log probability: -152514.05102369076. current neg log probability [-151679.60055716708]\n",
      "150.21006389214267\n",
      "150.12102479889478\n",
      "Epoch 3. Improvement: 2475.421466125874, last log probability: -150210.0638921414. current neg log probability [-147734.64242601552]\n",
      "143.6503457398613\n",
      "143.5266000626552\n",
      "Epoch 4. Improvement: 6976.518032398832, last log probability: -143650.34573986137. current neg log probability [-136673.82770746254]\n",
      "126.31968784142974\n",
      "126.0810135275985\n",
      "Epoch 5. Improvement: 13496.936220349948, last log probability: -126319.68784143034. current neg log probability [-112822.75162108039]\n",
      "98.0275632508071\n",
      "97.62493345041918\n",
      "Epoch 6. Improvement: 10686.417211129243, last log probability: -98027.56325080719. current neg log probability [-87341.14603967794]\n",
      "80.60614823461398\n",
      "80.2394535728413\n",
      "Epoch 7. Improvement: 5648.644515307329, last log probability: -80606.14823461376. current neg log probability [-74957.50371930643]\n",
      "70.01356846735729\n",
      "69.82866257736443\n",
      "Epoch 8. Improvement: 2647.6019385708787, last log probability: -70013.56846735718. current neg log probability [-67365.9665287863]\n",
      "66.56295411313438\n",
      "66.41064083699303\n",
      "Epoch 9. Improvement: 253.19491547897633, last log probability: -66562.95411313407. current neg log probability [-66309.75919765509]\n",
      "66.1907212052022\n",
      "66.03721580109996\n"
     ]
    },
    {
     "ename": "KeyboardInterrupt",
     "evalue": "",
     "output_type": "error",
     "traceback": [
      "\u001b[0;31m---------------------------------------------------------------------------\u001b[0m",
      "\u001b[0;31mKeyboardInterrupt\u001b[0m                         Traceback (most recent call last)",
      "\u001b[0;32m<ipython-input-134-11f6eb83daf9>\u001b[0m in \u001b[0;36m<module>\u001b[0;34m()\u001b[0m\n\u001b[1;32m      7\u001b[0m \u001b[0;32mfor\u001b[0m \u001b[0mepoch\u001b[0m \u001b[0;32min\u001b[0m \u001b[0mrange\u001b[0m\u001b[0;34m(\u001b[0m\u001b[0;36m1\u001b[0m\u001b[0;34m,\u001b[0m \u001b[0;36m101\u001b[0m\u001b[0;34m)\u001b[0m\u001b[0;34m:\u001b[0m\u001b[0;34m\u001b[0m\u001b[0;34m\u001b[0m\u001b[0m\n\u001b[1;32m      8\u001b[0m     \u001b[0mtotal_train_loss\u001b[0m \u001b[0;34m=\u001b[0m \u001b[0;36m0\u001b[0m\u001b[0;34m\u001b[0m\u001b[0;34m\u001b[0m\u001b[0m\n\u001b[0;32m----> 9\u001b[0;31m     \u001b[0mimprovement\u001b[0m\u001b[0;34m,\u001b[0m \u001b[0mhist\u001b[0m \u001b[0;34m=\u001b[0m \u001b[0mhmm\u001b[0m\u001b[0;34m.\u001b[0m\u001b[0mmodel\u001b[0m\u001b[0;34m.\u001b[0m\u001b[0mfit\u001b[0m\u001b[0;34m(\u001b[0m\u001b[0mx_train\u001b[0m\u001b[0;34m,\u001b[0m \u001b[0mmax_iterations\u001b[0m\u001b[0;34m=\u001b[0m\u001b[0;36m1\u001b[0m\u001b[0;34m,\u001b[0m \u001b[0mpseudocount\u001b[0m\u001b[0;34m=\u001b[0m\u001b[0;36m1\u001b[0m\u001b[0;34m,\u001b[0m \u001b[0mn_jobs\u001b[0m\u001b[0;34m=\u001b[0m \u001b[0mhmm\u001b[0m\u001b[0;34m.\u001b[0m\u001b[0mn_jobs\u001b[0m\u001b[0;34m,\u001b[0m \u001b[0mreturn_history\u001b[0m\u001b[0;34m=\u001b[0m\u001b[0;32mTrue\u001b[0m\u001b[0;34m)\u001b[0m\u001b[0;34m\u001b[0m\u001b[0;34m\u001b[0m\u001b[0m\n\u001b[0m\u001b[1;32m     10\u001b[0m     print(\"Epoch {0}. Improvement: {1}, last log probability: {2}. current neg log probability {3}\".format(\n\u001b[1;32m     11\u001b[0m                         epoch, hist.total_improvement[0], hist.initial_log_probability, hist.log_probabilities))\n",
      "\u001b[0;32mpomegranate/hmm.pyx\u001b[0m in \u001b[0;36mpomegranate.hmm.HiddenMarkovModel.fit\u001b[0;34m()\u001b[0m\n",
      "\u001b[0;32mpomegranate/hmm.pyx\u001b[0m in \u001b[0;36mpomegranate.hmm.HiddenMarkovModel.fit\u001b[0;34m()\u001b[0m\n",
      "\u001b[0;32m/Library/Frameworks/Python.framework/Versions/3.6/lib/python3.6/site-packages/joblib/parallel.py\u001b[0m in \u001b[0;36m__call__\u001b[0;34m(self, iterable)\u001b[0m\n\u001b[1;32m    932\u001b[0m \u001b[0;34m\u001b[0m\u001b[0m\n\u001b[1;32m    933\u001b[0m             \u001b[0;32mwith\u001b[0m \u001b[0mself\u001b[0m\u001b[0;34m.\u001b[0m\u001b[0m_backend\u001b[0m\u001b[0;34m.\u001b[0m\u001b[0mretrieval_context\u001b[0m\u001b[0;34m(\u001b[0m\u001b[0;34m)\u001b[0m\u001b[0;34m:\u001b[0m\u001b[0;34m\u001b[0m\u001b[0;34m\u001b[0m\u001b[0m\n\u001b[0;32m--> 934\u001b[0;31m                 \u001b[0mself\u001b[0m\u001b[0;34m.\u001b[0m\u001b[0mretrieve\u001b[0m\u001b[0;34m(\u001b[0m\u001b[0;34m)\u001b[0m\u001b[0;34m\u001b[0m\u001b[0;34m\u001b[0m\u001b[0m\n\u001b[0m\u001b[1;32m    935\u001b[0m             \u001b[0;31m# Make sure that we get a last message telling us we are done\u001b[0m\u001b[0;34m\u001b[0m\u001b[0;34m\u001b[0m\u001b[0;34m\u001b[0m\u001b[0m\n\u001b[1;32m    936\u001b[0m             \u001b[0melapsed_time\u001b[0m \u001b[0;34m=\u001b[0m \u001b[0mtime\u001b[0m\u001b[0;34m.\u001b[0m\u001b[0mtime\u001b[0m\u001b[0;34m(\u001b[0m\u001b[0;34m)\u001b[0m \u001b[0;34m-\u001b[0m \u001b[0mself\u001b[0m\u001b[0;34m.\u001b[0m\u001b[0m_start_time\u001b[0m\u001b[0;34m\u001b[0m\u001b[0;34m\u001b[0m\u001b[0m\n",
      "\u001b[0;32m/Library/Frameworks/Python.framework/Versions/3.6/lib/python3.6/site-packages/joblib/parallel.py\u001b[0m in \u001b[0;36mretrieve\u001b[0;34m(self)\u001b[0m\n\u001b[1;32m    831\u001b[0m             \u001b[0;32mtry\u001b[0m\u001b[0;34m:\u001b[0m\u001b[0;34m\u001b[0m\u001b[0;34m\u001b[0m\u001b[0m\n\u001b[1;32m    832\u001b[0m                 \u001b[0;32mif\u001b[0m \u001b[0mgetattr\u001b[0m\u001b[0;34m(\u001b[0m\u001b[0mself\u001b[0m\u001b[0;34m.\u001b[0m\u001b[0m_backend\u001b[0m\u001b[0;34m,\u001b[0m \u001b[0;34m'supports_timeout'\u001b[0m\u001b[0;34m,\u001b[0m \u001b[0;32mFalse\u001b[0m\u001b[0;34m)\u001b[0m\u001b[0;34m:\u001b[0m\u001b[0;34m\u001b[0m\u001b[0;34m\u001b[0m\u001b[0m\n\u001b[0;32m--> 833\u001b[0;31m                     \u001b[0mself\u001b[0m\u001b[0;34m.\u001b[0m\u001b[0m_output\u001b[0m\u001b[0;34m.\u001b[0m\u001b[0mextend\u001b[0m\u001b[0;34m(\u001b[0m\u001b[0mjob\u001b[0m\u001b[0;34m.\u001b[0m\u001b[0mget\u001b[0m\u001b[0;34m(\u001b[0m\u001b[0mtimeout\u001b[0m\u001b[0;34m=\u001b[0m\u001b[0mself\u001b[0m\u001b[0;34m.\u001b[0m\u001b[0mtimeout\u001b[0m\u001b[0;34m)\u001b[0m\u001b[0;34m)\u001b[0m\u001b[0;34m\u001b[0m\u001b[0;34m\u001b[0m\u001b[0m\n\u001b[0m\u001b[1;32m    834\u001b[0m                 \u001b[0;32melse\u001b[0m\u001b[0;34m:\u001b[0m\u001b[0;34m\u001b[0m\u001b[0;34m\u001b[0m\u001b[0m\n\u001b[1;32m    835\u001b[0m                     \u001b[0mself\u001b[0m\u001b[0;34m.\u001b[0m\u001b[0m_output\u001b[0m\u001b[0;34m.\u001b[0m\u001b[0mextend\u001b[0m\u001b[0;34m(\u001b[0m\u001b[0mjob\u001b[0m\u001b[0;34m.\u001b[0m\u001b[0mget\u001b[0m\u001b[0;34m(\u001b[0m\u001b[0;34m)\u001b[0m\u001b[0;34m)\u001b[0m\u001b[0;34m\u001b[0m\u001b[0;34m\u001b[0m\u001b[0m\n",
      "\u001b[0;32m/Library/Frameworks/Python.framework/Versions/3.6/lib/python3.6/multiprocessing/pool.py\u001b[0m in \u001b[0;36mget\u001b[0;34m(self, timeout)\u001b[0m\n\u001b[1;32m    636\u001b[0m \u001b[0;34m\u001b[0m\u001b[0m\n\u001b[1;32m    637\u001b[0m     \u001b[0;32mdef\u001b[0m \u001b[0mget\u001b[0m\u001b[0;34m(\u001b[0m\u001b[0mself\u001b[0m\u001b[0;34m,\u001b[0m \u001b[0mtimeout\u001b[0m\u001b[0;34m=\u001b[0m\u001b[0;32mNone\u001b[0m\u001b[0;34m)\u001b[0m\u001b[0;34m:\u001b[0m\u001b[0;34m\u001b[0m\u001b[0;34m\u001b[0m\u001b[0m\n\u001b[0;32m--> 638\u001b[0;31m         \u001b[0mself\u001b[0m\u001b[0;34m.\u001b[0m\u001b[0mwait\u001b[0m\u001b[0;34m(\u001b[0m\u001b[0mtimeout\u001b[0m\u001b[0;34m)\u001b[0m\u001b[0;34m\u001b[0m\u001b[0;34m\u001b[0m\u001b[0m\n\u001b[0m\u001b[1;32m    639\u001b[0m         \u001b[0;32mif\u001b[0m \u001b[0;32mnot\u001b[0m \u001b[0mself\u001b[0m\u001b[0;34m.\u001b[0m\u001b[0mready\u001b[0m\u001b[0;34m(\u001b[0m\u001b[0;34m)\u001b[0m\u001b[0;34m:\u001b[0m\u001b[0;34m\u001b[0m\u001b[0;34m\u001b[0m\u001b[0m\n\u001b[1;32m    640\u001b[0m             \u001b[0;32mraise\u001b[0m \u001b[0mTimeoutError\u001b[0m\u001b[0;34m\u001b[0m\u001b[0;34m\u001b[0m\u001b[0m\n",
      "\u001b[0;32m/Library/Frameworks/Python.framework/Versions/3.6/lib/python3.6/multiprocessing/pool.py\u001b[0m in \u001b[0;36mwait\u001b[0;34m(self, timeout)\u001b[0m\n\u001b[1;32m    633\u001b[0m \u001b[0;34m\u001b[0m\u001b[0m\n\u001b[1;32m    634\u001b[0m     \u001b[0;32mdef\u001b[0m \u001b[0mwait\u001b[0m\u001b[0;34m(\u001b[0m\u001b[0mself\u001b[0m\u001b[0;34m,\u001b[0m \u001b[0mtimeout\u001b[0m\u001b[0;34m=\u001b[0m\u001b[0;32mNone\u001b[0m\u001b[0;34m)\u001b[0m\u001b[0;34m:\u001b[0m\u001b[0;34m\u001b[0m\u001b[0;34m\u001b[0m\u001b[0m\n\u001b[0;32m--> 635\u001b[0;31m         \u001b[0mself\u001b[0m\u001b[0;34m.\u001b[0m\u001b[0m_event\u001b[0m\u001b[0;34m.\u001b[0m\u001b[0mwait\u001b[0m\u001b[0;34m(\u001b[0m\u001b[0mtimeout\u001b[0m\u001b[0;34m)\u001b[0m\u001b[0;34m\u001b[0m\u001b[0;34m\u001b[0m\u001b[0m\n\u001b[0m\u001b[1;32m    636\u001b[0m \u001b[0;34m\u001b[0m\u001b[0m\n\u001b[1;32m    637\u001b[0m     \u001b[0;32mdef\u001b[0m \u001b[0mget\u001b[0m\u001b[0;34m(\u001b[0m\u001b[0mself\u001b[0m\u001b[0;34m,\u001b[0m \u001b[0mtimeout\u001b[0m\u001b[0;34m=\u001b[0m\u001b[0;32mNone\u001b[0m\u001b[0;34m)\u001b[0m\u001b[0;34m:\u001b[0m\u001b[0;34m\u001b[0m\u001b[0;34m\u001b[0m\u001b[0m\n",
      "\u001b[0;32m/Library/Frameworks/Python.framework/Versions/3.6/lib/python3.6/threading.py\u001b[0m in \u001b[0;36mwait\u001b[0;34m(self, timeout)\u001b[0m\n\u001b[1;32m    549\u001b[0m             \u001b[0msignaled\u001b[0m \u001b[0;34m=\u001b[0m \u001b[0mself\u001b[0m\u001b[0;34m.\u001b[0m\u001b[0m_flag\u001b[0m\u001b[0;34m\u001b[0m\u001b[0;34m\u001b[0m\u001b[0m\n\u001b[1;32m    550\u001b[0m             \u001b[0;32mif\u001b[0m \u001b[0;32mnot\u001b[0m \u001b[0msignaled\u001b[0m\u001b[0;34m:\u001b[0m\u001b[0;34m\u001b[0m\u001b[0;34m\u001b[0m\u001b[0m\n\u001b[0;32m--> 551\u001b[0;31m                 \u001b[0msignaled\u001b[0m \u001b[0;34m=\u001b[0m \u001b[0mself\u001b[0m\u001b[0;34m.\u001b[0m\u001b[0m_cond\u001b[0m\u001b[0;34m.\u001b[0m\u001b[0mwait\u001b[0m\u001b[0;34m(\u001b[0m\u001b[0mtimeout\u001b[0m\u001b[0;34m)\u001b[0m\u001b[0;34m\u001b[0m\u001b[0;34m\u001b[0m\u001b[0m\n\u001b[0m\u001b[1;32m    552\u001b[0m             \u001b[0;32mreturn\u001b[0m \u001b[0msignaled\u001b[0m\u001b[0;34m\u001b[0m\u001b[0;34m\u001b[0m\u001b[0m\n\u001b[1;32m    553\u001b[0m \u001b[0;34m\u001b[0m\u001b[0m\n",
      "\u001b[0;32m/Library/Frameworks/Python.framework/Versions/3.6/lib/python3.6/threading.py\u001b[0m in \u001b[0;36mwait\u001b[0;34m(self, timeout)\u001b[0m\n\u001b[1;32m    293\u001b[0m         \u001b[0;32mtry\u001b[0m\u001b[0;34m:\u001b[0m    \u001b[0;31m# restore state no matter what (e.g., KeyboardInterrupt)\u001b[0m\u001b[0;34m\u001b[0m\u001b[0;34m\u001b[0m\u001b[0m\n\u001b[1;32m    294\u001b[0m             \u001b[0;32mif\u001b[0m \u001b[0mtimeout\u001b[0m \u001b[0;32mis\u001b[0m \u001b[0;32mNone\u001b[0m\u001b[0;34m:\u001b[0m\u001b[0;34m\u001b[0m\u001b[0;34m\u001b[0m\u001b[0m\n\u001b[0;32m--> 295\u001b[0;31m                 \u001b[0mwaiter\u001b[0m\u001b[0;34m.\u001b[0m\u001b[0macquire\u001b[0m\u001b[0;34m(\u001b[0m\u001b[0;34m)\u001b[0m\u001b[0;34m\u001b[0m\u001b[0;34m\u001b[0m\u001b[0m\n\u001b[0m\u001b[1;32m    296\u001b[0m                 \u001b[0mgotit\u001b[0m \u001b[0;34m=\u001b[0m \u001b[0;32mTrue\u001b[0m\u001b[0;34m\u001b[0m\u001b[0;34m\u001b[0m\u001b[0m\n\u001b[1;32m    297\u001b[0m             \u001b[0;32melse\u001b[0m\u001b[0;34m:\u001b[0m\u001b[0;34m\u001b[0m\u001b[0;34m\u001b[0m\u001b[0m\n",
      "\u001b[0;31mKeyboardInterrupt\u001b[0m: "
     ]
    }
   ],
   "source": [
    "args = get_base_args()\n",
    "hmm = GenerativeHMM(args)\n",
    "print(hmm.num_characters, hmm.hidden_size)\n",
    "x_train = get_data(X_train, medium_length, 1000)\n",
    "x_valid = get_data(X_train, medium_length, 1000)\n",
    "train_loss_history = []\n",
    "for epoch in range(1, 101):\n",
    "    total_train_loss = 0\n",
    "    improvement, hist = hmm.model.fit(x_train, max_iterations=1, pseudocount=1, n_jobs= hmm.n_jobs, return_history=True)\n",
    "    print(\"Epoch {0}. Improvement: {1}, last log probability: {2}. current neg log probability {3}\".format(\n",
    "                        epoch, hist.total_improvement[0], hist.initial_log_probability, hist.log_probabilities))\n",
    "    print(-sum([hmm.model.log_probability(x_train[i]) for i in range(len(x_train))]) / len(x_train))\n",
    "    print(-sum(hmm.model.log_probability(x_test[i]) for i in range(len(x_test))) / len(x_test))\n",
    "\n",
    "x_test = get_data(X_train, medium_length, 100)"
   ]
  },
  {
   "cell_type": "code",
   "execution_count": 58,
   "metadata": {
    "scrolled": true
   },
   "outputs": [
    {
     "name": "stdout",
     "output_type": "stream",
     "text": [
      "0.0\n",
      "3.0381551702700104e-10\n",
      "2.7012103881314226e-22\n",
      "3.0381551702700104e-10\n",
      "3.2320799683723786e-12\n",
      "3.0381551702700104e-10\n",
      "0.0\n",
      "6.200316694498537e-12\n",
      "0.0\n",
      "0.0\n",
      "3.0381551702700104e-10\n",
      "7.995145184921112e-12\n",
      "4.797087110952642e-12\n",
      "3.0381551702700104e-10\n",
      "6.52224667018753e-18\n",
      "5.240333403890258e-20\n",
      "3.0688436063333424e-12\n",
      "3.181314314418894e-12\n",
      "6.200316694498537e-12\n",
      "3.0688436063333315e-12\n",
      "3.0381551702700104e-10\n",
      "3.0688436063333424e-12\n",
      "3.0381551702700104e-10\n",
      "3.0381551702700104e-10\n",
      "0.0\n",
      "0.0\n",
      "3.0381551702700104e-10\n",
      "0.0\n",
      "3.0381551702700104e-10\n",
      "3.0381551702700104e-10\n",
      "6.242784596445215e-12\n",
      "7.95328578604713e-12\n",
      "3.0381551702700104e-10\n",
      "3.0381551702700104e-10\n",
      "3.0381551702700104e-10\n",
      "9.857028310176642e-14\n",
      "7.995145184921112e-12\n",
      "1.2557819662179663e-13\n",
      "3.824898350852471e-16\n",
      "3.0381551702700104e-10\n",
      "3.0381551702700104e-10\n",
      "3.0381551702700104e-10\n",
      "3.0381551702700104e-10\n",
      "0.0\n",
      "3.0381551702700104e-10\n",
      "0.0\n",
      "3.0381551702700104e-10\n",
      "3.2320799683723786e-12\n",
      "3.2966321329403576e-10\n",
      "0.0\n",
      "0.0\n",
      "3.0688436063333315e-12\n",
      "3.0381551702700104e-10\n",
      "0.0\n",
      "1.5990290369842122e-12\n",
      "3.0381551702700104e-10\n",
      "0.0\n",
      "2.34081641808816e-47\n",
      "3.198058073968442e-12\n",
      "6.242784596445215e-12\n",
      "3.0381551702700104e-10\n",
      "3.0381551702700104e-10\n",
      "0.0\n",
      "3.0381551702700104e-10\n",
      "3.0381551702700104e-10\n",
      "0.0\n",
      "3.0381551702700104e-10\n",
      "3.0381551702700104e-10\n",
      "3.0381551702700104e-10\n",
      "3.0381551702700104e-10\n",
      "2.4393771093761e-47\n",
      "0.0\n",
      "0.0\n",
      "3.0381551702700104e-10\n",
      "1.265897987612514e-11\n",
      "3.0381551702700104e-10\n",
      "3.0381551702700104e-10\n",
      "0.0\n",
      "3.100158337010209e-12\n",
      "2.271033434100545e-13\n",
      "3.0381551702700104e-10\n",
      "3.0381551702700104e-10\n",
      "3.0381551702700104e-10\n",
      "3.198058020060092e-12\n",
      "3.0381551702700104e-10\n",
      "3.0381551702700104e-10\n",
      "1.514869633581177e-13\n",
      "3.0381551702700104e-10\n",
      "3.0688436063333533e-12\n",
      "3.0381551702700104e-10\n",
      "3.0381551702700104e-10\n",
      "0.0\n",
      "9.594174221905336e-12\n",
      "3.0381551702700104e-10\n",
      "0.0\n",
      "3.0381551702700104e-10\n",
      "3.0381551702700104e-10\n",
      "3.0381551702700104e-10\n",
      "3.0381551702700104e-10\n",
      "3.0381551702700104e-10\n"
     ]
    }
   ],
   "source": [
    "from utils import one_hot_encode, one_hot_decode\n",
    "x_encoded = one_hot_encode(x_test, get_all_amino_acids())\n",
    "for i in range(len(x_test)):\n",
    "    z = hmm.model.log_probability(x_test[i])\n",
    "    print(np.e ** z)"
   ]
  },
  {
   "cell_type": "code",
   "execution_count": 21,
   "metadata": {},
   "outputs": [
    {
     "data": {
      "text/plain": [
       "'\\n10, 100 sequences, 100 iterations, 100 sequences. \\n10, 200, 1e8, 100 sequences, \\n10, 200, 1000, 100 sequences. \\n10, 500, 1000, 100 sequences. \\n10, 200, 1000, 10000 seqeunces. \\n\\n\\n## Fit 3 types.\\n## Fit small data -> large data. \\n## Fit with different hidden sizes 10, 50, 200. \\n## fit until it 1e8, 1e2 iterations\\n## all with more cores 5\\n## record times of all these. \\n'"
      ]
     },
     "execution_count": 21,
     "metadata": {},
     "output_type": "execute_result"
    }
   ],
   "source": [
    "\"\"\"\n",
    "10, 100 sequences, 100 iterations, 100 sequences. \n",
    "10, 200, 1e8, 100 sequences, \n",
    "10, 200, 1000, 100 sequences. \n",
    "10, 500, 1000, 100 sequences. \n",
    "10, 200, 1000, 10000 seqeunces. \n",
    "\n",
    "\n",
    "## Fit 3 types.\n",
    "## Fit small data -> large data. \n",
    "## Fit with different hidden sizes 10, 50, 200. \n",
    "## fit until it 1e8, 1e2 iterations\n",
    "## all with more cores 5\n",
    "## record times of all these. \n",
    "\"\"\""
   ]
  },
  {
   "cell_type": "code",
   "execution_count": 135,
   "metadata": {},
   "outputs": [
    {
     "data": {
      "image/png": "[encoded data removed]",
      "text/plain": [
       "<Figure size 432x288 with 1 Axes>"
      ]
     },
     "metadata": {},
     "output_type": "display_data"
    }
   ],
   "source": [
    "fig = hmm.model.plot()\n",
    "hmm.model.plot()"
   ]
  },
  {
   "cell_type": "code",
   "execution_count": null,
   "metadata": {},
   "outputs": [],
   "source": []
  }
 ],
 "metadata": {
  "kernelspec": {
   "display_name": "Python 3",
   "language": "python",
   "name": "python3"
  },
  "language_info": {
   "codemirror_mode": {
    "name": "ipython",
    "version": 3
   },
   "file_extension": ".py",
   "mimetype": "text/x-python",
   "name": "python",
   "nbconvert_exporter": "python",
   "pygments_lexer": "ipython3",
   "version": "3.6.8"
  }
 },
 "nbformat": 4,
 "nbformat_minor": 2
}
