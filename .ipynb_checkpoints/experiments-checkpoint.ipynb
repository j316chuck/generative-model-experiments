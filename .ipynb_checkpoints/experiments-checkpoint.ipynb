{
 "cells": [
  {
   "cell_type": "code",
   "execution_count": 49,
   "metadata": {},
   "outputs": [],
   "source": [
    "import pandas as pd\n",
    "import numpy as np\n",
    "import time \n",
    "\n",
    "from sklearn.model_selection import train_test_split\n",
    "from utils import load_gfp_data, one_hot_decode, one_hot_encode, normalize"
   ]
  },
  {
   "cell_type": "code",
   "execution_count": 2,
   "metadata": {},
   "outputs": [
    {
     "name": "stdout",
     "output_type": "stream",
     "text": [
      "Loading data...\n",
      "Finished loading data in 18.83 seconds\n"
     ]
    }
   ],
   "source": [
    "print(\"Loading data...\")\n",
    "start_time = time.time()\n",
    "X_train, X_test, y_train, y_test = load_gfp_data()\n",
    "print(\"Finished loading data in {0:.2f} seconds\".format(time.time() - start_time))"
   ]
  },
  {
   "cell_type": "code",
   "execution_count": 116,
   "metadata": {},
   "outputs": [],
   "source": [
    "def generate_random_gfp_data_mutations(num_of_mutations_lst, num_per_mutation_count = 1000): \n",
    "    \"\"\"\n",
    "    Input: num_of_mutations_lst is a list defining the count of mutations from the base sequence we want, \n",
    "           num_per_mutation_count is an int defining how many of each mutation count do we want. Often set to the test size\n",
    "    Output: a pandas dataframe comprised of two columns: the number of mutations and the mutation dna sequence\n",
    "    \"\"\"\n",
    "    start_time = time.time()\n",
    "    total_data_points = len(num_of_mutations_lst) * num_per_mutation_count\n",
    "    assert(total_data_points < 200000)\n",
    "    wild_type_sequence = pd.read_csv(\"./data/gfp_data.csv\")[\"nucSequence\"].values[0]\n",
    "    wild_type_lst = list(wild_type_sequence)\n",
    "    mutation_lst = np.vstack([wild_type_lst] * total_data_points)\n",
    "    mutation_count_lst = np.array([[mutation_count for _ in range(num_per_mutation_count)] for mutation_count in num_of_mutations_lst]).flatten()\n",
    "    \"\"\"\n",
    "    np.testing.assert_array_equal(mutation_lst[0], mutation_lst[1000])\n",
    "    np.testing.assert_array_equal(mutation_lst[0], wild_type_lst)\n",
    "    assert(len(mutation_lst) == total_data_points and len(mutation_count_lst) == len(mutation_lst))\n",
    "    assert(mutation_count_lst[0] == 1 and mutation_count_lst[num_per_mutation_count] == 2 and mutation_count_lst[num_per_mutation_count - 1] == 1)\n",
    "    \"\"\"\n",
    "    bases = \"ACTG\"\n",
    "    index = list(range(0, 4))\n",
    "    base_index_map = dict(zip(bases, index))\n",
    "    index_base_map = dict(zip(index, bases))\n",
    "\n",
    "    for i, mutation_count in enumerate(mutation_count_lst):   \n",
    "        mutation_index = np.random.choice(len(wild_type_sequence), mutation_count, replace = False).tolist()\n",
    "        for j in mutation_index: \n",
    "            k = base_index_map[mutation_lst[i, j]]\n",
    "            new_index = (k + np.random.randint(1, 4)) % 4\n",
    "            mutation_lst[i, j] = index_base_map[new_index] \n",
    "    mutation_sequence_lst = np.array([\"\".join(lst) for lst in mutation_lst])\n",
    "    mutated_df = pd.DataFrame.from_dict({'mutation_count' : mutation_count_lst, 'mutation_sequence' : mutation_sequence_lst})\n",
    "    print(time.time() - start_time)\n",
    "    return mutated_df\n",
    "        "
   ]
  },
  {
   "cell_type": "code",
   "execution_count": 119,
   "metadata": {},
   "outputs": [],
   "source": []
  },
  {
   "cell_type": "code",
   "execution_count": 138,
   "metadata": {},
   "outputs": [],
   "source": [
    "def save_gfp_data(X_train, X_test, y_train, y_test): \n",
    "    np.save(\"./data/gfp_x_train.npy\", X_train)\n",
    "    np.save(\"./data/gfp_x_test.npy\", X_test)\n",
    "    np.save(\"./data/gfp_y_train.npy\", y_train)\n",
    "    np.save(\"./data/gfp_y_test.npy\", y_test)\n",
    "    \n",
    "def load_saved_gfp_data(): \n",
    "    X_train = np.load(\"./data/gfp_x_train.npy\")\n",
    "    X_test = np.load(\"./data/gfp_x_test.npy\")\n",
    "    y_train = np.load(\"./data/gfp_y_train.npy\")\n",
    "    y_test = np.load(\"./data/gfp_y_test.npy\")\n",
    "    return X_train, X_test, y_train, y_test\n",
    "\n",
    "def save_mutated_gfp_data(mutated_df): \n",
    "    mutated_df.to_csv(\"./data/mutated_df.csv\", index = None)\n",
    "    \n",
    "def load_saved_mutated_gfp_data(): \n",
    "    return pd.read_csv(\"./data/mutated_df.csv\")\n"
   ]
  },
  {
   "cell_type": "code",
   "execution_count": null,
   "metadata": {},
   "outputs": [],
   "source": [
    "def test_mutation_df(mutated_df): \n",
    "    for i in range(len(mutated_df)): \n",
    "        assert(mutated_df[\"mutation_count\"].values[i] == count_substring_mismatch(base_sequence, mutated_df[\"mutation_sequence\"].values[i]))\n",
    "    assert(len(mutated_df) == test_size * len(num_of_mutations_lst))"
   ]
  },
  {
   "cell_type": "code",
   "execution_count": 144,
   "metadata": {},
   "outputs": [],
   "source": [
    "def test_mutation_df(mutated_df): \n",
    "    for i in range(len(mutated_df)): \n",
    "        assert(mutated_df[\"mutation_count\"].values[i] == count_substring_mismatch(base_sequence, mutated_df[\"mutation_sequence\"].values[i]))\n",
    "    assert(len(mutated_df) == test_size * len(num_of_mutations_lst))\n",
    "    \n",
    "def test_load_save_mutation_df(mutated_df): \n",
    "    save_mutated_gfp_data(mutated_df)\n",
    "    df_mutated = load_saved_mutated_gfp_data()\n",
    "    np.testing.assert_array_equal(df_mutated.columns, mutated_df.columns)\n",
    "    np.testing.assert_array_equal(df_mutated.index, mutated_df.index)\n",
    "    np.testing.assert_array_equal(df_mutated.values, mutated_df.values)\n",
    "    \n",
    "def test_load_save_gfp_data(X_train, X_test, y_train, y_test):\n",
    "    save_gfp_data(X_train, X_test, y_train, y_test)\n",
    "    train_X, test_X, train_y, test_y = load_saved_gfp_data()\n",
    "    np.testing.assert_array_equal(train_X, X_train)\n",
    "    np.testing.assert_array_equal(test_X, X_test)\n",
    "    np.testing.assert_array_equal(train_y, y_train)\n",
    "    np.testing.assert_array_equal(test_y, y_test)"
   ]
  },
  {
   "cell_type": "code",
   "execution_count": 139,
   "metadata": {},
   "outputs": [],
   "source": [
    "save_gfp_data(X_train, X_test, y_train, y_test)"
   ]
  },
  {
   "cell_type": "code",
   "execution_count": 126,
   "metadata": {},
   "outputs": [],
   "source": [
    "train_X, test_X, train_y, test_y = load_saved_gfp_data()"
   ]
  },
  {
   "cell_type": "code",
   "execution_count": 133,
   "metadata": {},
   "outputs": [],
   "source": []
  },
  {
   "cell_type": "code",
   "execution_count": 134,
   "metadata": {},
   "outputs": [],
   "source": [
    "df_mutated = pd.read_csv(\"./data/mutated_df.csv\")"
   ]
  },
  {
   "cell_type": "code",
   "execution_count": 146,
   "metadata": {},
   "outputs": [],
   "source": [
    "test_mutation_df(mutated_df)\n",
    "test_load_save_mutation_df(mutated_df)\n",
    "test_load_save_gfp_data(X_train, X_test, y_train, y_test)"
   ]
  },
  {
   "cell_type": "code",
   "execution_count": null,
   "metadata": {},
   "outputs": [],
   "source": []
  },
  {
   "cell_type": "code",
   "execution_count": 140,
   "metadata": {},
   "outputs": [],
   "source": [
    "np.testing.assert_array_equal(train_X, X_train)\n",
    "np.testing.assert_array_equal(test_X, X_test)\n",
    "np.testing.assert_array_equal(train_y, y_train)\n",
    "np.testing.assert_array_equal(test_y, y_test)"
   ]
  }
 ],
 "metadata": {
  "kernelspec": {
   "display_name": "Python 3",
   "language": "python",
   "name": "python3"
  },
  "language_info": {
   "codemirror_mode": {
    "name": "ipython",
    "version": 3
   },
   "file_extension": ".py",
   "mimetype": "text/x-python",
   "name": "python",
   "nbconvert_exporter": "python",
   "pygments_lexer": "ipython3",
   "version": "3.6.8"
  }
 },
 "nbformat": 4,
 "nbformat_minor": 2
}
